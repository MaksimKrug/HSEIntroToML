{
 "cells": [
  {
   "cell_type": "code",
   "execution_count": 1,
   "metadata": {},
   "outputs": [],
   "source": [
    "import numpy as np\n",
    "import pandas as pd\n",
    "import matplotlib.pyplot as plt\n",
    "import seaborn as sns\n",
    "from tqdm import tqdm"
   ]
  },
  {
   "cell_type": "code",
   "execution_count": 2,
   "metadata": {},
   "outputs": [
    {
     "data": {
      "text/plain": [
       "(283043, 33)"
      ]
     },
     "execution_count": 2,
     "metadata": {},
     "output_type": "execute_result"
    }
   ],
   "source": [
    "df = pd.read_csv('Data_Preprocessed.csv')\n",
    "df.shape"
   ]
  },
  {
   "cell_type": "code",
   "execution_count": 3,
   "metadata": {},
   "outputs": [],
   "source": [
    "# нормализация из прошлого скрипта\n",
    "from sklearn.preprocessing import StandardScaler, MinMaxScaler\n",
    "normalize_columns = ['price', 'powerPS', 'model', 'brand', 'Age']\n",
    "scaler = MinMaxScaler()\n",
    "df[normalize_columns] = scaler.fit_transform(df[normalize_columns])"
   ]
  },
  {
   "cell_type": "code",
   "execution_count": 4,
   "metadata": {},
   "outputs": [
    {
     "data": {
      "text/plain": [
       "((226434, 32), (56609, 32))"
      ]
     },
     "execution_count": 4,
     "metadata": {},
     "output_type": "execute_result"
    }
   ],
   "source": [
    "from sklearn.model_selection import train_test_split\n",
    "X_train, X_test, y_train, y_test = train_test_split(df.drop(columns=['kilometer']), df['kilometer'],\n",
    "                                                    test_size=0.2, random_state=42)\n",
    "X_train.shape, X_test.shape"
   ]
  },
  {
   "cell_type": "code",
   "execution_count": 5,
   "metadata": {},
   "outputs": [
    {
     "data": {
      "text/plain": [
       "1    0.762121\n",
       "0    0.237879\n",
       "Name: kilometer, dtype: float64"
      ]
     },
     "execution_count": 5,
     "metadata": {},
     "output_type": "execute_result"
    }
   ],
   "source": [
    "# В качестве baseline возьмем наивный классификатор, его качество будет около 76%\n",
    "df['kilometer'].value_counts(normalize=True)"
   ]
  },
  {
   "cell_type": "markdown",
   "metadata": {},
   "source": [
    "## Обучим нейронку"
   ]
  },
  {
   "cell_type": "code",
   "execution_count": 6,
   "metadata": {},
   "outputs": [],
   "source": [
    "import tensorflow as tf\n",
    "from tensorflow import keras"
   ]
  },
  {
   "cell_type": "markdown",
   "metadata": {},
   "source": [
    "Задача нейронкой скорее всего не очень хорошо решается, так что ниже скрипты будут скорее чтобы показать, что так можно делать"
   ]
  },
  {
   "cell_type": "markdown",
   "metadata": {},
   "source": [
    "#### Один слой"
   ]
  },
  {
   "cell_type": "code",
   "execution_count": 7,
   "metadata": {},
   "outputs": [],
   "source": [
    "model = keras.Sequential([\n",
    "    keras.layers.Dense(64, activation='relu'),\n",
    "    keras.layers.Dense(2, activation='softmax')\n",
    "])\n",
    "model.compile(optimizer='adam',\n",
    "              loss='sparse_categorical_crossentropy',\n",
    "              metrics=['accuracy'])"
   ]
  },
  {
   "cell_type": "code",
   "execution_count": 8,
   "metadata": {},
   "outputs": [
    {
     "name": "stdout",
     "output_type": "stream",
     "text": [
      "Epoch 1/10\n",
      "WARNING:tensorflow:Layer flatten is casting an input tensor from dtype float64 to the layer's dtype of float32, which is new behavior in TensorFlow 2.  The layer has dtype float32 because its dtype defaults to floatx.\n",
      "\n",
      "If you intended to run this layer in float32, you can safely ignore this warning. If in doubt, this warning is likely only an issue if you are porting a TensorFlow 1.X model to TensorFlow 2.\n",
      "\n",
      "To change all layers to have dtype float64 by default, call `tf.keras.backend.set_floatx('float64')`. To change just this layer, pass dtype='float64' to the layer constructor. If you are the author of this layer, you can disable autocasting by passing autocast=False to the base Layer constructor.\n",
      "\n",
      "5661/5661 [==============================] - 4s 630us/step - loss: 0.3809 - accuracy: 0.8464 - val_loss: 0.3524 - val_accuracy: 0.8601\n",
      "Epoch 2/10\n",
      "5661/5661 [==============================] - 4s 637us/step - loss: 0.3480 - accuracy: 0.8614 - val_loss: 0.3464 - val_accuracy: 0.8609\n",
      "Epoch 3/10\n",
      "5661/5661 [==============================] - 4s 660us/step - loss: 0.3441 - accuracy: 0.8618 - val_loss: 0.3440 - val_accuracy: 0.8626\n",
      "Epoch 4/10\n",
      "5661/5661 [==============================] - 4s 697us/step - loss: 0.3414 - accuracy: 0.8629 - val_loss: 0.3528 - val_accuracy: 0.8586\n",
      "Epoch 5/10\n",
      "5661/5661 [==============================] - 3s 597us/step - loss: 0.3396 - accuracy: 0.8636 - val_loss: 0.3401 - val_accuracy: 0.8643\n",
      "Epoch 6/10\n",
      "5661/5661 [==============================] - 3s 584us/step - loss: 0.3380 - accuracy: 0.8640 - val_loss: 0.3413 - val_accuracy: 0.8630\n",
      "Epoch 7/10\n",
      "5661/5661 [==============================] - 3s 595us/step - loss: 0.3371 - accuracy: 0.8642 - val_loss: 0.3395 - val_accuracy: 0.8633\n",
      "Epoch 8/10\n",
      "5661/5661 [==============================] - 3s 614us/step - loss: 0.3363 - accuracy: 0.8649 - val_loss: 0.3409 - val_accuracy: 0.8636\n",
      "Epoch 9/10\n",
      "5661/5661 [==============================] - 3s 588us/step - loss: 0.3354 - accuracy: 0.8646 - val_loss: 0.3411 - val_accuracy: 0.8636\n",
      "Epoch 10/10\n",
      "5661/5661 [==============================] - 3s 584us/step - loss: 0.3349 - accuracy: 0.8651 - val_loss: 0.3380 - val_accuracy: 0.8637\n"
     ]
    },
    {
     "data": {
      "text/plain": [
       "<tensorflow.python.keras.callbacks.History at 0x29a791c8a48>"
      ]
     },
     "execution_count": 8,
     "metadata": {},
     "output_type": "execute_result"
    }
   ],
   "source": [
    "model.fit(X_train, y_train, epochs=10, validation_split=0.2)"
   ]
  },
  {
   "cell_type": "markdown",
   "metadata": {},
   "source": [
    "#### Добавим слоев"
   ]
  },
  {
   "cell_type": "code",
   "execution_count": 9,
   "metadata": {},
   "outputs": [],
   "source": [
    "model = keras.Sequential([\n",
    "    keras.layers.Dense(64, activation='relu'),\n",
    "    keras.layers.Dense(128, activation='relu'),\n",
    "    keras.layers.Dense(32, activation='relu'),\n",
    "    keras.layers.Dense(2, activation='softmax')\n",
    "])\n",
    "model.compile(optimizer='adam',\n",
    "              loss='sparse_categorical_crossentropy',\n",
    "              metrics=['accuracy'])"
   ]
  },
  {
   "cell_type": "code",
   "execution_count": 10,
   "metadata": {},
   "outputs": [
    {
     "name": "stdout",
     "output_type": "stream",
     "text": [
      "Epoch 1/10\n",
      "WARNING:tensorflow:Layer flatten_1 is casting an input tensor from dtype float64 to the layer's dtype of float32, which is new behavior in TensorFlow 2.  The layer has dtype float32 because its dtype defaults to floatx.\n",
      "\n",
      "If you intended to run this layer in float32, you can safely ignore this warning. If in doubt, this warning is likely only an issue if you are porting a TensorFlow 1.X model to TensorFlow 2.\n",
      "\n",
      "To change all layers to have dtype float64 by default, call `tf.keras.backend.set_floatx('float64')`. To change just this layer, pass dtype='float64' to the layer constructor. If you are the author of this layer, you can disable autocasting by passing autocast=False to the base Layer constructor.\n",
      "\n",
      "5661/5661 [==============================] - 4s 738us/step - loss: 0.3652 - accuracy: 0.8515 - val_loss: 0.3619 - val_accuracy: 0.8511\n",
      "Epoch 2/10\n",
      "5661/5661 [==============================] - 4s 704us/step - loss: 0.3467 - accuracy: 0.8601 - val_loss: 0.3441 - val_accuracy: 0.8621\n",
      "Epoch 3/10\n",
      "5661/5661 [==============================] - 4s 690us/step - loss: 0.3423 - accuracy: 0.8619 - val_loss: 0.3420 - val_accuracy: 0.8611\n",
      "Epoch 4/10\n",
      "5661/5661 [==============================] - 4s 700us/step - loss: 0.3397 - accuracy: 0.8627 - val_loss: 0.3387 - val_accuracy: 0.8632\n",
      "Epoch 5/10\n",
      "5661/5661 [==============================] - 4s 691us/step - loss: 0.3371 - accuracy: 0.8638 - val_loss: 0.3394 - val_accuracy: 0.8639\n",
      "Epoch 6/10\n",
      "5661/5661 [==============================] - 4s 715us/step - loss: 0.3350 - accuracy: 0.8651 - val_loss: 0.3466 - val_accuracy: 0.8600\n",
      "Epoch 7/10\n",
      "5661/5661 [==============================] - 4s 698us/step - loss: 0.3336 - accuracy: 0.8651 - val_loss: 0.3338 - val_accuracy: 0.8656\n",
      "Epoch 8/10\n",
      "5661/5661 [==============================] - 4s 683us/step - loss: 0.3324 - accuracy: 0.8657 - val_loss: 0.3343 - val_accuracy: 0.8655\n",
      "Epoch 9/10\n",
      "5661/5661 [==============================] - 4s 684us/step - loss: 0.3308 - accuracy: 0.8659 - val_loss: 0.3376 - val_accuracy: 0.8641\n",
      "Epoch 10/10\n",
      "5661/5661 [==============================] - 4s 707us/step - loss: 0.3302 - accuracy: 0.8666 - val_loss: 0.3331 - val_accuracy: 0.8664\n"
     ]
    },
    {
     "data": {
      "text/plain": [
       "<tensorflow.python.keras.callbacks.History at 0x29a0a4382c8>"
      ]
     },
     "execution_count": 10,
     "metadata": {},
     "output_type": "execute_result"
    }
   ],
   "source": [
    "model.fit(X_train, y_train, epochs=10, validation_split=0.2)"
   ]
  },
  {
   "cell_type": "markdown",
   "metadata": {},
   "source": [
    "#### Попробуем по батчам"
   ]
  },
  {
   "cell_type": "code",
   "execution_count": 16,
   "metadata": {},
   "outputs": [],
   "source": [
    "model = keras.Sequential([\n",
    "    keras.layers.Dense(64, activation='relu'),\n",
    "    keras.layers.Dense(128, activation='relu'),\n",
    "    keras.layers.Dense(32, activation='relu'),\n",
    "    keras.layers.Dense(2, activation='softmax')\n",
    "])\n",
    "model.compile(optimizer='adam',\n",
    "              loss='sparse_categorical_crossentropy',\n",
    "              metrics=['accuracy'])"
   ]
  },
  {
   "cell_type": "code",
   "execution_count": 17,
   "metadata": {},
   "outputs": [
    {
     "name": "stdout",
     "output_type": "stream",
     "text": [
      "Epoch 1/10\n",
      "WARNING:tensorflow:Layer dense_10 is casting an input tensor from dtype float64 to the layer's dtype of float32, which is new behavior in TensorFlow 2.  The layer has dtype float32 because its dtype defaults to floatx.\n",
      "\n",
      "If you intended to run this layer in float32, you can safely ignore this warning. If in doubt, this warning is likely only an issue if you are porting a TensorFlow 1.X model to TensorFlow 2.\n",
      "\n",
      "To change all layers to have dtype float64 by default, call `tf.keras.backend.set_floatx('float64')`. To change just this layer, pass dtype='float64' to the layer constructor. If you are the author of this layer, you can disable autocasting by passing autocast=False to the base Layer constructor.\n",
      "\n",
      "1416/1416 [==============================] - 1s 980us/step - loss: 0.3696 - accuracy: 0.8500 - val_loss: 0.3495 - val_accuracy: 0.8602\n",
      "Epoch 2/10\n",
      "1416/1416 [==============================] - 1s 867us/step - loss: 0.3461 - accuracy: 0.8605 - val_loss: 0.3430 - val_accuracy: 0.8629\n",
      "Epoch 3/10\n",
      "1416/1416 [==============================] - 1s 984us/step - loss: 0.3421 - accuracy: 0.8618 - val_loss: 0.3458 - val_accuracy: 0.8609\n",
      "Epoch 4/10\n",
      "1416/1416 [==============================] - 1s 902us/step - loss: 0.3396 - accuracy: 0.8628 - val_loss: 0.3406 - val_accuracy: 0.8627\n",
      "Epoch 5/10\n",
      "1416/1416 [==============================] - 1s 953us/step - loss: 0.3384 - accuracy: 0.8632 - val_loss: 0.3408 - val_accuracy: 0.8621\n",
      "Epoch 6/10\n",
      "1416/1416 [==============================] - 1s 924us/step - loss: 0.3364 - accuracy: 0.8643 - val_loss: 0.3510 - val_accuracy: 0.8587\n",
      "Epoch 7/10\n",
      "1416/1416 [==============================] - 1s 1ms/step - loss: 0.3349 - accuracy: 0.8653 - val_loss: 0.3410 - val_accuracy: 0.8630\n",
      "Epoch 8/10\n",
      "1416/1416 [==============================] - 1s 1ms/step - loss: 0.3335 - accuracy: 0.8657 - val_loss: 0.3468 - val_accuracy: 0.8590\n",
      "Epoch 9/10\n",
      "1416/1416 [==============================] - 1s 1ms/step - loss: 0.3319 - accuracy: 0.8657 - val_loss: 0.3353 - val_accuracy: 0.8645\n",
      "Epoch 10/10\n",
      "1416/1416 [==============================] - 1s 1ms/step - loss: 0.3311 - accuracy: 0.8664 - val_loss: 0.3349 - val_accuracy: 0.8646\n"
     ]
    },
    {
     "data": {
      "text/plain": [
       "<tensorflow.python.keras.callbacks.History at 0x29a09fd22c8>"
      ]
     },
     "execution_count": 17,
     "metadata": {},
     "output_type": "execute_result"
    }
   ],
   "source": [
    "model.fit(X_train, y_train, epochs=10, validation_split=0.2, batch_size=128)"
   ]
  },
  {
   "cell_type": "markdown",
   "metadata": {},
   "source": [
    "Вообще неплохо, давайте на другие метрики на тесте посмотрим, хотя без разницы сколько слоев, по батчам только быстрее обучать выходит, что логично, затем gpu и нужен"
   ]
  },
  {
   "cell_type": "code",
   "execution_count": 13,
   "metadata": {},
   "outputs": [],
   "source": [
    "from sklearn.metrics import accuracy_score, precision_score, confusion_matrix, f1_score, recall_score"
   ]
  },
  {
   "cell_type": "code",
   "execution_count": 14,
   "metadata": {},
   "outputs": [],
   "source": [
    "y_pred = tf.argmax(model.predict(X_test), 1)"
   ]
  },
  {
   "cell_type": "code",
   "execution_count": 15,
   "metadata": {},
   "outputs": [
    {
     "name": "stdout",
     "output_type": "stream",
     "text": [
      "Test Scores\n",
      "Accuracy: 0.86, Precision: 0.87, Recall: 0.96, F1: 0.92\n"
     ]
    }
   ],
   "source": [
    "accuracy = round(accuracy_score(y_test, y_pred), 2)\n",
    "precision = round(precision_score(y_test, y_pred), 2)\n",
    "recall = round(recall_score(y_test, y_pred), 2)\n",
    "f1 = round(f1_score(y_test, y_pred), 2)\n",
    "print('Test Scores')\n",
    "print('Accuracy: {}, Precision: {}, Recall: {}, F1: {}'.format(accuracy, precision, recall, f1))"
   ]
  },
  {
   "cell_type": "markdown",
   "metadata": {},
   "source": [
    "В целом меня удовлетворяет полученное качество, с этим можно играться и дальше улучшать модель (в нейронках куда больше параметров чем в условном KNN), но не очень понятно зачем"
   ]
  },
  {
   "cell_type": "code",
   "execution_count": null,
   "metadata": {},
   "outputs": [],
   "source": []
  },
  {
   "cell_type": "code",
   "execution_count": null,
   "metadata": {},
   "outputs": [],
   "source": []
  }
 ],
 "metadata": {
  "kernelspec": {
   "display_name": "Python 3",
   "language": "python",
   "name": "python3"
  },
  "language_info": {
   "codemirror_mode": {
    "name": "ipython",
    "version": 3
   },
   "file_extension": ".py",
   "mimetype": "text/x-python",
   "name": "python",
   "nbconvert_exporter": "python",
   "pygments_lexer": "ipython3",
   "version": "3.7.7"
  }
 },
 "nbformat": 4,
 "nbformat_minor": 4
}
