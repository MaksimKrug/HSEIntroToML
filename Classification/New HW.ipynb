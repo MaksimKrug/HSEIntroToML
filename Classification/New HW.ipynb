{
 "cells": [
  {
   "cell_type": "code",
   "execution_count": 1,
   "metadata": {},
   "outputs": [],
   "source": [
    "import numpy as np\n",
    "import pandas as pd\n",
    "import matplotlib.pyplot as plt\n",
    "import seaborn as sns\n",
    "from tqdm import tqdm\n",
    "import optuna\n",
    "from sklearn.model_selection import cross_val_score\n",
    "from sklearn.metrics import f1_score\n",
    "from warnings import filterwarnings\n",
    "filterwarnings('ignore')"
   ]
  },
  {
   "cell_type": "markdown",
   "metadata": {},
   "source": [
    "## Load data"
   ]
  },
  {
   "cell_type": "code",
   "execution_count": 2,
   "metadata": {},
   "outputs": [
    {
     "data": {
      "text/plain": [
       "(283043, 33)"
      ]
     },
     "execution_count": 2,
     "metadata": {},
     "output_type": "execute_result"
    }
   ],
   "source": [
    "df = pd.read_csv('Data_Preprocessed.csv')\n",
    "df.shape"
   ]
  },
  {
   "cell_type": "code",
   "execution_count": 3,
   "metadata": {},
   "outputs": [
    {
     "data": {
      "text/plain": [
       "((226434, 32), (56609, 32))"
      ]
     },
     "execution_count": 3,
     "metadata": {},
     "output_type": "execute_result"
    }
   ],
   "source": [
    "from sklearn.model_selection import train_test_split\n",
    "X_train, X_test, y_train, y_test = train_test_split(df.drop(columns=['kilometer']), df['kilometer'],\n",
    "                                                    test_size=0.2, random_state=42)\n",
    "X_train.shape, X_test.shape"
   ]
  },
  {
   "cell_type": "code",
   "execution_count": 4,
   "metadata": {},
   "outputs": [
    {
     "data": {
      "text/plain": [
       "1    0.762121\n",
       "0    0.237879\n",
       "Name: kilometer, dtype: float64"
      ]
     },
     "execution_count": 4,
     "metadata": {},
     "output_type": "execute_result"
    }
   ],
   "source": [
    "# В качестве baseline возьмем наивный классификатор, его качество будет около 76%\n",
    "df['kilometer'].value_counts(normalize=True)"
   ]
  },
  {
   "cell_type": "code",
   "execution_count": 5,
   "metadata": {},
   "outputs": [
    {
     "data": {
      "text/html": [
       "<div>\n",
       "<style scoped>\n",
       "    .dataframe tbody tr th:only-of-type {\n",
       "        vertical-align: middle;\n",
       "    }\n",
       "\n",
       "    .dataframe tbody tr th {\n",
       "        vertical-align: top;\n",
       "    }\n",
       "\n",
       "    .dataframe thead th {\n",
       "        text-align: right;\n",
       "    }\n",
       "</style>\n",
       "<table border=\"1\" class=\"dataframe\">\n",
       "  <thead>\n",
       "    <tr style=\"text-align: right;\">\n",
       "      <th></th>\n",
       "      <th>Model</th>\n",
       "      <th>Accuracy</th>\n",
       "      <th>Precision</th>\n",
       "      <th>Recall</th>\n",
       "      <th>F1</th>\n",
       "    </tr>\n",
       "  </thead>\n",
       "  <tbody>\n",
       "    <tr>\n",
       "      <th>0</th>\n",
       "      <td>KNN</td>\n",
       "      <td>0.86</td>\n",
       "      <td>0.88</td>\n",
       "      <td>0.95</td>\n",
       "      <td>0.91</td>\n",
       "    </tr>\n",
       "    <tr>\n",
       "      <th>1</th>\n",
       "      <td>LogReg</td>\n",
       "      <td>0.85</td>\n",
       "      <td>0.87</td>\n",
       "      <td>0.95</td>\n",
       "      <td>0.91</td>\n",
       "    </tr>\n",
       "    <tr>\n",
       "      <th>2</th>\n",
       "      <td>NN</td>\n",
       "      <td>0.86</td>\n",
       "      <td>0.89</td>\n",
       "      <td>0.95</td>\n",
       "      <td>0.91</td>\n",
       "    </tr>\n",
       "  </tbody>\n",
       "</table>\n",
       "</div>"
      ],
      "text/plain": [
       "    Model  Accuracy  Precision  Recall    F1\n",
       "0     KNN      0.86       0.88    0.95  0.91\n",
       "1  LogReg      0.85       0.87    0.95  0.91\n",
       "2      NN      0.86       0.89    0.95  0.91"
      ]
     },
     "metadata": {},
     "output_type": "display_data"
    }
   ],
   "source": [
    "metrics = pd.DataFrame({'Model':['KNN', 'LogReg', 'NN'],\n",
    "                        'Accuracy':[0.86, 0.85, 0.86],\n",
    "                        'Precision':[0.88, 0.87, 0.89],\n",
    "                        'Recall':[0.95, 0.95, 0.95],\n",
    "                        'F1':[0.91, 0.91, 0.91]})\n",
    "display(metrics)"
   ]
  },
  {
   "cell_type": "markdown",
   "metadata": {},
   "source": [
    "## Random Forest"
   ]
  },
  {
   "cell_type": "markdown",
   "metadata": {},
   "source": [
    "#### some things to pass hw"
   ]
  },
  {
   "cell_type": "code",
   "execution_count": 6,
   "metadata": {},
   "outputs": [],
   "source": [
    "from sklearn.ensemble import RandomForestClassifier"
   ]
  },
  {
   "cell_type": "code",
   "execution_count": 27,
   "metadata": {},
   "outputs": [
    {
     "name": "stderr",
     "output_type": "stream",
     "text": [
      "100%|██████████| 11/11 [05:20<00:00, 29.18s/it]\n",
      "100%|██████████| 11/11 [05:29<00:00, 29.98s/it]\n",
      "100%|██████████| 11/11 [20:07<00:00, 109.74s/it]\n"
     ]
    }
   ],
   "source": [
    "oob_errors = {\"sqrt\":[], \"log2\":[], None:[]}\n",
    "\n",
    "for max_feature in [\"sqrt\", \"log2\", None]:\n",
    "    for n_estimators in tqdm(np.arange(15, 176, 15)):\n",
    "        model = RandomForestClassifier(oob_score=True, warm_start=True, random_state=42,\n",
    "                                       max_features=max_feature, n_estimators=n_estimators)\n",
    "        model.fit(X_train, y_train)\n",
    "        oob_errors[max_feature].append(1 - round(model.oob_score_, 3))"
   ]
  },
  {
   "cell_type": "code",
   "execution_count": null,
   "metadata": {},
   "outputs": [],
   "source": []
  },
  {
   "cell_type": "code",
   "execution_count": null,
   "metadata": {},
   "outputs": [],
   "source": []
  },
  {
   "cell_type": "code",
   "execution_count": null,
   "metadata": {},
   "outputs": [],
   "source": []
  },
  {
   "cell_type": "code",
   "execution_count": 30,
   "metadata": {},
   "outputs": [],
   "source": [
    "def objective(trial):\n",
    "    # params\n",
    "    criterion = trial.suggest_categorical('criterion', ['gini', 'entropy'])\n",
    "    n_estimators = trial.suggest_int('n_estimators', 50, 200)\n",
    "    max_depth = trial.suggest_int('max_depth', 10, 30)\n",
    "    max_features = trial.suggest_categorical('max_features', [\"sqrt\", \"log2\", None])\n",
    "    classifier = RandomForestClassifier(random_state=42, criterion=criterion, n_estimators=n_estimators, n_jobs=-1,\n",
    "                                        max_depth=max_depth, max_features=max_features, class_weight='balanced')\n",
    "    classifier.fit(X_train, y_train)\n",
    "    score = f1_score(y_test, classifier.predict(X_test))\n",
    "    return score"
   ]
  },
  {
   "cell_type": "code",
   "execution_count": 31,
   "metadata": {
    "scrolled": true
   },
   "outputs": [
    {
     "name": "stderr",
     "output_type": "stream",
     "text": [
      "\u001b[32m[I 2021-02-28 20:18:00,145]\u001b[0m A new study created in memory with name: no-name-4996675d-8d81-4b0c-bd19-cf3b5f9cb143\u001b[0m\n"
     ]
    },
    {
     "data": {
      "application/vnd.jupyter.widget-view+json": {
       "model_id": "190484d77b3f4ccb9bf5a21a57a2bfe7",
       "version_major": 2,
       "version_minor": 0
      },
      "text/plain": [
       "HBox(children=(HTML(value=''), FloatProgress(value=0.0), HTML(value='')))"
      ]
     },
     "metadata": {},
     "output_type": "display_data"
    },
    {
     "name": "stdout",
     "output_type": "stream",
     "text": [
      "\u001b[32m[I 2021-02-28 20:18:56,508]\u001b[0m Trial 0 finished with value: 0.9168938250467459 and parameters: {'criterion': 'gini', 'n_estimators': 149, 'max_depth': 24, 'max_features': None}. Best is trial 0 with value: 0.9168938250467459.\u001b[0m\n",
      "\u001b[32m[I 2021-02-28 20:19:13,180]\u001b[0m Trial 1 finished with value: 0.9179385642360129 and parameters: {'criterion': 'gini', 'n_estimators': 169, 'max_depth': 24, 'max_features': 'sqrt'}. Best is trial 1 with value: 0.9179385642360129.\u001b[0m\n",
      "\u001b[32m[I 2021-02-28 20:19:19,904]\u001b[0m Trial 2 finished with value: 0.8907269835995537 and parameters: {'criterion': 'entropy', 'n_estimators': 102, 'max_depth': 11, 'max_features': 'sqrt'}. Best is trial 1 with value: 0.9179385642360129.\u001b[0m\n",
      "\u001b[32m[I 2021-02-28 20:19:34,743]\u001b[0m Trial 3 finished with value: 0.9040788412303159 and parameters: {'criterion': 'gini', 'n_estimators': 181, 'max_depth': 16, 'max_features': 'sqrt'}. Best is trial 1 with value: 0.9179385642360129.\u001b[0m\n",
      "\u001b[32m[I 2021-02-28 20:19:41,507]\u001b[0m Trial 4 finished with value: 0.9014884725548199 and parameters: {'criterion': 'entropy', 'n_estimators': 82, 'max_depth': 15, 'max_features': 'sqrt'}. Best is trial 1 with value: 0.9179385642360129.\u001b[0m\n",
      "\u001b[32m[I 2021-02-28 20:19:52,546]\u001b[0m Trial 5 finished with value: 0.8983128671839129 and parameters: {'criterion': 'entropy', 'n_estimators': 135, 'max_depth': 14, 'max_features': 'log2'}. Best is trial 1 with value: 0.9179385642360129.\u001b[0m\n",
      "\u001b[32m[I 2021-02-28 20:20:19,280]\u001b[0m Trial 6 finished with value: 0.9162843004948269 and parameters: {'criterion': 'gini', 'n_estimators': 68, 'max_depth': 30, 'max_features': None}. Best is trial 1 with value: 0.9179385642360129.\u001b[0m\n",
      "\u001b[32m[I 2021-02-28 20:20:28,136]\u001b[0m Trial 7 finished with value: 0.9160084014428564 and parameters: {'criterion': 'entropy', 'n_estimators': 82, 'max_depth': 22, 'max_features': 'log2'}. Best is trial 1 with value: 0.9179385642360129.\u001b[0m\n",
      "\u001b[32m[I 2021-02-28 20:20:38,234]\u001b[0m Trial 8 finished with value: 0.9185723445180595 and parameters: {'criterion': 'entropy', 'n_estimators': 95, 'max_depth': 28, 'max_features': 'sqrt'}. Best is trial 8 with value: 0.9185723445180595.\u001b[0m\n",
      "\u001b[32m[I 2021-02-28 20:20:47,026]\u001b[0m Trial 9 finished with value: 0.8885350696878602 and parameters: {'criterion': 'gini', 'n_estimators': 143, 'max_depth': 10, 'max_features': 'sqrt'}. Best is trial 8 with value: 0.9185723445180595.\u001b[0m\n",
      "\u001b[32m[I 2021-02-28 20:20:52,883]\u001b[0m Trial 10 finished with value: 0.9177821986939565 and parameters: {'criterion': 'entropy', 'n_estimators': 51, 'max_depth': 30, 'max_features': 'log2'}. Best is trial 8 with value: 0.9185723445180595.\u001b[0m\n",
      "\u001b[32m[I 2021-02-28 20:21:12,842]\u001b[0m Trial 11 finished with value: 0.9181491454387722 and parameters: {'criterion': 'gini', 'n_estimators': 195, 'max_depth': 26, 'max_features': 'sqrt'}. Best is trial 8 with value: 0.9185723445180595.\u001b[0m\n",
      "\u001b[32m[I 2021-02-28 20:21:24,629]\u001b[0m Trial 12 finished with value: 0.9185153487534065 and parameters: {'criterion': 'entropy', 'n_estimators': 109, 'max_depth': 27, 'max_features': 'sqrt'}. Best is trial 8 with value: 0.9185723445180595.\u001b[0m\n",
      "\u001b[32m[I 2021-02-28 20:21:36,778]\u001b[0m Trial 13 finished with value: 0.9185201844147082 and parameters: {'criterion': 'entropy', 'n_estimators': 108, 'max_depth': 28, 'max_features': 'sqrt'}. Best is trial 8 with value: 0.9185723445180595.\u001b[0m\n",
      "\u001b[32m[I 2021-02-28 20:21:49,275]\u001b[0m Trial 14 finished with value: 0.9186119731930015 and parameters: {'criterion': 'entropy', 'n_estimators': 113, 'max_depth': 28, 'max_features': 'sqrt'}. Best is trial 14 with value: 0.9186119731930015.\u001b[0m\n",
      "\u001b[32m[I 2021-02-28 20:22:33,274]\u001b[0m Trial 15 finished with value: 0.915659080808196 and parameters: {'criterion': 'entropy', 'n_estimators': 120, 'max_depth': 20, 'max_features': None}. Best is trial 14 with value: 0.9186119731930015.\u001b[0m\n",
      "\u001b[32m[I 2021-02-28 20:22:43,212]\u001b[0m Trial 16 finished with value: 0.9182792798867238 and parameters: {'criterion': 'entropy', 'n_estimators': 92, 'max_depth': 29, 'max_features': 'sqrt'}. Best is trial 14 with value: 0.9186119731930015.\u001b[0m\n",
      "\u001b[32m[I 2021-02-28 20:22:50,630]\u001b[0m Trial 17 finished with value: 0.9177970699945741 and parameters: {'criterion': 'entropy', 'n_estimators': 63, 'max_depth': 25, 'max_features': 'sqrt'}. Best is trial 14 with value: 0.9186119731930015.\u001b[0m\n",
      "\u001b[32m[I 2021-02-28 20:23:03,058]\u001b[0m Trial 18 finished with value: 0.9147455415397999 and parameters: {'criterion': 'entropy', 'n_estimators': 124, 'max_depth': 21, 'max_features': 'sqrt'}. Best is trial 14 with value: 0.9186119731930015.\u001b[0m\n",
      "\u001b[32m[I 2021-02-28 20:23:16,579]\u001b[0m Trial 19 finished with value: 0.9094807106187205 and parameters: {'criterion': 'entropy', 'n_estimators': 152, 'max_depth': 18, 'max_features': 'sqrt'}. Best is trial 14 with value: 0.9186119731930015.\u001b[0m\n",
      "\u001b[32m[I 2021-02-28 20:23:52,617]\u001b[0m Trial 20 finished with value: 0.9173687767515207 and parameters: {'criterion': 'entropy', 'n_estimators': 94, 'max_depth': 28, 'max_features': None}. Best is trial 14 with value: 0.9186119731930015.\u001b[0m\n",
      "\u001b[32m[I 2021-02-28 20:24:04,806]\u001b[0m Trial 21 finished with value: 0.9186119731930015 and parameters: {'criterion': 'entropy', 'n_estimators': 113, 'max_depth': 28, 'max_features': 'sqrt'}. Best is trial 14 with value: 0.9186119731930015.\u001b[0m\n",
      "\u001b[32m[I 2021-02-28 20:24:17,244]\u001b[0m Trial 22 finished with value: 0.9170625269904766 and parameters: {'criterion': 'entropy', 'n_estimators': 117, 'max_depth': 23, 'max_features': 'sqrt'}. Best is trial 14 with value: 0.9186119731930015.\u001b[0m\n",
      "\u001b[32m[I 2021-02-28 20:24:31,867]\u001b[0m Trial 23 finished with value: 0.918449997179762 and parameters: {'criterion': 'entropy', 'n_estimators': 134, 'max_depth': 26, 'max_features': 'sqrt'}. Best is trial 14 with value: 0.9186119731930015.\u001b[0m\n",
      "\u001b[32m[I 2021-02-28 20:24:41,505]\u001b[0m Trial 24 finished with value: 0.918474599110632 and parameters: {'criterion': 'entropy', 'n_estimators': 85, 'max_depth': 30, 'max_features': 'sqrt'}. Best is trial 14 with value: 0.9186119731930015.\u001b[0m\n",
      "\u001b[32m[I 2021-02-28 20:24:49,505]\u001b[0m Trial 25 finished with value: 0.9183149935867144 and parameters: {'criterion': 'entropy', 'n_estimators': 71, 'max_depth': 28, 'max_features': 'log2'}. Best is trial 14 with value: 0.9186119731930015.\u001b[0m\n",
      "\u001b[32m[I 2021-02-28 20:25:00,724]\u001b[0m Trial 26 finished with value: 0.9183079526226734 and parameters: {'criterion': 'entropy', 'n_estimators': 101, 'max_depth': 26, 'max_features': 'sqrt'}. Best is trial 14 with value: 0.9186119731930015.\u001b[0m\n",
      "\u001b[32m[I 2021-02-28 20:25:15,279]\u001b[0m Trial 27 finished with value: 0.918178552182504 and parameters: {'criterion': 'entropy', 'n_estimators': 132, 'max_depth': 30, 'max_features': 'sqrt'}. Best is trial 14 with value: 0.9186119731930015.\u001b[0m\n",
      "\u001b[32m[I 2021-02-28 20:25:27,415]\u001b[0m Trial 28 finished with value: 0.9186119731930015 and parameters: {'criterion': 'entropy', 'n_estimators': 113, 'max_depth': 28, 'max_features': 'sqrt'}. Best is trial 14 with value: 0.9186119731930015.\u001b[0m\n",
      "\u001b[32m[I 2021-02-28 20:26:25,256]\u001b[0m Trial 29 finished with value: 0.9176095941459448 and parameters: {'criterion': 'entropy', 'n_estimators': 152, 'max_depth': 24, 'max_features': None}. Best is trial 14 with value: 0.9186119731930015.\u001b[0m\n",
      "\u001b[32m[I 2021-02-28 20:26:36,778]\u001b[0m Trial 30 finished with value: 0.9162152607510635 and parameters: {'criterion': 'entropy', 'n_estimators': 114, 'max_depth': 22, 'max_features': 'sqrt'}. Best is trial 14 with value: 0.9186119731930015.\u001b[0m\n",
      "\u001b[32m[I 2021-02-28 20:26:47,190]\u001b[0m Trial 31 finished with value: 0.9186846341765453 and parameters: {'criterion': 'entropy', 'n_estimators': 98, 'max_depth': 27, 'max_features': 'sqrt'}. Best is trial 31 with value: 0.9186846341765453.\u001b[0m\n",
      "\u001b[32m[I 2021-02-28 20:27:00,614]\u001b[0m Trial 32 finished with value: 0.9182621668663397 and parameters: {'criterion': 'entropy', 'n_estimators': 127, 'max_depth': 25, 'max_features': 'sqrt'}. Best is trial 31 with value: 0.9186846341765453.\u001b[0m\n",
      "\u001b[32m[I 2021-02-28 20:27:12,271]\u001b[0m Trial 33 finished with value: 0.9186828032648465 and parameters: {'criterion': 'entropy', 'n_estimators': 105, 'max_depth': 27, 'max_features': 'sqrt'}. Best is trial 31 with value: 0.9186846341765453.\u001b[0m\n"
     ]
    },
    {
     "name": "stdout",
     "output_type": "stream",
     "text": [
      "\u001b[32m[I 2021-02-28 20:27:23,688]\u001b[0m Trial 34 finished with value: 0.9174147624229233 and parameters: {'criterion': 'entropy', 'n_estimators': 104, 'max_depth': 24, 'max_features': 'sqrt'}. Best is trial 31 with value: 0.9186846341765453.\u001b[0m\n",
      "\u001b[32m[I 2021-02-28 20:27:41,376]\u001b[0m Trial 35 finished with value: 0.9185511711853542 and parameters: {'criterion': 'gini', 'n_estimators': 165, 'max_depth': 27, 'max_features': 'sqrt'}. Best is trial 31 with value: 0.9186846341765453.\u001b[0m\n",
      "\u001b[32m[I 2021-02-28 20:27:52,452]\u001b[0m Trial 36 finished with value: 0.9184900486609802 and parameters: {'criterion': 'entropy', 'n_estimators': 100, 'max_depth': 29, 'max_features': 'sqrt'}. Best is trial 31 with value: 0.9186846341765453.\u001b[0m\n",
      "\u001b[32m[I 2021-02-28 20:28:02,725]\u001b[0m Trial 37 finished with value: 0.9182633072219019 and parameters: {'criterion': 'entropy', 'n_estimators': 89, 'max_depth': 25, 'max_features': 'sqrt'}. Best is trial 31 with value: 0.9186846341765453.\u001b[0m\n",
      "\u001b[32m[I 2021-02-28 20:28:14,485]\u001b[0m Trial 38 finished with value: 0.918618141677649 and parameters: {'criterion': 'entropy', 'n_estimators': 76, 'max_depth': 27, 'max_features': 'log2'}. Best is trial 31 with value: 0.9186846341765453.\u001b[0m\n",
      "\u001b[32m[I 2021-02-28 20:28:23,897]\u001b[0m Trial 39 finished with value: 0.9168493384064967 and parameters: {'criterion': 'gini', 'n_estimators': 73, 'max_depth': 23, 'max_features': 'log2'}. Best is trial 31 with value: 0.9186846341765453.\u001b[0m\n",
      "\u001b[32m[I 2021-02-28 20:28:31,259]\u001b[0m Trial 40 finished with value: 0.9181835600689787 and parameters: {'criterion': 'entropy', 'n_estimators': 58, 'max_depth': 27, 'max_features': 'log2'}. Best is trial 31 with value: 0.9186846341765453.\u001b[0m\n",
      "\u001b[32m[I 2021-02-28 20:28:42,541]\u001b[0m Trial 41 finished with value: 0.9181492262219176 and parameters: {'criterion': 'entropy', 'n_estimators': 78, 'max_depth': 29, 'max_features': 'log2'}. Best is trial 31 with value: 0.9186846341765453.\u001b[0m\n",
      "\u001b[32m[I 2021-02-28 20:28:57,847]\u001b[0m Trial 42 finished with value: 0.9183604412461369 and parameters: {'criterion': 'entropy', 'n_estimators': 102, 'max_depth': 26, 'max_features': 'log2'}. Best is trial 31 with value: 0.9186846341765453.\u001b[0m\n",
      "\u001b[32m[I 2021-02-28 20:29:09,971]\u001b[0m Trial 43 finished with value: 0.9180033045960861 and parameters: {'criterion': 'entropy', 'n_estimators': 77, 'max_depth': 29, 'max_features': 'log2'}. Best is trial 31 with value: 0.9186846341765453.\u001b[0m\n",
      "\u001b[32m[I 2021-02-28 20:29:21,554]\u001b[0m Trial 44 finished with value: 0.9183972251002298 and parameters: {'criterion': 'entropy', 'n_estimators': 87, 'max_depth': 27, 'max_features': 'log2'}. Best is trial 31 with value: 0.9186846341765453.\u001b[0m\n",
      "\u001b[32m[I 2021-02-28 20:29:29,436]\u001b[0m Trial 45 finished with value: 0.8928347360820105 and parameters: {'criterion': 'entropy', 'n_estimators': 97, 'max_depth': 12, 'max_features': 'sqrt'}. Best is trial 31 with value: 0.9186846341765453.\u001b[0m\n",
      "\u001b[32m[I 2021-02-28 20:30:37,303]\u001b[0m Trial 46 finished with value: 0.9176804541768045 and parameters: {'criterion': 'entropy', 'n_estimators': 143, 'max_depth': 27, 'max_features': None}. Best is trial 31 with value: 0.9186846341765453.\u001b[0m\n",
      "\u001b[32m[I 2021-02-28 20:30:53,711]\u001b[0m Trial 47 finished with value: 0.9188315696154234 and parameters: {'criterion': 'gini', 'n_estimators': 112, 'max_depth': 30, 'max_features': 'sqrt'}. Best is trial 47 with value: 0.9188315696154234.\u001b[0m\n",
      "\u001b[32m[I 2021-02-28 20:31:09,669]\u001b[0m Trial 48 finished with value: 0.9187551205934837 and parameters: {'criterion': 'gini', 'n_estimators': 108, 'max_depth': 30, 'max_features': 'sqrt'}. Best is trial 47 with value: 0.9188315696154234.\u001b[0m\n",
      "\u001b[32m[I 2021-02-28 20:31:24,372]\u001b[0m Trial 49 finished with value: 0.9186731773025762 and parameters: {'criterion': 'gini', 'n_estimators': 106, 'max_depth': 30, 'max_features': 'log2'}. Best is trial 47 with value: 0.9188315696154234.\u001b[0m\n",
      "\u001b[32m[I 2021-02-28 20:31:39,539]\u001b[0m Trial 50 finished with value: 0.9186731773025762 and parameters: {'criterion': 'gini', 'n_estimators': 106, 'max_depth': 30, 'max_features': 'sqrt'}. Best is trial 47 with value: 0.9188315696154234.\u001b[0m\n",
      "\u001b[32m[I 2021-02-28 20:31:54,702]\u001b[0m Trial 51 finished with value: 0.9186731773025762 and parameters: {'criterion': 'gini', 'n_estimators': 106, 'max_depth': 30, 'max_features': 'sqrt'}. Best is trial 47 with value: 0.9188315696154234.\u001b[0m\n",
      "\u001b[32m[I 2021-02-28 20:32:11,013]\u001b[0m Trial 52 finished with value: 0.9186174391201886 and parameters: {'criterion': 'gini', 'n_estimators': 127, 'max_depth': 30, 'max_features': 'sqrt'}. Best is trial 47 with value: 0.9188315696154234.\u001b[0m\n",
      "\u001b[32m[I 2021-02-28 20:32:27,954]\u001b[0m Trial 53 finished with value: 0.9186803808839381 and parameters: {'criterion': 'gini', 'n_estimators': 121, 'max_depth': 29, 'max_features': 'sqrt'}. Best is trial 47 with value: 0.9188315696154234.\u001b[0m\n",
      "\u001b[32m[I 2021-02-28 20:32:39,313]\u001b[0m Trial 54 finished with value: 0.9186999169491146 and parameters: {'criterion': 'gini', 'n_estimators': 95, 'max_depth': 29, 'max_features': 'sqrt'}. Best is trial 47 with value: 0.9188315696154234.\u001b[0m\n",
      "\u001b[32m[I 2021-02-28 20:32:54,493]\u001b[0m Trial 55 finished with value: 0.9186184904897711 and parameters: {'criterion': 'gini', 'n_estimators': 122, 'max_depth': 29, 'max_features': 'sqrt'}. Best is trial 47 with value: 0.9188315696154234.\u001b[0m\n",
      "\u001b[32m[I 2021-02-28 20:33:03,592]\u001b[0m Trial 56 finished with value: 0.90925945238178 and parameters: {'criterion': 'gini', 'n_estimators': 94, 'max_depth': 18, 'max_features': 'sqrt'}. Best is trial 47 with value: 0.9188315696154234.\u001b[0m\n",
      "\u001b[32m[I 2021-02-28 20:33:17,064]\u001b[0m Trial 57 finished with value: 0.9186233226657684 and parameters: {'criterion': 'gini', 'n_estimators': 118, 'max_depth': 29, 'max_features': 'sqrt'}. Best is trial 47 with value: 0.9188315696154234.\u001b[0m\n",
      "\u001b[32m[I 2021-02-28 20:33:34,424]\u001b[0m Trial 58 finished with value: 0.9188121035199013 and parameters: {'criterion': 'gini', 'n_estimators': 139, 'max_depth': 29, 'max_features': 'sqrt'}. Best is trial 47 with value: 0.9188315696154234.\u001b[0m\n",
      "\u001b[32m[I 2021-02-28 20:33:44,510]\u001b[0m Trial 59 finished with value: 0.9187779601195963 and parameters: {'criterion': 'gini', 'n_estimators': 82, 'max_depth': 28, 'max_features': 'sqrt'}. Best is trial 47 with value: 0.9188315696154234.\u001b[0m\n",
      "\u001b[32m[I 2021-02-28 20:34:03,295]\u001b[0m Trial 60 finished with value: 0.9192977726859184 and parameters: {'criterion': 'gini', 'n_estimators': 140, 'max_depth': 28, 'max_features': 'sqrt'}. Best is trial 60 with value: 0.9192977726859184.\u001b[0m\n",
      "\u001b[32m[I 2021-02-28 20:34:23,639]\u001b[0m Trial 61 finished with value: 0.9191296240128511 and parameters: {'criterion': 'gini', 'n_estimators': 164, 'max_depth': 28, 'max_features': 'sqrt'}. Best is trial 60 with value: 0.9192977726859184.\u001b[0m\n",
      "\u001b[32m[I 2021-02-28 20:34:43,996]\u001b[0m Trial 62 finished with value: 0.9191758044220745 and parameters: {'criterion': 'gini', 'n_estimators': 167, 'max_depth': 28, 'max_features': 'sqrt'}. Best is trial 60 with value: 0.9192977726859184.\u001b[0m\n",
      "\u001b[32m[I 2021-02-28 20:35:04,395]\u001b[0m Trial 63 finished with value: 0.9191138472599816 and parameters: {'criterion': 'gini', 'n_estimators': 165, 'max_depth': 28, 'max_features': 'sqrt'}. Best is trial 60 with value: 0.9192977726859184.\u001b[0m\n",
      "\u001b[32m[I 2021-02-28 20:35:26,494]\u001b[0m Trial 64 finished with value: 0.9191885151984902 and parameters: {'criterion': 'gini', 'n_estimators': 178, 'max_depth': 28, 'max_features': 'sqrt'}. Best is trial 60 with value: 0.9192977726859184.\u001b[0m\n",
      "\u001b[32m[I 2021-02-28 20:35:51,003]\u001b[0m Trial 65 finished with value: 0.9181339912354817 and parameters: {'criterion': 'gini', 'n_estimators': 182, 'max_depth': 26, 'max_features': 'sqrt'}. Best is trial 60 with value: 0.9192977726859184.\u001b[0m\n",
      "\u001b[32m[I 2021-02-28 20:36:13,087]\u001b[0m Trial 66 finished with value: 0.9191290474799452 and parameters: {'criterion': 'gini', 'n_estimators': 162, 'max_depth': 28, 'max_features': 'sqrt'}. Best is trial 60 with value: 0.9192977726859184.\u001b[0m\n",
      "\u001b[32m[I 2021-02-28 20:36:34,804]\u001b[0m Trial 67 finished with value: 0.9181975227793647 and parameters: {'criterion': 'gini', 'n_estimators': 162, 'max_depth': 25, 'max_features': 'sqrt'}. Best is trial 60 with value: 0.9192977726859184.\u001b[0m\n",
      "\u001b[32m[I 2021-02-28 20:36:59,589]\u001b[0m Trial 68 finished with value: 0.919333093654503 and parameters: {'criterion': 'gini', 'n_estimators': 181, 'max_depth': 28, 'max_features': 'sqrt'}. Best is trial 68 with value: 0.919333093654503.\u001b[0m\n"
     ]
    },
    {
     "name": "stdout",
     "output_type": "stream",
     "text": [
      "\u001b[32m[I 2021-02-28 20:37:21,633]\u001b[0m Trial 69 finished with value: 0.9192450286484665 and parameters: {'criterion': 'gini', 'n_estimators': 180, 'max_depth': 28, 'max_features': 'sqrt'}. Best is trial 68 with value: 0.919333093654503.\u001b[0m\n",
      "\u001b[32m[I 2021-02-28 20:38:36,615]\u001b[0m Trial 70 finished with value: 0.9173167277386867 and parameters: {'criterion': 'gini', 'n_estimators': 179, 'max_depth': 26, 'max_features': None}. Best is trial 68 with value: 0.919333093654503.\u001b[0m\n",
      "\u001b[32m[I 2021-02-28 20:38:56,300]\u001b[0m Trial 71 finished with value: 0.9190446231968722 and parameters: {'criterion': 'gini', 'n_estimators': 175, 'max_depth': 28, 'max_features': 'sqrt'}. Best is trial 68 with value: 0.919333093654503.\u001b[0m\n",
      "\u001b[32m[I 2021-02-28 20:39:18,021]\u001b[0m Trial 72 finished with value: 0.9192109815551213 and parameters: {'criterion': 'gini', 'n_estimators': 197, 'max_depth': 28, 'max_features': 'sqrt'}. Best is trial 68 with value: 0.919333093654503.\u001b[0m\n",
      "\u001b[32m[I 2021-02-28 20:39:42,429]\u001b[0m Trial 73 finished with value: 0.9192006560102446 and parameters: {'criterion': 'gini', 'n_estimators': 199, 'max_depth': 28, 'max_features': 'sqrt'}. Best is trial 68 with value: 0.919333093654503.\u001b[0m\n",
      "\u001b[32m[I 2021-02-28 20:40:04,734]\u001b[0m Trial 74 finished with value: 0.9182868857998965 and parameters: {'criterion': 'gini', 'n_estimators': 200, 'max_depth': 26, 'max_features': 'sqrt'}. Best is trial 68 with value: 0.919333093654503.\u001b[0m\n",
      "\u001b[32m[I 2021-02-28 20:40:26,444]\u001b[0m Trial 75 finished with value: 0.9187882331774019 and parameters: {'criterion': 'gini', 'n_estimators': 189, 'max_depth': 27, 'max_features': 'sqrt'}. Best is trial 68 with value: 0.919333093654503.\u001b[0m\n",
      "\u001b[32m[I 2021-02-28 20:40:48,910]\u001b[0m Trial 76 finished with value: 0.918488078034682 and parameters: {'criterion': 'gini', 'n_estimators': 190, 'max_depth': 25, 'max_features': 'sqrt'}. Best is trial 68 with value: 0.919333093654503.\u001b[0m\n",
      "\n"
     ]
    },
    {
     "ename": "KeyboardInterrupt",
     "evalue": "",
     "output_type": "error",
     "traceback": [
      "\u001b[1;31m---------------------------------------------------------------------------\u001b[0m",
      "\u001b[1;31mKeyboardInterrupt\u001b[0m                         Traceback (most recent call last)",
      "\u001b[1;32m<timed exec>\u001b[0m in \u001b[0;36m<module>\u001b[1;34m\u001b[0m\n",
      "\u001b[1;32m~\\anaconda3\\lib\\site-packages\\optuna\\study.py\u001b[0m in \u001b[0;36moptimize\u001b[1;34m(self, func, n_trials, timeout, n_jobs, catch, callbacks, gc_after_trial, show_progress_bar)\u001b[0m\n\u001b[0;32m    374\u001b[0m                 \u001b[0mIf\u001b[0m \u001b[0mnested\u001b[0m \u001b[0minvocation\u001b[0m \u001b[0mof\u001b[0m \u001b[0mthis\u001b[0m \u001b[0mmethod\u001b[0m \u001b[0moccurs\u001b[0m\u001b[1;33m.\u001b[0m\u001b[1;33m\u001b[0m\u001b[1;33m\u001b[0m\u001b[0m\n\u001b[0;32m    375\u001b[0m         \"\"\"\n\u001b[1;32m--> 376\u001b[1;33m         _optimize(\n\u001b[0m\u001b[0;32m    377\u001b[0m             \u001b[0mstudy\u001b[0m\u001b[1;33m=\u001b[0m\u001b[0mself\u001b[0m\u001b[1;33m,\u001b[0m\u001b[1;33m\u001b[0m\u001b[1;33m\u001b[0m\u001b[0m\n\u001b[0;32m    378\u001b[0m             \u001b[0mfunc\u001b[0m\u001b[1;33m=\u001b[0m\u001b[0mfunc\u001b[0m\u001b[1;33m,\u001b[0m\u001b[1;33m\u001b[0m\u001b[1;33m\u001b[0m\u001b[0m\n",
      "\u001b[1;32m~\\anaconda3\\lib\\site-packages\\optuna\\_optimize.py\u001b[0m in \u001b[0;36m_optimize\u001b[1;34m(study, func, n_trials, timeout, n_jobs, catch, callbacks, gc_after_trial, show_progress_bar)\u001b[0m\n\u001b[0;32m     61\u001b[0m     \u001b[1;32mtry\u001b[0m\u001b[1;33m:\u001b[0m\u001b[1;33m\u001b[0m\u001b[1;33m\u001b[0m\u001b[0m\n\u001b[0;32m     62\u001b[0m         \u001b[1;32mif\u001b[0m \u001b[0mn_jobs\u001b[0m \u001b[1;33m==\u001b[0m \u001b[1;36m1\u001b[0m\u001b[1;33m:\u001b[0m\u001b[1;33m\u001b[0m\u001b[1;33m\u001b[0m\u001b[0m\n\u001b[1;32m---> 63\u001b[1;33m             _optimize_sequential(\n\u001b[0m\u001b[0;32m     64\u001b[0m                 \u001b[0mstudy\u001b[0m\u001b[1;33m,\u001b[0m\u001b[1;33m\u001b[0m\u001b[1;33m\u001b[0m\u001b[0m\n\u001b[0;32m     65\u001b[0m                 \u001b[0mfunc\u001b[0m\u001b[1;33m,\u001b[0m\u001b[1;33m\u001b[0m\u001b[1;33m\u001b[0m\u001b[0m\n",
      "\u001b[1;32m~\\anaconda3\\lib\\site-packages\\optuna\\_optimize.py\u001b[0m in \u001b[0;36m_optimize_sequential\u001b[1;34m(study, func, n_trials, timeout, catch, callbacks, gc_after_trial, reseed_sampler_rng, time_start, progress_bar)\u001b[0m\n\u001b[0;32m    162\u001b[0m \u001b[1;33m\u001b[0m\u001b[0m\n\u001b[0;32m    163\u001b[0m         \u001b[1;32mtry\u001b[0m\u001b[1;33m:\u001b[0m\u001b[1;33m\u001b[0m\u001b[1;33m\u001b[0m\u001b[0m\n\u001b[1;32m--> 164\u001b[1;33m             \u001b[0mtrial\u001b[0m \u001b[1;33m=\u001b[0m \u001b[0m_run_trial\u001b[0m\u001b[1;33m(\u001b[0m\u001b[0mstudy\u001b[0m\u001b[1;33m,\u001b[0m \u001b[0mfunc\u001b[0m\u001b[1;33m,\u001b[0m \u001b[0mcatch\u001b[0m\u001b[1;33m)\u001b[0m\u001b[1;33m\u001b[0m\u001b[1;33m\u001b[0m\u001b[0m\n\u001b[0m\u001b[0;32m    165\u001b[0m         \u001b[1;32mexcept\u001b[0m \u001b[0mException\u001b[0m\u001b[1;33m:\u001b[0m\u001b[1;33m\u001b[0m\u001b[1;33m\u001b[0m\u001b[0m\n\u001b[0;32m    166\u001b[0m             \u001b[1;32mraise\u001b[0m\u001b[1;33m\u001b[0m\u001b[1;33m\u001b[0m\u001b[0m\n",
      "\u001b[1;32m~\\anaconda3\\lib\\site-packages\\optuna\\_optimize.py\u001b[0m in \u001b[0;36m_run_trial\u001b[1;34m(study, func, catch)\u001b[0m\n\u001b[0;32m    209\u001b[0m \u001b[1;33m\u001b[0m\u001b[0m\n\u001b[0;32m    210\u001b[0m     \u001b[1;32mtry\u001b[0m\u001b[1;33m:\u001b[0m\u001b[1;33m\u001b[0m\u001b[1;33m\u001b[0m\u001b[0m\n\u001b[1;32m--> 211\u001b[1;33m         \u001b[0mvalue_or_values\u001b[0m \u001b[1;33m=\u001b[0m \u001b[0mfunc\u001b[0m\u001b[1;33m(\u001b[0m\u001b[0mtrial\u001b[0m\u001b[1;33m)\u001b[0m\u001b[1;33m\u001b[0m\u001b[1;33m\u001b[0m\u001b[0m\n\u001b[0m\u001b[0;32m    212\u001b[0m     \u001b[1;32mexcept\u001b[0m \u001b[0mexceptions\u001b[0m\u001b[1;33m.\u001b[0m\u001b[0mTrialPruned\u001b[0m \u001b[1;32mas\u001b[0m \u001b[0me\u001b[0m\u001b[1;33m:\u001b[0m\u001b[1;33m\u001b[0m\u001b[1;33m\u001b[0m\u001b[0m\n\u001b[0;32m    213\u001b[0m         \u001b[1;31m# TODO(mamu): Handle multi-objective cases.\u001b[0m\u001b[1;33m\u001b[0m\u001b[1;33m\u001b[0m\u001b[1;33m\u001b[0m\u001b[0m\n",
      "\u001b[1;32m<ipython-input-30-34aa236d23d9>\u001b[0m in \u001b[0;36mobjective\u001b[1;34m(trial)\u001b[0m\n\u001b[0;32m      7\u001b[0m     classifier = RandomForestClassifier(random_state=42, criterion=criterion, n_estimators=n_estimators, n_jobs=-1,\n\u001b[0;32m      8\u001b[0m                                         max_depth=max_depth, max_features=max_features, class_weight='balanced')\n\u001b[1;32m----> 9\u001b[1;33m     \u001b[0mclassifier\u001b[0m\u001b[1;33m.\u001b[0m\u001b[0mfit\u001b[0m\u001b[1;33m(\u001b[0m\u001b[0mX_train\u001b[0m\u001b[1;33m,\u001b[0m \u001b[0my_train\u001b[0m\u001b[1;33m)\u001b[0m\u001b[1;33m\u001b[0m\u001b[1;33m\u001b[0m\u001b[0m\n\u001b[0m\u001b[0;32m     10\u001b[0m     \u001b[0mscore\u001b[0m \u001b[1;33m=\u001b[0m \u001b[0mf1_score\u001b[0m\u001b[1;33m(\u001b[0m\u001b[0my_test\u001b[0m\u001b[1;33m,\u001b[0m \u001b[0mclassifier\u001b[0m\u001b[1;33m.\u001b[0m\u001b[0mpredict\u001b[0m\u001b[1;33m(\u001b[0m\u001b[0mX_test\u001b[0m\u001b[1;33m)\u001b[0m\u001b[1;33m)\u001b[0m\u001b[1;33m\u001b[0m\u001b[1;33m\u001b[0m\u001b[0m\n\u001b[0;32m     11\u001b[0m     \u001b[1;32mreturn\u001b[0m \u001b[0mscore\u001b[0m\u001b[1;33m\u001b[0m\u001b[1;33m\u001b[0m\u001b[0m\n",
      "\u001b[1;32m~\\anaconda3\\lib\\site-packages\\sklearn\\ensemble\\_forest.py\u001b[0m in \u001b[0;36mfit\u001b[1;34m(self, X, y, sample_weight)\u001b[0m\n\u001b[0;32m    384\u001b[0m             \u001b[1;31m# parallel_backend contexts set at a higher level,\u001b[0m\u001b[1;33m\u001b[0m\u001b[1;33m\u001b[0m\u001b[1;33m\u001b[0m\u001b[0m\n\u001b[0;32m    385\u001b[0m             \u001b[1;31m# since correctness does not rely on using threads.\u001b[0m\u001b[1;33m\u001b[0m\u001b[1;33m\u001b[0m\u001b[1;33m\u001b[0m\u001b[0m\n\u001b[1;32m--> 386\u001b[1;33m             trees = Parallel(n_jobs=self.n_jobs, verbose=self.verbose,\n\u001b[0m\u001b[0;32m    387\u001b[0m                              \u001b[1;33m**\u001b[0m\u001b[0m_joblib_parallel_args\u001b[0m\u001b[1;33m(\u001b[0m\u001b[0mprefer\u001b[0m\u001b[1;33m=\u001b[0m\u001b[1;34m'threads'\u001b[0m\u001b[1;33m)\u001b[0m\u001b[1;33m)\u001b[0m\u001b[1;33m(\u001b[0m\u001b[1;33m\u001b[0m\u001b[1;33m\u001b[0m\u001b[0m\n\u001b[0;32m    388\u001b[0m                 delayed(_parallel_build_trees)(\n",
      "\u001b[1;32m~\\anaconda3\\lib\\site-packages\\joblib\\parallel.py\u001b[0m in \u001b[0;36m__call__\u001b[1;34m(self, iterable)\u001b[0m\n\u001b[0;32m   1059\u001b[0m \u001b[1;33m\u001b[0m\u001b[0m\n\u001b[0;32m   1060\u001b[0m             \u001b[1;32mwith\u001b[0m \u001b[0mself\u001b[0m\u001b[1;33m.\u001b[0m\u001b[0m_backend\u001b[0m\u001b[1;33m.\u001b[0m\u001b[0mretrieval_context\u001b[0m\u001b[1;33m(\u001b[0m\u001b[1;33m)\u001b[0m\u001b[1;33m:\u001b[0m\u001b[1;33m\u001b[0m\u001b[1;33m\u001b[0m\u001b[0m\n\u001b[1;32m-> 1061\u001b[1;33m                 \u001b[0mself\u001b[0m\u001b[1;33m.\u001b[0m\u001b[0mretrieve\u001b[0m\u001b[1;33m(\u001b[0m\u001b[1;33m)\u001b[0m\u001b[1;33m\u001b[0m\u001b[1;33m\u001b[0m\u001b[0m\n\u001b[0m\u001b[0;32m   1062\u001b[0m             \u001b[1;31m# Make sure that we get a last message telling us we are done\u001b[0m\u001b[1;33m\u001b[0m\u001b[1;33m\u001b[0m\u001b[1;33m\u001b[0m\u001b[0m\n\u001b[0;32m   1063\u001b[0m             \u001b[0melapsed_time\u001b[0m \u001b[1;33m=\u001b[0m \u001b[0mtime\u001b[0m\u001b[1;33m.\u001b[0m\u001b[0mtime\u001b[0m\u001b[1;33m(\u001b[0m\u001b[1;33m)\u001b[0m \u001b[1;33m-\u001b[0m \u001b[0mself\u001b[0m\u001b[1;33m.\u001b[0m\u001b[0m_start_time\u001b[0m\u001b[1;33m\u001b[0m\u001b[1;33m\u001b[0m\u001b[0m\n",
      "\u001b[1;32m~\\anaconda3\\lib\\site-packages\\joblib\\parallel.py\u001b[0m in \u001b[0;36mretrieve\u001b[1;34m(self)\u001b[0m\n\u001b[0;32m    938\u001b[0m             \u001b[1;32mtry\u001b[0m\u001b[1;33m:\u001b[0m\u001b[1;33m\u001b[0m\u001b[1;33m\u001b[0m\u001b[0m\n\u001b[0;32m    939\u001b[0m                 \u001b[1;32mif\u001b[0m \u001b[0mgetattr\u001b[0m\u001b[1;33m(\u001b[0m\u001b[0mself\u001b[0m\u001b[1;33m.\u001b[0m\u001b[0m_backend\u001b[0m\u001b[1;33m,\u001b[0m \u001b[1;34m'supports_timeout'\u001b[0m\u001b[1;33m,\u001b[0m \u001b[1;32mFalse\u001b[0m\u001b[1;33m)\u001b[0m\u001b[1;33m:\u001b[0m\u001b[1;33m\u001b[0m\u001b[1;33m\u001b[0m\u001b[0m\n\u001b[1;32m--> 940\u001b[1;33m                     \u001b[0mself\u001b[0m\u001b[1;33m.\u001b[0m\u001b[0m_output\u001b[0m\u001b[1;33m.\u001b[0m\u001b[0mextend\u001b[0m\u001b[1;33m(\u001b[0m\u001b[0mjob\u001b[0m\u001b[1;33m.\u001b[0m\u001b[0mget\u001b[0m\u001b[1;33m(\u001b[0m\u001b[0mtimeout\u001b[0m\u001b[1;33m=\u001b[0m\u001b[0mself\u001b[0m\u001b[1;33m.\u001b[0m\u001b[0mtimeout\u001b[0m\u001b[1;33m)\u001b[0m\u001b[1;33m)\u001b[0m\u001b[1;33m\u001b[0m\u001b[1;33m\u001b[0m\u001b[0m\n\u001b[0m\u001b[0;32m    941\u001b[0m                 \u001b[1;32melse\u001b[0m\u001b[1;33m:\u001b[0m\u001b[1;33m\u001b[0m\u001b[1;33m\u001b[0m\u001b[0m\n\u001b[0;32m    942\u001b[0m                     \u001b[0mself\u001b[0m\u001b[1;33m.\u001b[0m\u001b[0m_output\u001b[0m\u001b[1;33m.\u001b[0m\u001b[0mextend\u001b[0m\u001b[1;33m(\u001b[0m\u001b[0mjob\u001b[0m\u001b[1;33m.\u001b[0m\u001b[0mget\u001b[0m\u001b[1;33m(\u001b[0m\u001b[1;33m)\u001b[0m\u001b[1;33m)\u001b[0m\u001b[1;33m\u001b[0m\u001b[1;33m\u001b[0m\u001b[0m\n",
      "\u001b[1;32m~\\anaconda3\\lib\\multiprocessing\\pool.py\u001b[0m in \u001b[0;36mget\u001b[1;34m(self, timeout)\u001b[0m\n\u001b[0;32m    763\u001b[0m \u001b[1;33m\u001b[0m\u001b[0m\n\u001b[0;32m    764\u001b[0m     \u001b[1;32mdef\u001b[0m \u001b[0mget\u001b[0m\u001b[1;33m(\u001b[0m\u001b[0mself\u001b[0m\u001b[1;33m,\u001b[0m \u001b[0mtimeout\u001b[0m\u001b[1;33m=\u001b[0m\u001b[1;32mNone\u001b[0m\u001b[1;33m)\u001b[0m\u001b[1;33m:\u001b[0m\u001b[1;33m\u001b[0m\u001b[1;33m\u001b[0m\u001b[0m\n\u001b[1;32m--> 765\u001b[1;33m         \u001b[0mself\u001b[0m\u001b[1;33m.\u001b[0m\u001b[0mwait\u001b[0m\u001b[1;33m(\u001b[0m\u001b[0mtimeout\u001b[0m\u001b[1;33m)\u001b[0m\u001b[1;33m\u001b[0m\u001b[1;33m\u001b[0m\u001b[0m\n\u001b[0m\u001b[0;32m    766\u001b[0m         \u001b[1;32mif\u001b[0m \u001b[1;32mnot\u001b[0m \u001b[0mself\u001b[0m\u001b[1;33m.\u001b[0m\u001b[0mready\u001b[0m\u001b[1;33m(\u001b[0m\u001b[1;33m)\u001b[0m\u001b[1;33m:\u001b[0m\u001b[1;33m\u001b[0m\u001b[1;33m\u001b[0m\u001b[0m\n\u001b[0;32m    767\u001b[0m             \u001b[1;32mraise\u001b[0m \u001b[0mTimeoutError\u001b[0m\u001b[1;33m\u001b[0m\u001b[1;33m\u001b[0m\u001b[0m\n",
      "\u001b[1;32m~\\anaconda3\\lib\\multiprocessing\\pool.py\u001b[0m in \u001b[0;36mwait\u001b[1;34m(self, timeout)\u001b[0m\n\u001b[0;32m    760\u001b[0m \u001b[1;33m\u001b[0m\u001b[0m\n\u001b[0;32m    761\u001b[0m     \u001b[1;32mdef\u001b[0m \u001b[0mwait\u001b[0m\u001b[1;33m(\u001b[0m\u001b[0mself\u001b[0m\u001b[1;33m,\u001b[0m \u001b[0mtimeout\u001b[0m\u001b[1;33m=\u001b[0m\u001b[1;32mNone\u001b[0m\u001b[1;33m)\u001b[0m\u001b[1;33m:\u001b[0m\u001b[1;33m\u001b[0m\u001b[1;33m\u001b[0m\u001b[0m\n\u001b[1;32m--> 762\u001b[1;33m         \u001b[0mself\u001b[0m\u001b[1;33m.\u001b[0m\u001b[0m_event\u001b[0m\u001b[1;33m.\u001b[0m\u001b[0mwait\u001b[0m\u001b[1;33m(\u001b[0m\u001b[0mtimeout\u001b[0m\u001b[1;33m)\u001b[0m\u001b[1;33m\u001b[0m\u001b[1;33m\u001b[0m\u001b[0m\n\u001b[0m\u001b[0;32m    763\u001b[0m \u001b[1;33m\u001b[0m\u001b[0m\n\u001b[0;32m    764\u001b[0m     \u001b[1;32mdef\u001b[0m \u001b[0mget\u001b[0m\u001b[1;33m(\u001b[0m\u001b[0mself\u001b[0m\u001b[1;33m,\u001b[0m \u001b[0mtimeout\u001b[0m\u001b[1;33m=\u001b[0m\u001b[1;32mNone\u001b[0m\u001b[1;33m)\u001b[0m\u001b[1;33m:\u001b[0m\u001b[1;33m\u001b[0m\u001b[1;33m\u001b[0m\u001b[0m\n",
      "\u001b[1;32m~\\anaconda3\\lib\\threading.py\u001b[0m in \u001b[0;36mwait\u001b[1;34m(self, timeout)\u001b[0m\n\u001b[0;32m    556\u001b[0m             \u001b[0msignaled\u001b[0m \u001b[1;33m=\u001b[0m \u001b[0mself\u001b[0m\u001b[1;33m.\u001b[0m\u001b[0m_flag\u001b[0m\u001b[1;33m\u001b[0m\u001b[1;33m\u001b[0m\u001b[0m\n\u001b[0;32m    557\u001b[0m             \u001b[1;32mif\u001b[0m \u001b[1;32mnot\u001b[0m \u001b[0msignaled\u001b[0m\u001b[1;33m:\u001b[0m\u001b[1;33m\u001b[0m\u001b[1;33m\u001b[0m\u001b[0m\n\u001b[1;32m--> 558\u001b[1;33m                 \u001b[0msignaled\u001b[0m \u001b[1;33m=\u001b[0m \u001b[0mself\u001b[0m\u001b[1;33m.\u001b[0m\u001b[0m_cond\u001b[0m\u001b[1;33m.\u001b[0m\u001b[0mwait\u001b[0m\u001b[1;33m(\u001b[0m\u001b[0mtimeout\u001b[0m\u001b[1;33m)\u001b[0m\u001b[1;33m\u001b[0m\u001b[1;33m\u001b[0m\u001b[0m\n\u001b[0m\u001b[0;32m    559\u001b[0m             \u001b[1;32mreturn\u001b[0m \u001b[0msignaled\u001b[0m\u001b[1;33m\u001b[0m\u001b[1;33m\u001b[0m\u001b[0m\n\u001b[0;32m    560\u001b[0m \u001b[1;33m\u001b[0m\u001b[0m\n",
      "\u001b[1;32m~\\anaconda3\\lib\\threading.py\u001b[0m in \u001b[0;36mwait\u001b[1;34m(self, timeout)\u001b[0m\n\u001b[0;32m    300\u001b[0m         \u001b[1;32mtry\u001b[0m\u001b[1;33m:\u001b[0m    \u001b[1;31m# restore state no matter what (e.g., KeyboardInterrupt)\u001b[0m\u001b[1;33m\u001b[0m\u001b[1;33m\u001b[0m\u001b[0m\n\u001b[0;32m    301\u001b[0m             \u001b[1;32mif\u001b[0m \u001b[0mtimeout\u001b[0m \u001b[1;32mis\u001b[0m \u001b[1;32mNone\u001b[0m\u001b[1;33m:\u001b[0m\u001b[1;33m\u001b[0m\u001b[1;33m\u001b[0m\u001b[0m\n\u001b[1;32m--> 302\u001b[1;33m                 \u001b[0mwaiter\u001b[0m\u001b[1;33m.\u001b[0m\u001b[0macquire\u001b[0m\u001b[1;33m(\u001b[0m\u001b[1;33m)\u001b[0m\u001b[1;33m\u001b[0m\u001b[1;33m\u001b[0m\u001b[0m\n\u001b[0m\u001b[0;32m    303\u001b[0m                 \u001b[0mgotit\u001b[0m \u001b[1;33m=\u001b[0m \u001b[1;32mTrue\u001b[0m\u001b[1;33m\u001b[0m\u001b[1;33m\u001b[0m\u001b[0m\n\u001b[0;32m    304\u001b[0m             \u001b[1;32melse\u001b[0m\u001b[1;33m:\u001b[0m\u001b[1;33m\u001b[0m\u001b[1;33m\u001b[0m\u001b[0m\n",
      "\u001b[1;31mKeyboardInterrupt\u001b[0m: "
     ]
    }
   ],
   "source": [
    "%%time\n",
    "study = optuna.create_study(direction=\"maximize\")\n",
    "study.optimize(objective, n_trials=100, timeout=30*60, show_progress_bar=True)"
   ]
  },
  {
   "cell_type": "code",
   "execution_count": null,
   "metadata": {},
   "outputs": [],
   "source": []
  },
  {
   "cell_type": "code",
   "execution_count": null,
   "metadata": {},
   "outputs": [],
   "source": []
  },
  {
   "cell_type": "code",
   "execution_count": null,
   "metadata": {},
   "outputs": [],
   "source": []
  },
  {
   "cell_type": "code",
   "execution_count": null,
   "metadata": {},
   "outputs": [],
   "source": [
    "cross_val_score(classifier, X_train, y_train, n_jobs=-1, cv=5, scoring='f1_macro')"
   ]
  },
  {
   "cell_type": "code",
   "execution_count": null,
   "metadata": {},
   "outputs": [],
   "source": []
  },
  {
   "cell_type": "markdown",
   "metadata": {},
   "source": [
    "## Gradient Boosting"
   ]
  },
  {
   "cell_type": "code",
   "execution_count": null,
   "metadata": {},
   "outputs": [],
   "source": [
    "import xg"
   ]
  },
  {
   "cell_type": "code",
   "execution_count": null,
   "metadata": {},
   "outputs": [],
   "source": []
  },
  {
   "cell_type": "code",
   "execution_count": null,
   "metadata": {},
   "outputs": [],
   "source": []
  },
  {
   "cell_type": "code",
   "execution_count": null,
   "metadata": {},
   "outputs": [],
   "source": []
  },
  {
   "cell_type": "code",
   "execution_count": null,
   "metadata": {},
   "outputs": [],
   "source": []
  }
 ],
 "metadata": {
  "kernelspec": {
   "display_name": "Python 3",
   "language": "python",
   "name": "python3"
  },
  "language_info": {
   "codemirror_mode": {
    "name": "ipython",
    "version": 3
   },
   "file_extension": ".py",
   "mimetype": "text/x-python",
   "name": "python",
   "nbconvert_exporter": "python",
   "pygments_lexer": "ipython3",
   "version": "3.8.5"
  }
 },
 "nbformat": 4,
 "nbformat_minor": 4
}
