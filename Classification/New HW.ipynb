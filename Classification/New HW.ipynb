{
 "cells": [
  {
   "cell_type": "code",
   "execution_count": 1,
   "metadata": {},
   "outputs": [],
   "source": [
    "import numpy as np\n",
    "import pandas as pd\n",
    "import matplotlib.pyplot as plt\n",
    "import seaborn as sns\n",
    "from tqdm import tqdm\n",
    "import optuna\n",
    "from sklearn.model_selection import cross_val_score\n",
    "from sklearn.metrics import f1_score, roc_auc_score, accuracy_score, precision_score, recall_score\n",
    "from warnings import filterwarnings\n",
    "from IPython.display import clear_output\n",
    "filterwarnings('ignore')"
   ]
  },
  {
   "cell_type": "markdown",
   "metadata": {},
   "source": [
    "## Load data"
   ]
  },
  {
   "cell_type": "code",
   "execution_count": 2,
   "metadata": {},
   "outputs": [
    {
     "data": {
      "text/plain": [
       "(283043, 33)"
      ]
     },
     "execution_count": 2,
     "metadata": {},
     "output_type": "execute_result"
    }
   ],
   "source": [
    "df = pd.read_csv('Data_Preprocessed.csv')\n",
    "df.shape"
   ]
  },
  {
   "cell_type": "code",
   "execution_count": 3,
   "metadata": {},
   "outputs": [
    {
     "data": {
      "text/plain": [
       "((254738, 32), (28305, 32))"
      ]
     },
     "execution_count": 3,
     "metadata": {},
     "output_type": "execute_result"
    }
   ],
   "source": [
    "from sklearn.model_selection import train_test_split\n",
    "X_train, X_val, y_train, y_val = train_test_split(df.drop(columns=['kilometer']), df['kilometer'],\n",
    "                                                    test_size=0.1, random_state=42)\n",
    "X_train.shape, X_val.shape"
   ]
  },
  {
   "cell_type": "code",
   "execution_count": 4,
   "metadata": {},
   "outputs": [
    {
     "data": {
      "text/plain": [
       "1    0.762121\n",
       "0    0.237879\n",
       "Name: kilometer, dtype: float64"
      ]
     },
     "execution_count": 4,
     "metadata": {},
     "output_type": "execute_result"
    }
   ],
   "source": [
    "# В качестве baseline возьмем наивный классификатор, его качество будет около 76%\n",
    "df['kilometer'].value_counts(normalize=True)"
   ]
  },
  {
   "cell_type": "code",
   "execution_count": 5,
   "metadata": {},
   "outputs": [
    {
     "data": {
      "text/html": [
       "<div>\n",
       "<style scoped>\n",
       "    .dataframe tbody tr th:only-of-type {\n",
       "        vertical-align: middle;\n",
       "    }\n",
       "\n",
       "    .dataframe tbody tr th {\n",
       "        vertical-align: top;\n",
       "    }\n",
       "\n",
       "    .dataframe thead th {\n",
       "        text-align: right;\n",
       "    }\n",
       "</style>\n",
       "<table border=\"1\" class=\"dataframe\">\n",
       "  <thead>\n",
       "    <tr style=\"text-align: right;\">\n",
       "      <th></th>\n",
       "      <th>Model</th>\n",
       "      <th>Accuracy</th>\n",
       "      <th>Precision</th>\n",
       "      <th>Recall</th>\n",
       "      <th>F1</th>\n",
       "    </tr>\n",
       "  </thead>\n",
       "  <tbody>\n",
       "    <tr>\n",
       "      <th>0</th>\n",
       "      <td>KNN</td>\n",
       "      <td>0.86</td>\n",
       "      <td>0.88</td>\n",
       "      <td>0.95</td>\n",
       "      <td>0.91</td>\n",
       "    </tr>\n",
       "    <tr>\n",
       "      <th>1</th>\n",
       "      <td>LogReg</td>\n",
       "      <td>0.85</td>\n",
       "      <td>0.87</td>\n",
       "      <td>0.95</td>\n",
       "      <td>0.91</td>\n",
       "    </tr>\n",
       "    <tr>\n",
       "      <th>2</th>\n",
       "      <td>NN</td>\n",
       "      <td>0.86</td>\n",
       "      <td>0.89</td>\n",
       "      <td>0.95</td>\n",
       "      <td>0.91</td>\n",
       "    </tr>\n",
       "  </tbody>\n",
       "</table>\n",
       "</div>"
      ],
      "text/plain": [
       "    Model  Accuracy  Precision  Recall    F1\n",
       "0     KNN      0.86       0.88    0.95  0.91\n",
       "1  LogReg      0.85       0.87    0.95  0.91\n",
       "2      NN      0.86       0.89    0.95  0.91"
      ]
     },
     "metadata": {},
     "output_type": "display_data"
    }
   ],
   "source": [
    "metrics = pd.DataFrame({'Model':['KNN', 'LogReg', 'NN'],\n",
    "                        'Accuracy':[0.86, 0.85, 0.86],\n",
    "                        'Precision':[0.88, 0.87, 0.89],\n",
    "                        'Recall':[0.95, 0.95, 0.95],\n",
    "                        'F1':[0.91, 0.91, 0.91]})\n",
    "display(metrics)"
   ]
  },
  {
   "cell_type": "markdown",
   "metadata": {},
   "source": [
    "## Random Forest"
   ]
  },
  {
   "cell_type": "markdown",
   "metadata": {},
   "source": [
    "#### some things to pass hw"
   ]
  },
  {
   "cell_type": "code",
   "execution_count": 6,
   "metadata": {},
   "outputs": [],
   "source": [
    "from sklearn.ensemble import RandomForestClassifier"
   ]
  },
  {
   "cell_type": "code",
   "execution_count": 7,
   "metadata": {},
   "outputs": [
    {
     "name": "stderr",
     "output_type": "stream",
     "text": [
      "100%|██████████| 11/11 [07:57<00:00, 43.39s/it]\n",
      "100%|██████████| 11/11 [08:05<00:00, 44.10s/it]\n",
      "100%|██████████| 11/11 [30:02<00:00, 163.86s/it]\n"
     ]
    }
   ],
   "source": [
    "oob_errors = {\"sqrt\":[], \"log2\":[], None:[]}\n",
    "\n",
    "for max_feature in [\"sqrt\", \"log2\", None]:\n",
    "    for n_estimators in tqdm(np.arange(15, 176, 15)):\n",
    "        model = RandomForestClassifier(oob_score=True, warm_start=True, random_state=42,\n",
    "                                       max_features=max_feature, n_estimators=n_estimators)\n",
    "        model.fit(df.drop(columns=['kilometer']), df['kilometer'])\n",
    "        oob_errors[max_feature].append(1 - model.oob_score_)\n",
    "        \n",
    "oob_errors = pd.DataFrame(oob_errors, index=np.arange(15, 176, 15)) "
   ]
  },
  {
   "cell_type": "code",
   "execution_count": 8,
   "metadata": {},
   "outputs": [
    {
     "data": {
      "image/png": "[encoded data removed]",
      "text/plain": [
       "<Figure size 864x432 with 1 Axes>"
      ]
     },
     "metadata": {
      "needs_background": "light"
     },
     "output_type": "display_data"
    }
   ],
   "source": [
    "plt.figure(figsize=(12,6))\n",
    "plt.plot(oob_errors['sqrt'], label='sqrt', color='blue')\n",
    "plt.plot(oob_errors['log2'], label='log2', color='red')\n",
    "plt.plot(oob_errors[None], label='None', color='yellow')\n",
    "plt.xlabel('n_estimators')\n",
    "plt.title('OOB by number of estimators')\n",
    "plt.legend()\n",
    "plt.plot();"
   ]
  },
  {
   "cell_type": "code",
   "execution_count": 9,
   "metadata": {},
   "outputs": [
    {
     "name": "stderr",
     "output_type": "stream",
     "text": [
      "100%|██████████| 11/11 [03:44<00:00, 20.42s/it]\n"
     ]
    }
   ],
   "source": [
    "errors = {'train':[], 'test':[]}\n",
    "\n",
    "for n_estimators in tqdm(np.arange(15, 176, 15)):\n",
    "    model = RandomForestClassifier(n_estimators=n_estimators, random_state=42, class_weight='balanced', n_jobs=-1)\n",
    "    model.fit(X_train, y_train)\n",
    "    errors['train'].append(model.score(X_train, y_train))\n",
    "    errors['test'].append(model.score(X_val, y_val))\n",
    "\n",
    "errors = pd.DataFrame(errors, index=np.arange(15, 176, 15)) "
   ]
  },
  {
   "cell_type": "code",
   "execution_count": 10,
   "metadata": {},
   "outputs": [
    {
     "data": {
      "image/png": "[encoded data removed]",
      "text/plain": [
       "<Figure size 1080x288 with 2 Axes>"
      ]
     },
     "metadata": {
      "needs_background": "light"
     },
     "output_type": "display_data"
    }
   ],
   "source": [
    "fig, ax = plt.subplots(1, 2, figsize=(15,4))\n",
    "ax[0].plot(errors['train'], label='train', color='blue')\n",
    "ax[1].plot(errors['test'], label='test', color='red')\n",
    "ax[0].set_xlabel('n_estimators')\n",
    "ax[1].set_xlabel('n_estimators')\n",
    "ax[0].set_title('Train score by the number of estimators')\n",
    "ax[1].set_title('Test score by the number of estimators')\n",
    "ax[0].legend()\n",
    "ax[1].legend()\n",
    "plt.plot();"
   ]
  },
  {
   "cell_type": "code",
   "execution_count": 7,
   "metadata": {},
   "outputs": [],
   "source": [
    "def objective(trial):\n",
    "    # params\n",
    "    criterion = trial.suggest_categorical('criterion', ['gini', 'entropy'])\n",
    "    n_estimators = trial.suggest_int('n_estimators', 50, 200)\n",
    "    max_depth = trial.suggest_int('max_depth', 10, 30)\n",
    "    max_features = trial.suggest_categorical('max_features', [\"sqrt\", \"log2\", None])\n",
    "    classifier = RandomForestClassifier(random_state=42, criterion=criterion, n_estimators=n_estimators, n_jobs=-1,\n",
    "                                        max_depth=max_depth, max_features=max_features, class_weight='balanced')\n",
    "    classifier.fit(X_train, y_train)\n",
    "    score = roc_auc_score(y_val, classifier.predict(X_val))\n",
    "    return score"
   ]
  },
  {
   "cell_type": "code",
   "execution_count": 8,
   "metadata": {
    "scrolled": true
   },
   "outputs": [
    {
     "name": "stderr",
     "output_type": "stream",
     "text": [
      "\u001b[32m[I 2021-03-02 13:07:14,903]\u001b[0m A new study created in memory with name: no-name-c933dcc0-2a20-4abd-8d61-0baaafac2837\u001b[0m\n"
     ]
    },
    {
     "data": {
      "application/vnd.jupyter.widget-view+json": {
       "model_id": "a2353199744f4e66b7296719fbaf16e7",
       "version_major": 2,
       "version_minor": 0
      },
      "text/plain": [
       "HBox(children=(HTML(value=''), FloatProgress(value=0.0), HTML(value='')))"
      ]
     },
     "metadata": {},
     "output_type": "display_data"
    },
    {
     "name": "stdout",
     "output_type": "stream",
     "text": [
      "\u001b[32m[I 2021-03-02 13:07:39,042]\u001b[0m Trial 0 finished with value: 0.8145775140447936 and parameters: {'criterion': 'entropy', 'n_estimators': 151, 'max_depth': 17, 'max_features': 'log2'}. Best is trial 0 with value: 0.8145775140447936.\u001b[0m\n",
      "\u001b[32m[I 2021-03-02 13:08:11,681]\u001b[0m Trial 1 finished with value: 0.8166401775815384 and parameters: {'criterion': 'entropy', 'n_estimators': 57, 'max_depth': 14, 'max_features': None}. Best is trial 1 with value: 0.8166401775815384.\u001b[0m\n",
      "\u001b[32m[I 2021-03-02 13:08:41,186]\u001b[0m Trial 2 finished with value: 0.814063702856646 and parameters: {'criterion': 'gini', 'n_estimators': 183, 'max_depth': 18, 'max_features': 'sqrt'}. Best is trial 1 with value: 0.8166401775815384.\u001b[0m\n",
      "\u001b[32m[I 2021-03-02 13:09:10,362]\u001b[0m Trial 3 finished with value: 0.7935230218674701 and parameters: {'criterion': 'gini', 'n_estimators': 160, 'max_depth': 28, 'max_features': 'sqrt'}. Best is trial 1 with value: 0.8166401775815384.\u001b[0m\n",
      "\u001b[32m[I 2021-03-02 13:10:24,896]\u001b[0m Trial 4 finished with value: 0.7882493877777774 and parameters: {'criterion': 'gini', 'n_estimators': 114, 'max_depth': 25, 'max_features': None}. Best is trial 1 with value: 0.8166401775815384.\u001b[0m\n",
      "\u001b[32m[I 2021-03-02 13:10:54,106]\u001b[0m Trial 5 finished with value: 0.7934282857191166 and parameters: {'criterion': 'entropy', 'n_estimators': 162, 'max_depth': 29, 'max_features': 'sqrt'}. Best is trial 1 with value: 0.8166401775815384.\u001b[0m\n",
      "\u001b[32m[I 2021-03-02 13:11:27,810]\u001b[0m Trial 6 finished with value: 0.7895050428753966 and parameters: {'criterion': 'gini', 'n_estimators': 194, 'max_depth': 30, 'max_features': 'log2'}. Best is trial 1 with value: 0.8166401775815384.\u001b[0m\n",
      "\u001b[32m[I 2021-03-02 13:11:47,880]\u001b[0m Trial 7 finished with value: 0.8112427878203577 and parameters: {'criterion': 'gini', 'n_estimators': 146, 'max_depth': 14, 'max_features': 'log2'}. Best is trial 1 with value: 0.8166401775815384.\u001b[0m\n",
      "\u001b[32m[I 2021-03-02 13:12:15,598]\u001b[0m Trial 8 finished with value: 0.8137095335517102 and parameters: {'criterion': 'entropy', 'n_estimators': 174, 'max_depth': 19, 'max_features': 'sqrt'}. Best is trial 1 with value: 0.8166401775815384.\u001b[0m\n",
      "\u001b[32m[I 2021-03-02 13:12:37,200]\u001b[0m Trial 9 finished with value: 0.8128251454685549 and parameters: {'criterion': 'gini', 'n_estimators': 140, 'max_depth': 18, 'max_features': 'sqrt'}. Best is trial 1 with value: 0.8166401775815384.\u001b[0m\n",
      "\u001b[32m[I 2021-03-02 13:13:08,601]\u001b[0m Trial 10 finished with value: 0.8152728784088881 and parameters: {'criterion': 'entropy', 'n_estimators': 66, 'max_depth': 11, 'max_features': None}. Best is trial 1 with value: 0.8166401775815384.\u001b[0m\n",
      "\u001b[32m[I 2021-03-02 13:13:31,984]\u001b[0m Trial 11 finished with value: 0.811738379854861 and parameters: {'criterion': 'entropy', 'n_estimators': 53, 'max_depth': 10, 'max_features': None}. Best is trial 1 with value: 0.8166401775815384.\u001b[0m\n",
      "\u001b[32m[I 2021-03-02 13:13:54,252]\u001b[0m Trial 12 finished with value: 0.8114453723867333 and parameters: {'criterion': 'entropy', 'n_estimators': 50, 'max_depth': 10, 'max_features': None}. Best is trial 1 with value: 0.8166401775815384.\u001b[0m\n",
      "\u001b[32m[I 2021-03-02 13:14:38,486]\u001b[0m Trial 13 finished with value: 0.8174347638704521 and parameters: {'criterion': 'entropy', 'n_estimators': 86, 'max_depth': 13, 'max_features': None}. Best is trial 13 with value: 0.8174347638704521.\u001b[0m\n",
      "\u001b[32m[I 2021-03-02 13:15:24,760]\u001b[0m Trial 14 finished with value: 0.8166422996988663 and parameters: {'criterion': 'entropy', 'n_estimators': 86, 'max_depth': 14, 'max_features': None}. Best is trial 13 with value: 0.8174347638704521.\u001b[0m\n",
      "\u001b[32m[I 2021-03-02 13:16:19,179]\u001b[0m Trial 15 finished with value: 0.7959119566301328 and parameters: {'criterion': 'entropy', 'n_estimators': 91, 'max_depth': 23, 'max_features': None}. Best is trial 13 with value: 0.8174347638704521.\u001b[0m\n",
      "\u001b[32m[I 2021-03-02 13:17:04,210]\u001b[0m Trial 16 finished with value: 0.8166140910660931 and parameters: {'criterion': 'entropy', 'n_estimators': 85, 'max_depth': 14, 'max_features': None}. Best is trial 13 with value: 0.8174347638704521.\u001b[0m\n",
      "\u001b[32m[I 2021-03-02 13:17:58,385]\u001b[0m Trial 17 finished with value: 0.8170581311772162 and parameters: {'criterion': 'entropy', 'n_estimators': 111, 'max_depth': 12, 'max_features': None}. Best is trial 13 with value: 0.8174347638704521.\u001b[0m\n",
      "\u001b[32m[I 2021-03-02 13:18:46,937]\u001b[0m Trial 18 finished with value: 0.8147895877536923 and parameters: {'criterion': 'entropy', 'n_estimators': 104, 'max_depth': 11, 'max_features': None}. Best is trial 13 with value: 0.8174347638704521.\u001b[0m\n",
      "\u001b[32m[I 2021-03-02 13:19:59,064]\u001b[0m Trial 19 finished with value: 0.8144005846692033 and parameters: {'criterion': 'entropy', 'n_estimators': 130, 'max_depth': 16, 'max_features': None}. Best is trial 13 with value: 0.8174347638704521.\u001b[0m\n",
      "\u001b[32m[I 2021-03-02 13:20:35,366]\u001b[0m Trial 20 finished with value: 0.8181556454014408 and parameters: {'criterion': 'entropy', 'n_estimators': 73, 'max_depth': 12, 'max_features': None}. Best is trial 20 with value: 0.8181556454014408.\u001b[0m\n",
      "\u001b[32m[I 2021-03-02 13:21:14,081]\u001b[0m Trial 21 finished with value: 0.8177750790273042 and parameters: {'criterion': 'entropy', 'n_estimators': 77, 'max_depth': 12, 'max_features': None}. Best is trial 20 with value: 0.8181556454014408.\u001b[0m\n",
      "\u001b[32m[I 2021-03-02 13:21:47,935]\u001b[0m Trial 22 finished with value: 0.8181324918936843 and parameters: {'criterion': 'entropy', 'n_estimators': 70, 'max_depth': 12, 'max_features': None}. Best is trial 20 with value: 0.8181556454014408.\u001b[0m\n",
      "\u001b[32m[I 2021-03-02 13:22:25,666]\u001b[0m Trial 23 finished with value: 0.8151930488407891 and parameters: {'criterion': 'entropy', 'n_estimators': 70, 'max_depth': 15, 'max_features': None}. Best is trial 20 with value: 0.8181556454014408.\u001b[0m\n",
      "\u001b[32m[I 2021-03-02 13:23:07,316]\u001b[0m Trial 24 finished with value: 0.8007311988168592 and parameters: {'criterion': 'entropy', 'n_estimators': 72, 'max_depth': 21, 'max_features': None}. Best is trial 20 with value: 0.8181556454014408.\u001b[0m\n",
      "\u001b[32m[I 2021-03-02 13:23:55,925]\u001b[0m Trial 25 finished with value: 0.8175515320824458 and parameters: {'criterion': 'entropy', 'n_estimators': 100, 'max_depth': 12, 'max_features': None}. Best is trial 20 with value: 0.8181556454014408.\u001b[0m\n",
      "\u001b[32m[I 2021-03-02 13:24:04,417]\u001b[0m Trial 26 finished with value: 0.800403512846056 and parameters: {'criterion': 'entropy', 'n_estimators': 76, 'max_depth': 10, 'max_features': 'log2'}. Best is trial 20 with value: 0.8181556454014408.\u001b[0m\n",
      "\u001b[32m[I 2021-03-02 13:24:33,327]\u001b[0m Trial 27 finished with value: 0.8175696304651854 and parameters: {'criterion': 'entropy', 'n_estimators': 59, 'max_depth': 12, 'max_features': None}. Best is trial 20 with value: 0.8181556454014408.\u001b[0m\n",
      "\u001b[32m[I 2021-03-02 13:25:27,410]\u001b[0m Trial 28 finished with value: 0.8141437739665547 and parameters: {'criterion': 'entropy', 'n_estimators': 98, 'max_depth': 16, 'max_features': None}. Best is trial 20 with value: 0.8181556454014408.\u001b[0m\n",
      "\u001b[32m[I 2021-03-02 13:25:46,558]\u001b[0m Trial 29 finished with value: 0.808373236615392 and parameters: {'criterion': 'entropy', 'n_estimators': 120, 'max_depth': 21, 'max_features': 'log2'}. Best is trial 20 with value: 0.8181556454014408.\u001b[0m\n",
      "\u001b[32m[I 2021-03-02 13:26:30,631]\u001b[0m Trial 30 finished with value: 0.8122899923362233 and parameters: {'criterion': 'entropy', 'n_estimators': 78, 'max_depth': 17, 'max_features': None}. Best is trial 20 with value: 0.8181556454014408.\u001b[0m\n",
      "\u001b[32m[I 2021-03-02 13:27:01,060]\u001b[0m Trial 31 finished with value: 0.8180398778626586 and parameters: {'criterion': 'entropy', 'n_estimators': 62, 'max_depth': 12, 'max_features': None}. Best is trial 20 with value: 0.8181556454014408.\u001b[0m\n",
      "\u001b[32m[I 2021-03-02 13:27:32,747]\u001b[0m Trial 32 finished with value: 0.8177660902213869 and parameters: {'criterion': 'entropy', 'n_estimators': 62, 'max_depth': 13, 'max_features': None}. Best is trial 20 with value: 0.8181556454014408.\u001b[0m\n",
      "\u001b[32m[I 2021-03-02 13:27:57,445]\u001b[0m Trial 33 finished with value: 0.8150291109639622 and parameters: {'criterion': 'entropy', 'n_estimators': 54, 'max_depth': 11, 'max_features': None}. Best is trial 20 with value: 0.8181556454014408.\u001b[0m\n",
      "\u001b[32m[I 2021-03-02 13:28:24,582]\u001b[0m Trial 34 finished with value: 0.8149455374978132 and parameters: {'criterion': 'entropy', 'n_estimators': 50, 'max_depth': 15, 'max_features': None}. Best is trial 20 with value: 0.8181556454014408.\u001b[0m\n"
     ]
    },
    {
     "name": "stdout",
     "output_type": "stream",
     "text": [
      "\u001b[32m[I 2021-03-02 13:29:04,579]\u001b[0m Trial 35 finished with value: 0.8178717475101354 and parameters: {'criterion': 'entropy', 'n_estimators': 79, 'max_depth': 13, 'max_features': None}. Best is trial 20 with value: 0.8181556454014408.\u001b[0m\n",
      "\u001b[32m[I 2021-03-02 13:29:36,899]\u001b[0m Trial 36 finished with value: 0.8177530469636641 and parameters: {'criterion': 'entropy', 'n_estimators': 64, 'max_depth': 13, 'max_features': None}. Best is trial 20 with value: 0.8181556454014408.\u001b[0m\n",
      "\u001b[32m[I 2021-03-02 13:29:47,065]\u001b[0m Trial 37 finished with value: 0.8006813549391332 and parameters: {'criterion': 'entropy', 'n_estimators': 94, 'max_depth': 10, 'max_features': 'sqrt'}. Best is trial 20 with value: 0.8181556454014408.\u001b[0m\n",
      "\u001b[32m[I 2021-03-02 13:30:32,295]\u001b[0m Trial 38 finished with value: 0.813758652804007 and parameters: {'criterion': 'gini', 'n_estimators': 82, 'max_depth': 15, 'max_features': None}. Best is trial 20 with value: 0.8181556454014408.\u001b[0m\n",
      "\u001b[32m[I 2021-03-02 13:30:48,170]\u001b[0m Trial 39 finished with value: 0.8139220385852689 and parameters: {'criterion': 'entropy', 'n_estimators': 107, 'max_depth': 17, 'max_features': 'log2'}. Best is trial 20 with value: 0.8181556454014408.\u001b[0m\n",
      "\u001b[32m[I 2021-03-02 13:31:24,258]\u001b[0m Trial 40 finished with value: 0.8171449999637688 and parameters: {'criterion': 'gini', 'n_estimators': 70, 'max_depth': 13, 'max_features': None}. Best is trial 20 with value: 0.8181556454014408.\u001b[0m\n",
      "\u001b[32m[I 2021-03-02 13:32:01,032]\u001b[0m Trial 41 finished with value: 0.8182583696825002 and parameters: {'criterion': 'entropy', 'n_estimators': 76, 'max_depth': 12, 'max_features': None}. Best is trial 41 with value: 0.8182583696825002.\u001b[0m\n",
      "\u001b[32m[I 2021-03-02 13:32:28,191]\u001b[0m Trial 42 finished with value: 0.8148156742691376 and parameters: {'criterion': 'entropy', 'n_estimators': 59, 'max_depth': 11, 'max_features': None}. Best is trial 41 with value: 0.8182583696825002.\u001b[0m\n",
      "\u001b[32m[I 2021-03-02 13:33:03,667]\u001b[0m Trial 43 finished with value: 0.8168687796514137 and parameters: {'criterion': 'entropy', 'n_estimators': 67, 'max_depth': 14, 'max_features': None}. Best is trial 41 with value: 0.8182583696825002.\u001b[0m\n",
      "\u001b[32m[I 2021-03-02 13:33:18,715]\u001b[0m Trial 44 finished with value: 0.7974135012900058 and parameters: {'criterion': 'entropy', 'n_estimators': 90, 'max_depth': 26, 'max_features': 'sqrt'}. Best is trial 41 with value: 0.8182583696825002.\u001b[0m\n",
      "\u001b[32m[I 2021-03-02 13:33:56,082]\u001b[0m Trial 45 finished with value: 0.8177750790273042 and parameters: {'criterion': 'entropy', 'n_estimators': 77, 'max_depth': 12, 'max_features': None}. Best is trial 41 with value: 0.8182583696825002.\u001b[0m\n",
      "\u001b[32m[I 2021-03-02 13:34:19,153]\u001b[0m Trial 46 finished with value: 0.8120827494635183 and parameters: {'criterion': 'entropy', 'n_estimators': 54, 'max_depth': 10, 'max_features': None}. Best is trial 41 with value: 0.8182583696825002.\u001b[0m\n",
      "\u001b[32m[I 2021-03-02 13:34:48,822]\u001b[0m Trial 47 finished with value: 0.8158402946257982 and parameters: {'criterion': 'gini', 'n_estimators': 64, 'max_depth': 11, 'max_features': None}. Best is trial 41 with value: 0.8182583696825002.\u001b[0m\n",
      "\u001b[32m[I 2021-03-02 13:35:31,899]\u001b[0m Trial 48 finished with value: 0.8161850955591158 and parameters: {'criterion': 'entropy', 'n_estimators': 82, 'max_depth': 14, 'max_features': None}. Best is trial 41 with value: 0.8182583696825002.\u001b[0m\n",
      "\u001b[32m[I 2021-03-02 13:35:42,349]\u001b[0m Trial 49 finished with value: 0.81249338779296 and parameters: {'criterion': 'entropy', 'n_estimators': 73, 'max_depth': 16, 'max_features': 'sqrt'}. Best is trial 41 with value: 0.8182583696825002.\u001b[0m\n",
      "\u001b[32m[I 2021-03-02 13:36:34,765]\u001b[0m Trial 50 finished with value: 0.8074617613435797 and parameters: {'criterion': 'entropy', 'n_estimators': 92, 'max_depth': 19, 'max_features': None}. Best is trial 41 with value: 0.8182583696825002.\u001b[0m\n",
      "\u001b[32m[I 2021-03-02 13:37:13,460]\u001b[0m Trial 51 finished with value: 0.8181838540342141 and parameters: {'criterion': 'entropy', 'n_estimators': 80, 'max_depth': 12, 'max_features': None}. Best is trial 41 with value: 0.8182583696825002.\u001b[0m\n",
      "\u001b[32m[I 2021-03-02 13:37:54,479]\u001b[0m Trial 52 finished with value: 0.8175555865342512 and parameters: {'criterion': 'entropy', 'n_estimators': 81, 'max_depth': 13, 'max_features': None}. Best is trial 41 with value: 0.8182583696825002.\u001b[0m\n",
      "\n",
      "Wall time: 30min 39s\n"
     ]
    }
   ],
   "source": [
    "%%time\n",
    "study = optuna.create_study(direction=\"maximize\")\n",
    "study.optimize(objective, n_trials=100, timeout=30*60, show_progress_bar=True)"
   ]
  },
  {
   "cell_type": "code",
   "execution_count": 9,
   "metadata": {},
   "outputs": [
    {
     "name": "stdout",
     "output_type": "stream",
     "text": [
      "Wall time: 9min 37s\n"
     ]
    }
   ],
   "source": [
    "%%time\n",
    "params = {**study.best_params, **{'n_jobs':-1, 'random_state':42, 'class_weight':'balanced'}}\n",
    "model = RandomForestClassifier(**params)\n",
    "acc_scores = cross_val_score(model, X_train, y_train, scoring='accuracy')\n",
    "precision_scores = cross_val_score(model, X_train, y_train, scoring='precision')\n",
    "recall_scores = cross_val_score(model, X_train, y_train, scoring='recall')\n",
    "f1_scores = cross_val_score(model, X_train, y_train, scoring='f1')"
   ]
  },
  {
   "cell_type": "code",
   "execution_count": 10,
   "metadata": {},
   "outputs": [
    {
     "data": {
      "text/html": [
       "<div>\n",
       "<style scoped>\n",
       "    .dataframe tbody tr th:only-of-type {\n",
       "        vertical-align: middle;\n",
       "    }\n",
       "\n",
       "    .dataframe tbody tr th {\n",
       "        vertical-align: top;\n",
       "    }\n",
       "\n",
       "    .dataframe thead th {\n",
       "        text-align: right;\n",
       "    }\n",
       "</style>\n",
       "<table border=\"1\" class=\"dataframe\">\n",
       "  <thead>\n",
       "    <tr style=\"text-align: right;\">\n",
       "      <th></th>\n",
       "      <th>Model</th>\n",
       "      <th>Accuracy</th>\n",
       "      <th>Precision</th>\n",
       "      <th>Recall</th>\n",
       "      <th>F1</th>\n",
       "    </tr>\n",
       "  </thead>\n",
       "  <tbody>\n",
       "    <tr>\n",
       "      <th>0</th>\n",
       "      <td>KNN</td>\n",
       "      <td>0.860</td>\n",
       "      <td>0.880</td>\n",
       "      <td>0.950</td>\n",
       "      <td>0.910</td>\n",
       "    </tr>\n",
       "    <tr>\n",
       "      <th>1</th>\n",
       "      <td>LogReg</td>\n",
       "      <td>0.850</td>\n",
       "      <td>0.870</td>\n",
       "      <td>0.950</td>\n",
       "      <td>0.910</td>\n",
       "    </tr>\n",
       "    <tr>\n",
       "      <th>2</th>\n",
       "      <td>NN</td>\n",
       "      <td>0.860</td>\n",
       "      <td>0.890</td>\n",
       "      <td>0.950</td>\n",
       "      <td>0.910</td>\n",
       "    </tr>\n",
       "    <tr>\n",
       "      <th>3</th>\n",
       "      <td>RandomForest</td>\n",
       "      <td>0.848</td>\n",
       "      <td>0.919</td>\n",
       "      <td>0.878</td>\n",
       "      <td>0.898</td>\n",
       "    </tr>\n",
       "  </tbody>\n",
       "</table>\n",
       "</div>"
      ],
      "text/plain": [
       "          Model  Accuracy  Precision  Recall     F1\n",
       "0           KNN     0.860      0.880   0.950  0.910\n",
       "1        LogReg     0.850      0.870   0.950  0.910\n",
       "2            NN     0.860      0.890   0.950  0.910\n",
       "3  RandomForest     0.848      0.919   0.878  0.898"
      ]
     },
     "execution_count": 10,
     "metadata": {},
     "output_type": "execute_result"
    }
   ],
   "source": [
    "acc_score = round(acc_scores.mean(), 3)\n",
    "precision_score = round(precision_scores.mean(), 3)\n",
    "recall_score = round(recall_scores.mean(), 3)\n",
    "f1_score = round(f1_scores.mean(), 3)\n",
    "metrics = metrics.append({'Model':'RandomForest', 'Accuracy':acc_score,\n",
    "                          'Precision':precision_score, 'Recall':recall_score, 'F1':f1_score}, ignore_index=True)\n",
    "metrics"
   ]
  },
  {
   "cell_type": "code",
   "execution_count": 11,
   "metadata": {},
   "outputs": [
    {
     "data": {
      "text/plain": [
       "{'Age': 0.49955076300125717,\n",
       " 'price': 0.15650094497041092,\n",
       " 'powerPS': 0.10812514198645436,\n",
       " 'FuelType_benzin': 0.10056408852122789,\n",
       " 'model': 0.038097776320199714,\n",
       " 'brand': 0.035880922892191476,\n",
       " 'VehicleType_kombi': 0.013526957952025269,\n",
       " 'manual gearbox': 0.00623247444075762,\n",
       " 'VehicleType_cabrio': 0.003919823403130463,\n",
       " 'VehicleType_kleinwagen': 0.0037491723947024485,\n",
       " 'VehicleType_limousine': 0.0028806271374094824,\n",
       " 'VehicleType_bus': 0.0024998927229034277,\n",
       " 'PostalCode_1': 0.002469604398300411,\n",
       " 'PostalCode_2': 0.0024637016294107683,\n",
       " 'PostalCode_4': 0.002296890282453922,\n",
       " 'notRepairedDamage': 0.002234603439097165,\n",
       " 'PostalCode_3': 0.0021493036319695604,\n",
       " 'PostalCode_6': 0.0021366709636497076,\n",
       " 'PostalCode_5': 0.00208831996638483,\n",
       " 'PostalCode_8': 0.0019844579789880406,\n",
       " 'PostalCode_7': 0.0019218010821544064,\n",
       " 'PostalCode_9': 0.0018113287057683087,\n",
       " 'PostalCode_0': 0.0016629485786989542,\n",
       " 'FuelType_diesel': 0.001273475255934518,\n",
       " 'VehicleType_suv': 0.0010487019656862655,\n",
       " 'VehicleType_andere': 0.0008950719749359022,\n",
       " 'VehicleType_coupe': 0.0008589683684615169,\n",
       " 'FuelType_lpg': 0.0004461820647978768,\n",
       " 'FuelType_andere': 0.00022048721036947597,\n",
       " 'FuelType_elektro': 0.0001986367930474669,\n",
       " 'FuelType_hybrid': 0.00016001748613716891,\n",
       " 'FuelType_cng': 0.00015024248108340592}"
      ]
     },
     "execution_count": 11,
     "metadata": {},
     "output_type": "execute_result"
    }
   ],
   "source": [
    "model.fit(X_train, y_train)\n",
    "feature_importances = dict(zip(X_train.columns, model.feature_importances_))\n",
    "feature_importances = dict(sorted(feature_importances.items(), key=lambda x: x[1], reverse=True) )\n",
    "feature_importances"
   ]
  },
  {
   "cell_type": "markdown",
   "metadata": {},
   "source": [
    "Precision is better -> we choose not a lot of false positive example, but recall lower -> we choose not all relevant items. For the model it's harder to find all correct answers, but confidence in found answers much better."
   ]
  },
  {
   "cell_type": "markdown",
   "metadata": {},
   "source": [
    "## Gradient Boosting"
   ]
  },
  {
   "cell_type": "code",
   "execution_count": 12,
   "metadata": {},
   "outputs": [],
   "source": [
    "from xgboost import XGBClassifier\n",
    "from catboost import CatBoostClassifier"
   ]
  },
  {
   "cell_type": "code",
   "execution_count": 13,
   "metadata": {},
   "outputs": [],
   "source": [
    "errors = {'train':[], 'test':[]}\n",
    "\n",
    "for n_estimators in np.arange(15, 176, 15):\n",
    "    \n",
    "    model = XGBClassifier(n_estimators=n_estimators, random_state=42, n_jobs=-1)\n",
    "    model.fit(X_train, y_train)\n",
    "    errors['train'].append(model.score(X_train, y_train))\n",
    "    errors['test'].append(model.score(X_val, y_val))\n",
    "    clear_output()\n",
    "    \n",
    "errors = pd.DataFrame(errors, index=np.arange(15, 176, 15)) "
   ]
  },
  {
   "cell_type": "code",
   "execution_count": 14,
   "metadata": {},
   "outputs": [
    {
     "data": {
      "image/png": "[encoded data removed]",
      "text/plain": [
       "<Figure size 1080x288 with 2 Axes>"
      ]
     },
     "metadata": {
      "needs_background": "light"
     },
     "output_type": "display_data"
    }
   ],
   "source": [
    "fig, ax = plt.subplots(1, 2, figsize=(15,4))\n",
    "ax[0].plot(errors['train'], label='train', color='blue')\n",
    "ax[1].plot(errors['test'], label='test', color='red')\n",
    "ax[0].set_xlabel('n_estimators')\n",
    "ax[1].set_xlabel('n_estimators')\n",
    "ax[0].set_title('Train score by the number of estimators')\n",
    "ax[1].set_title('Test score by the number of estimators')\n",
    "ax[0].legend()\n",
    "ax[1].legend()\n",
    "plt.plot();"
   ]
  },
  {
   "cell_type": "code",
   "execution_count": 15,
   "metadata": {},
   "outputs": [],
   "source": [
    "errors = {'train':[], 'test':[]}\n",
    "\n",
    "for n_estimators in np.arange(15, 176, 15):\n",
    "    \n",
    "    model = CatBoostClassifier(n_estimators=n_estimators, random_state=42, verbose=False)\n",
    "    model.fit(X_train, y_train)\n",
    "    errors['train'].append(model.score(X_train, y_train))\n",
    "    errors['test'].append(model.score(X_val, y_val))\n",
    "    \n",
    "errors = pd.DataFrame(errors, index=np.arange(15, 176, 15)) "
   ]
  },
  {
   "cell_type": "code",
   "execution_count": 16,
   "metadata": {},
   "outputs": [
    {
     "data": {
      "image/png": "[encoded data removed]",
      "text/plain": [
       "<Figure size 1080x288 with 2 Axes>"
      ]
     },
     "metadata": {
      "needs_background": "light"
     },
     "output_type": "display_data"
    }
   ],
   "source": [
    "fig, ax = plt.subplots(1, 2, figsize=(15,4))\n",
    "ax[0].plot(errors['train'], label='train', color='blue')\n",
    "ax[1].plot(errors['test'], label='test', color='red')\n",
    "ax[0].set_xlabel('n_estimators')\n",
    "ax[1].set_xlabel('n_estimators')\n",
    "ax[0].set_title('Train score by the number of estimators')\n",
    "ax[1].set_title('Test score by the number of estimators')\n",
    "ax[0].legend()\n",
    "ax[1].legend()\n",
    "plt.plot();"
   ]
  },
  {
   "cell_type": "markdown",
   "metadata": {},
   "source": [
    "#### hyperopt"
   ]
  },
  {
   "cell_type": "code",
   "execution_count": 17,
   "metadata": {},
   "outputs": [],
   "source": [
    "sample_weights = (1 / pd.concat([X_train, y_train], axis=1).groupby('kilometer')['kilometer'].transform('size'))"
   ]
  },
  {
   "cell_type": "code",
   "execution_count": 18,
   "metadata": {},
   "outputs": [],
   "source": [
    "def objective(trial):\n",
    "    # params\n",
    "    max_depth = trial.suggest_int('max_depth', 3, 15)\n",
    "    n_estimators = trial.suggest_int('n_estimators', 50, 500)\n",
    "    learning_rate = trial.suggest_uniform('learning_rate', 0.001, 0.3)\n",
    "    booster = trial.suggest_categorical('booster', ['gbtree', 'gblinear', 'dart'])\n",
    "    # model\n",
    "    classifier = XGBClassifier(max_depth=max_depth, n_estimators=n_estimators, learning_rate=learning_rate,\n",
    "                               booster=booster, verbosity=0, random_state=42, n_jobs=-1)\n",
    "    classifier.fit(X_train, y_train, sample_weight=sample_weights)\n",
    "    score = roc_auc_score(y_val, classifier.predict(X_val))\n",
    "    return score"
   ]
  },
  {
   "cell_type": "code",
   "execution_count": 19,
   "metadata": {
    "scrolled": true
   },
   "outputs": [
    {
     "name": "stderr",
     "output_type": "stream",
     "text": [
      "\u001b[32m[I 2021-03-02 13:51:28,780]\u001b[0m A new study created in memory with name: no-name-56e5fc44-5eae-4e76-8671-d6a054d9724d\u001b[0m\n"
     ]
    },
    {
     "data": {
      "application/vnd.jupyter.widget-view+json": {
       "model_id": "28c3a832c68d4165853e9ff5b50da3c2",
       "version_major": 2,
       "version_minor": 0
      },
      "text/plain": [
       "HBox(children=(HTML(value=''), FloatProgress(value=0.0), HTML(value='')))"
      ]
     },
     "metadata": {},
     "output_type": "display_data"
    },
    {
     "name": "stdout",
     "output_type": "stream",
     "text": [
      "\u001b[32m[I 2021-03-02 13:51:36,754]\u001b[0m Trial 0 finished with value: 0.7454356534344311 and parameters: {'max_depth': 13, 'n_estimators': 232, 'learning_rate': 0.03857533108982766, 'booster': 'gblinear'}. Best is trial 0 with value: 0.7454356534344311.\u001b[0m\n",
      "\u001b[32m[I 2021-03-02 13:52:24,610]\u001b[0m Trial 1 finished with value: 0.5 and parameters: {'max_depth': 6, 'n_estimators': 446, 'learning_rate': 0.0940262845064522, 'booster': 'dart'}. Best is trial 0 with value: 0.7454356534344311.\u001b[0m\n",
      "\u001b[32m[I 2021-03-02 13:53:05,091]\u001b[0m Trial 2 finished with value: 0.5 and parameters: {'max_depth': 6, 'n_estimators': 402, 'learning_rate': 0.2593020180995164, 'booster': 'dart'}. Best is trial 0 with value: 0.7454356534344311.\u001b[0m\n",
      "\u001b[32m[I 2021-03-02 13:53:12,527]\u001b[0m Trial 3 finished with value: 0.5 and parameters: {'max_depth': 12, 'n_estimators': 180, 'learning_rate': 0.03833350188445537, 'booster': 'gbtree'}. Best is trial 0 with value: 0.7454356534344311.\u001b[0m\n",
      "\u001b[32m[I 2021-03-02 13:53:15,819]\u001b[0m Trial 4 finished with value: 0.7582056583584336 and parameters: {'max_depth': 9, 'n_estimators': 83, 'learning_rate': 0.2968597887274032, 'booster': 'gblinear'}. Best is trial 4 with value: 0.7582056583584336.\u001b[0m\n",
      "\u001b[32m[I 2021-03-02 13:53:30,177]\u001b[0m Trial 5 finished with value: 0.7501645244783646 and parameters: {'max_depth': 4, 'n_estimators': 463, 'learning_rate': 0.028033994747344956, 'booster': 'gblinear'}. Best is trial 4 with value: 0.7582056583584336.\u001b[0m\n",
      "\u001b[32m[I 2021-03-02 13:53:35,813]\u001b[0m Trial 6 finished with value: 0.5 and parameters: {'max_depth': 10, 'n_estimators': 119, 'learning_rate': 0.18497110206203313, 'booster': 'gbtree'}. Best is trial 4 with value: 0.7582056583584336.\u001b[0m\n",
      "\u001b[32m[I 2021-03-02 13:53:57,761]\u001b[0m Trial 7 finished with value: 0.5 and parameters: {'max_depth': 7, 'n_estimators': 484, 'learning_rate': 0.08370907993501774, 'booster': 'gbtree'}. Best is trial 4 with value: 0.7582056583584336.\u001b[0m\n",
      "\u001b[32m[I 2021-03-02 13:54:17,014]\u001b[0m Trial 8 finished with value: 0.7681884433285979 and parameters: {'max_depth': 14, 'n_estimators': 466, 'learning_rate': 0.2607547417254634, 'booster': 'gblinear'}. Best is trial 8 with value: 0.7681884433285979.\u001b[0m\n",
      "\u001b[32m[I 2021-03-02 13:54:23,165]\u001b[0m Trial 9 finished with value: 0.5 and parameters: {'max_depth': 6, 'n_estimators': 100, 'learning_rate': 0.08592928443511992, 'booster': 'dart'}. Best is trial 8 with value: 0.7681884433285979.\u001b[0m\n",
      "\u001b[32m[I 2021-03-02 13:54:34,127]\u001b[0m Trial 10 finished with value: 0.7642851104311901 and parameters: {'max_depth': 15, 'n_estimators': 333, 'learning_rate': 0.21577912275706806, 'booster': 'gblinear'}. Best is trial 8 with value: 0.7681884433285979.\u001b[0m\n",
      "\u001b[32m[I 2021-03-02 13:54:45,188]\u001b[0m Trial 11 finished with value: 0.7645086573760485 and parameters: {'max_depth': 15, 'n_estimators': 344, 'learning_rate': 0.21579143249154473, 'booster': 'gblinear'}. Best is trial 8 with value: 0.7681884433285979.\u001b[0m\n",
      "\u001b[32m[I 2021-03-02 13:54:57,349]\u001b[0m Trial 12 finished with value: 0.7651178258200603 and parameters: {'max_depth': 15, 'n_estimators': 342, 'learning_rate': 0.24156234344572108, 'booster': 'gblinear'}. Best is trial 8 with value: 0.7681884433285979.\u001b[0m\n",
      "\u001b[32m[I 2021-03-02 13:55:09,743]\u001b[0m Trial 13 finished with value: 0.7670930512217013 and parameters: {'max_depth': 13, 'n_estimators': 363, 'learning_rate': 0.2880589778748998, 'booster': 'gblinear'}. Best is trial 8 with value: 0.7681884433285979.\u001b[0m\n",
      "\u001b[32m[I 2021-03-02 13:55:23,308]\u001b[0m Trial 14 finished with value: 0.7681088725552949 and parameters: {'max_depth': 12, 'n_estimators': 400, 'learning_rate': 0.2971652811532005, 'booster': 'gblinear'}. Best is trial 8 with value: 0.7681884433285979.\u001b[0m\n",
      "\u001b[32m[I 2021-03-02 13:55:36,431]\u001b[0m Trial 15 finished with value: 0.7625140223647012 and parameters: {'max_depth': 11, 'n_estimators': 417, 'learning_rate': 0.14916017757241862, 'booster': 'gblinear'}. Best is trial 8 with value: 0.7681884433285979.\u001b[0m\n",
      "\u001b[32m[I 2021-03-02 13:55:53,103]\u001b[0m Trial 16 finished with value: 0.7706410933700568 and parameters: {'max_depth': 13, 'n_estimators': 500, 'learning_rate': 0.2972637078492422, 'booster': 'gblinear'}. Best is trial 16 with value: 0.7706410933700568.\u001b[0m\n",
      "\u001b[32m[I 2021-03-02 13:56:01,579]\u001b[0m Trial 17 finished with value: 0.764730082203579 and parameters: {'max_depth': 14, 'n_estimators': 279, 'learning_rate': 0.2661076128622233, 'booster': 'gblinear'}. Best is trial 16 with value: 0.7706410933700568.\u001b[0m\n",
      "\u001b[32m[I 2021-03-02 13:56:15,753]\u001b[0m Trial 18 finished with value: 0.7647220940708731 and parameters: {'max_depth': 13, 'n_estimators': 495, 'learning_rate': 0.1549269349175225, 'booster': 'gblinear'}. Best is trial 16 with value: 0.7706410933700568.\u001b[0m\n",
      "\u001b[32m[I 2021-03-02 13:56:35,485]\u001b[0m Trial 19 finished with value: 0.5 and parameters: {'max_depth': 11, 'n_estimators': 500, 'learning_rate': 0.23233511628127348, 'booster': 'gbtree'}. Best is trial 16 with value: 0.7706410933700568.\u001b[0m\n",
      "\u001b[32m[I 2021-03-02 13:57:22,839]\u001b[0m Trial 20 finished with value: 0.5 and parameters: {'max_depth': 8, 'n_estimators': 438, 'learning_rate': 0.17818951029227964, 'booster': 'dart'}. Best is trial 16 with value: 0.7706410933700568.\u001b[0m\n",
      "\u001b[32m[I 2021-03-02 13:57:37,216]\u001b[0m Trial 21 finished with value: 0.7678411407122516 and parameters: {'max_depth': 12, 'n_estimators': 393, 'learning_rate': 0.29922052538646493, 'booster': 'gblinear'}. Best is trial 16 with value: 0.7706410933700568.\u001b[0m\n",
      "\u001b[32m[I 2021-03-02 13:57:57,681]\u001b[0m Trial 22 finished with value: 0.7698618622390443 and parameters: {'max_depth': 14, 'n_estimators': 496, 'learning_rate': 0.2787633191237865, 'booster': 'gblinear'}. Best is trial 16 with value: 0.7706410933700568.\u001b[0m\n",
      "\u001b[32m[I 2021-03-02 13:58:18,485]\u001b[0m Trial 23 finished with value: 0.7694459099897897 and parameters: {'max_depth': 14, 'n_estimators': 498, 'learning_rate': 0.2699984321106385, 'booster': 'gblinear'}. Best is trial 16 with value: 0.7706410933700568.\u001b[0m\n",
      "\u001b[32m[I 2021-03-02 13:58:35,552]\u001b[0m Trial 24 finished with value: 0.7701759010976005 and parameters: {'max_depth': 14, 'n_estimators': 492, 'learning_rate': 0.279227584371627, 'booster': 'gblinear'}. Best is trial 16 with value: 0.7706410933700568.\u001b[0m\n",
      "\u001b[32m[I 2021-03-02 13:58:45,715]\u001b[0m Trial 25 finished with value: 0.7656655218735086 and parameters: {'max_depth': 15, 'n_estimators': 295, 'learning_rate': 0.2814302780056302, 'booster': 'gblinear'}. Best is trial 16 with value: 0.7706410933700568.\u001b[0m\n",
      "\u001b[32m[I 2021-03-02 13:59:00,613]\u001b[0m Trial 26 finished with value: 0.7680777309148328 and parameters: {'max_depth': 10, 'n_estimators': 500, 'learning_rate': 0.23872991008661976, 'booster': 'gblinear'}. Best is trial 16 with value: 0.7706410933700568.\u001b[0m\n",
      "\u001b[32m[I 2021-03-02 13:59:13,575]\u001b[0m Trial 27 finished with value: 0.7658890688183672 and parameters: {'max_depth': 14, 'n_estimators': 436, 'learning_rate': 0.20360591472456016, 'booster': 'gblinear'}. Best is trial 16 with value: 0.7706410933700568.\u001b[0m\n",
      "\u001b[32m[I 2021-03-02 13:59:27,016]\u001b[0m Trial 28 finished with value: 0.7673708933147783 and parameters: {'max_depth': 13, 'n_estimators': 469, 'learning_rate': 0.2434495410438911, 'booster': 'gblinear'}. Best is trial 16 with value: 0.7706410933700568.\u001b[0m\n",
      "\u001b[32m[I 2021-03-02 13:59:38,330]\u001b[0m Trial 29 finished with value: 0.7675148694863337 and parameters: {'max_depth': 12, 'n_estimators': 381, 'learning_rate': 0.29885777661745055, 'booster': 'gblinear'}. Best is trial 16 with value: 0.7706410933700568.\u001b[0m\n",
      "\u001b[32m[I 2021-03-02 13:59:43,453]\u001b[0m Trial 30 finished with value: 0.7622311251466073 and parameters: {'max_depth': 13, 'n_estimators': 185, 'learning_rate': 0.2772943738030388, 'booster': 'gblinear'}. Best is trial 16 with value: 0.7706410933700568.\u001b[0m\n",
      "\u001b[32m[I 2021-03-02 13:59:57,530]\u001b[0m Trial 31 finished with value: 0.7692194300372424 and parameters: {'max_depth': 14, 'n_estimators': 491, 'learning_rate': 0.26549187634829907, 'booster': 'gblinear'}. Best is trial 16 with value: 0.7706410933700568.\u001b[0m\n",
      "\u001b[32m[I 2021-03-02 14:00:10,256]\u001b[0m Trial 32 finished with value: 0.7681370811880682 and parameters: {'max_depth': 14, 'n_estimators': 442, 'learning_rate': 0.27609274449918353, 'booster': 'gblinear'}. Best is trial 16 with value: 0.7706410933700568.\u001b[0m\n"
     ]
    },
    {
     "name": "stdout",
     "output_type": "stream",
     "text": [
      "\u001b[32m[I 2021-03-02 14:00:58,297]\u001b[0m Trial 33 finished with value: 0.5 and parameters: {'max_depth': 15, 'n_estimators': 467, 'learning_rate': 0.2562420883221316, 'booster': 'dart'}. Best is trial 16 with value: 0.7706410933700568.\u001b[0m\n",
      "\u001b[32m[I 2021-03-02 14:01:16,029]\u001b[0m Trial 34 finished with value: 0.7612334021957531 and parameters: {'max_depth': 13, 'n_estimators': 428, 'learning_rate': 0.11230987129492347, 'booster': 'gblinear'}. Best is trial 16 with value: 0.7706410933700568.\u001b[0m\n",
      "\u001b[32m[I 2021-03-02 14:01:34,485]\u001b[0m Trial 35 finished with value: 0.7672934446588033 and parameters: {'max_depth': 11, 'n_estimators': 493, 'learning_rate': 0.220643380634958, 'booster': 'gblinear'}. Best is trial 16 with value: 0.7706410933700568.\u001b[0m\n",
      "\u001b[32m[I 2021-03-02 14:01:41,315]\u001b[0m Trial 36 finished with value: 0.7625422309974745 and parameters: {'max_depth': 14, 'n_estimators': 223, 'learning_rate': 0.252794216941981, 'booster': 'gblinear'}. Best is trial 16 with value: 0.7706410933700568.\u001b[0m\n",
      "\u001b[32m[I 2021-03-02 14:02:01,487]\u001b[0m Trial 37 finished with value: 0.5 and parameters: {'max_depth': 12, 'n_estimators': 459, 'learning_rate': 0.010253522732906917, 'booster': 'gbtree'}. Best is trial 16 with value: 0.7706410933700568.\u001b[0m\n",
      "\u001b[32m[I 2021-03-02 14:02:43,629]\u001b[0m Trial 38 finished with value: 0.5 and parameters: {'max_depth': 3, 'n_estimators': 420, 'learning_rate': 0.28657613182171704, 'booster': 'dart'}. Best is trial 16 with value: 0.7706410933700568.\u001b[0m\n",
      "\u001b[32m[I 2021-03-02 14:03:00,059]\u001b[0m Trial 39 finished with value: 0.7659454860839137 and parameters: {'max_depth': 10, 'n_estimators': 474, 'learning_rate': 0.18955230914419868, 'booster': 'gblinear'}. Best is trial 16 with value: 0.7706410933700568.\u001b[0m\n",
      "\u001b[32m[I 2021-03-02 14:03:17,981]\u001b[0m Trial 40 finished with value: 0.5 and parameters: {'max_depth': 15, 'n_estimators': 447, 'learning_rate': 0.29880148613256774, 'booster': 'gbtree'}. Best is trial 16 with value: 0.7706410933700568.\u001b[0m\n",
      "\u001b[32m[I 2021-03-02 14:03:35,125]\u001b[0m Trial 41 finished with value: 0.7693423748183691 and parameters: {'max_depth': 14, 'n_estimators': 492, 'learning_rate': 0.26700508107378346, 'booster': 'gblinear'}. Best is trial 16 with value: 0.7706410933700568.\u001b[0m\n",
      "\u001b[32m[I 2021-03-02 14:03:53,546]\u001b[0m Trial 42 finished with value: 0.7700500233087847 and parameters: {'max_depth': 14, 'n_estimators': 500, 'learning_rate': 0.2718365792028837, 'booster': 'gblinear'}. Best is trial 16 with value: 0.7706410933700568.\u001b[0m\n",
      "\u001b[32m[I 2021-03-02 14:04:08,213]\u001b[0m Trial 43 finished with value: 0.7694278116070501 and parameters: {'max_depth': 13, 'n_estimators': 473, 'learning_rate': 0.2766799060870449, 'booster': 'gblinear'}. Best is trial 16 with value: 0.7706410933700568.\u001b[0m\n",
      "\u001b[32m[I 2021-03-02 14:04:26,311]\u001b[0m Trial 44 finished with value: 0.7675018262286111 and parameters: {'max_depth': 15, 'n_estimators': 455, 'learning_rate': 0.2506688835008757, 'booster': 'gblinear'}. Best is trial 16 with value: 0.7706410933700568.\u001b[0m\n",
      "\u001b[32m[I 2021-03-02 14:04:47,037]\u001b[0m Trial 45 finished with value: 0.7674736175958377 and parameters: {'max_depth': 13, 'n_estimators': 500, 'learning_rate': 0.22762922968042465, 'booster': 'gblinear'}. Best is trial 16 with value: 0.7706410933700568.\u001b[0m\n",
      "\u001b[32m[I 2021-03-02 14:05:03,352]\u001b[0m Trial 46 finished with value: 0.7702685151286262 and parameters: {'max_depth': 14, 'n_estimators': 481, 'learning_rate': 0.28871117397936924, 'booster': 'gblinear'}. Best is trial 16 with value: 0.7706410933700568.\u001b[0m\n",
      "\u001b[32m[I 2021-03-02 14:05:14,978]\u001b[0m Trial 47 finished with value: 0.7682810573596236 and parameters: {'max_depth': 12, 'n_estimators': 421, 'learning_rate': 0.28972129900054844, 'booster': 'gblinear'}. Best is trial 16 with value: 0.7706410933700568.\u001b[0m\n",
      "\u001b[32m[I 2021-03-02 14:05:16,823]\u001b[0m Trial 48 finished with value: 0.7550967219670888 and parameters: {'max_depth': 15, 'n_estimators': 51, 'learning_rate': 0.2991562324983515, 'booster': 'gblinear'}. Best is trial 16 with value: 0.7706410933700568.\u001b[0m\n",
      "\u001b[32m[I 2021-03-02 14:05:29,639]\u001b[0m Trial 49 finished with value: 0.766899835026944 and parameters: {'max_depth': 13, 'n_estimators': 373, 'learning_rate': 0.25449428852487527, 'booster': 'gblinear'}. Best is trial 16 with value: 0.7706410933700568.\u001b[0m\n",
      "\u001b[32m[I 2021-03-02 14:06:20,048]\u001b[0m Trial 50 finished with value: 0.5 and parameters: {'max_depth': 5, 'n_estimators': 477, 'learning_rate': 0.28064781057950094, 'booster': 'dart'}. Best is trial 16 with value: 0.7706410933700568.\u001b[0m\n",
      "\u001b[32m[I 2021-03-02 14:06:35,929]\u001b[0m Trial 51 finished with value: 0.7694610753648403 and parameters: {'max_depth': 14, 'n_estimators': 489, 'learning_rate': 0.26969043121107106, 'booster': 'gblinear'}. Best is trial 16 with value: 0.7706410933700568.\u001b[0m\n",
      "\u001b[32m[I 2021-03-02 14:06:48,647]\u001b[0m Trial 52 finished with value: 0.7691680678967125 and parameters: {'max_depth': 14, 'n_estimators': 454, 'learning_rate': 0.2876389281807779, 'booster': 'gblinear'}. Best is trial 16 with value: 0.7706410933700568.\u001b[0m\n",
      "\u001b[32m[I 2021-03-02 14:07:02,689]\u001b[0m Trial 53 finished with value: 0.7680495222820594 and parameters: {'max_depth': 15, 'n_estimators': 485, 'learning_rate': 0.24348499607812527, 'booster': 'gblinear'}. Best is trial 16 with value: 0.7706410933700568.\u001b[0m\n",
      "\u001b[32m[I 2021-03-02 14:07:15,110]\u001b[0m Trial 54 finished with value: 0.758222134960451 and parameters: {'max_depth': 14, 'n_estimators': 404, 'learning_rate': 0.0627291423984831, 'booster': 'gblinear'}. Best is trial 16 with value: 0.7706410933700568.\u001b[0m\n",
      "\u001b[32m[I 2021-03-02 14:07:29,059]\u001b[0m Trial 55 finished with value: 0.7688569620458452 and parameters: {'max_depth': 13, 'n_estimators': 479, 'learning_rate': 0.2643592432553305, 'booster': 'gblinear'}. Best is trial 16 with value: 0.7706410933700568.\u001b[0m\n",
      "\u001b[32m[I 2021-03-02 14:07:41,219]\u001b[0m Trial 56 finished with value: 0.7693301424510076 and parameters: {'max_depth': 14, 'n_estimators': 448, 'learning_rate': 0.2924964432635562, 'booster': 'gblinear'}. Best is trial 16 with value: 0.7706410933700568.\u001b[0m\n",
      "\u001b[32m[I 2021-03-02 14:07:59,085]\u001b[0m Trial 57 finished with value: 0.5 and parameters: {'max_depth': 15, 'n_estimators': 499, 'learning_rate': 0.2730740080982088, 'booster': 'gbtree'}. Best is trial 16 with value: 0.7706410933700568.\u001b[0m\n",
      "\u001b[32m[I 2021-03-02 14:08:08,588]\u001b[0m Trial 58 finished with value: 0.7638169851510447 and parameters: {'max_depth': 12, 'n_estimators': 312, 'learning_rate': 0.22861248948642188, 'booster': 'gblinear'}. Best is trial 16 with value: 0.7706410933700568.\u001b[0m\n",
      "\u001b[32m[I 2021-03-02 14:08:13,072]\u001b[0m Trial 59 finished with value: 0.7597300459723075 and parameters: {'max_depth': 11, 'n_estimators': 137, 'learning_rate': 0.25645907777643967, 'booster': 'gblinear'}. Best is trial 16 with value: 0.7706410933700568.\u001b[0m\n",
      "\u001b[32m[I 2021-03-02 14:08:22,433]\u001b[0m Trial 60 finished with value: 0.7642699450561395 and parameters: {'max_depth': 14, 'n_estimators': 251, 'learning_rate': 0.2863540450887227, 'booster': 'gblinear'}. Best is trial 16 with value: 0.7706410933700568.\u001b[0m\n",
      "\u001b[32m[I 2021-03-02 14:08:36,880]\u001b[0m Trial 61 finished with value: 0.7691036624984602 and parameters: {'max_depth': 14, 'n_estimators': 483, 'learning_rate': 0.26953877904349055, 'booster': 'gblinear'}. Best is trial 16 with value: 0.7706410933700568.\u001b[0m\n",
      "\u001b[32m[I 2021-03-02 14:08:52,039]\u001b[0m Trial 62 finished with value: 0.7680958292975721 and parameters: {'max_depth': 13, 'n_estimators': 499, 'learning_rate': 0.24513366776927553, 'booster': 'gblinear'}. Best is trial 16 with value: 0.7706410933700568.\u001b[0m\n",
      "\u001b[32m[I 2021-03-02 14:09:06,138]\u001b[0m Trial 63 finished with value: 0.7703097670191221 and parameters: {'max_depth': 15, 'n_estimators': 464, 'learning_rate': 0.29740738170014996, 'booster': 'gblinear'}. Best is trial 16 with value: 0.7706410933700568.\u001b[0m\n",
      "\u001b[32m[I 2021-03-02 14:09:18,062]\u001b[0m Trial 64 finished with value: 0.7700963303242975 and parameters: {'max_depth': 15, 'n_estimators': 461, 'learning_rate': 0.2943182069279581, 'booster': 'gblinear'}. Best is trial 16 with value: 0.7706410933700568.\u001b[0m\n",
      "\u001b[32m[I 2021-03-02 14:09:30,013]\u001b[0m Trial 65 finished with value: 0.7681269709380345 and parameters: {'max_depth': 15, 'n_estimators': 409, 'learning_rate': 0.29577591376601964, 'booster': 'gblinear'}. Best is trial 16 with value: 0.7706410933700568.\u001b[0m\n"
     ]
    },
    {
     "name": "stdout",
     "output_type": "stream",
     "text": [
      "\u001b[32m[I 2021-03-02 14:09:44,612]\u001b[0m Trial 66 finished with value: 0.7691781781467464 and parameters: {'max_depth': 15, 'n_estimators': 461, 'learning_rate': 0.2822923590109323, 'booster': 'gblinear'}. Best is trial 16 with value: 0.7706410933700568.\u001b[0m\n",
      "\u001b[32m[I 2021-03-02 14:09:57,950]\u001b[0m Trial 67 finished with value: 0.7694097132243105 and parameters: {'max_depth': 15, 'n_estimators': 433, 'learning_rate': 0.2973735822384381, 'booster': 'gblinear'}. Best is trial 16 with value: 0.7706410933700568.\u001b[0m\n",
      "\u001b[32m[I 2021-03-02 14:10:15,578]\u001b[0m Trial 68 finished with value: 0.7619069760380174 and parameters: {'max_depth': 7, 'n_estimators': 465, 'learning_rate': 0.11919954081431358, 'booster': 'gblinear'}. Best is trial 16 with value: 0.7706410933700568.\u001b[0m\n",
      "\u001b[32m[I 2021-03-02 14:10:28,136]\u001b[0m Trial 69 finished with value: 0.7678491288449574 and parameters: {'max_depth': 15, 'n_estimators': 391, 'learning_rate': 0.2997996640875119, 'booster': 'gblinear'}. Best is trial 16 with value: 0.7706410933700568.\u001b[0m\n",
      "\u001b[32m[I 2021-03-02 14:10:39,968]\u001b[0m Trial 70 finished with value: 0.7674917159785773 and parameters: {'max_depth': 13, 'n_estimators': 439, 'learning_rate': 0.2612740743486258, 'booster': 'gblinear'}. Best is trial 16 with value: 0.7706410933700568.\u001b[0m\n",
      "\u001b[32m[I 2021-03-02 14:10:54,341]\u001b[0m Trial 71 finished with value: 0.769916157387263 and parameters: {'max_depth': 14, 'n_estimators': 483, 'learning_rate': 0.2778728813035527, 'booster': 'gblinear'}. Best is trial 16 with value: 0.7706410933700568.\u001b[0m\n",
      "\u001b[32m[I 2021-03-02 14:11:08,186]\u001b[0m Trial 72 finished with value: 0.7699986611682549 and parameters: {'max_depth': 14, 'n_estimators': 478, 'learning_rate': 0.283463736573075, 'booster': 'gblinear'}. Best is trial 16 with value: 0.7706410933700568.\u001b[0m\n",
      "\u001b[32m[I 2021-03-02 14:11:21,325]\u001b[0m Trial 73 finished with value: 0.7701657908475669 and parameters: {'max_depth': 14, 'n_estimators': 471, 'learning_rate': 0.2895758546225997, 'booster': 'gblinear'}. Best is trial 16 with value: 0.7706410933700568.\u001b[0m\n",
      "\u001b[32m[I 2021-03-02 14:11:34,421]\u001b[0m Trial 74 finished with value: 0.7694379218570839 and parameters: {'max_depth': 15, 'n_estimators': 454, 'learning_rate': 0.29145586696374715, 'booster': 'gblinear'}. Best is trial 16 with value: 0.7706410933700568.\u001b[0m\n",
      "\u001b[32m[I 2021-03-02 14:12:22,939]\u001b[0m Trial 75 finished with value: 0.5 and parameters: {'max_depth': 14, 'n_estimators': 470, 'learning_rate': 0.28552404196868286, 'booster': 'dart'}. Best is trial 16 with value: 0.7706410933700568.\u001b[0m\n",
      "\u001b[32m[I 2021-03-02 14:12:37,104]\u001b[0m Trial 76 finished with value: 0.7692164970295534 and parameters: {'max_depth': 13, 'n_estimators': 445, 'learning_rate': 0.29218016638084193, 'booster': 'gblinear'}. Best is trial 16 with value: 0.7706410933700568.\u001b[0m\n",
      "\u001b[32m[I 2021-03-02 14:12:52,199]\u001b[0m Trial 77 finished with value: 0.7679236444932436 and parameters: {'max_depth': 15, 'n_estimators': 429, 'learning_rate': 0.2750075201011415, 'booster': 'gblinear'}. Best is trial 16 with value: 0.7706410933700568.\u001b[0m\n",
      "\u001b[32m[I 2021-03-02 14:13:10,420]\u001b[0m Trial 78 finished with value: 0.5 and parameters: {'max_depth': 14, 'n_estimators': 463, 'learning_rate': 0.26328219637933, 'booster': 'gbtree'}. Best is trial 16 with value: 0.7706410933700568.\u001b[0m\n",
      "\u001b[32m[I 2021-03-02 14:13:24,590]\u001b[0m Trial 79 finished with value: 0.7688287534130721 and parameters: {'max_depth': 9, 'n_estimators': 414, 'learning_rate': 0.2993034557040872, 'booster': 'gblinear'}. Best is trial 16 with value: 0.7706410933700568.\u001b[0m\n",
      "\u001b[32m[I 2021-03-02 14:13:40,761]\u001b[0m Trial 80 finished with value: 0.7674041570725685 and parameters: {'max_depth': 13, 'n_estimators': 476, 'learning_rate': 0.23585498125131743, 'booster': 'gblinear'}. Best is trial 16 with value: 0.7706410933700568.\u001b[0m\n",
      "\u001b[32m[I 2021-03-02 14:14:00,318]\u001b[0m Trial 81 finished with value: 0.7701426373398104 and parameters: {'max_depth': 14, 'n_estimators': 500, 'learning_rate': 0.2805460484466733, 'booster': 'gblinear'}. Best is trial 16 with value: 0.7706410933700568.\u001b[0m\n",
      "\u001b[32m[I 2021-03-02 14:14:15,016]\u001b[0m Trial 82 finished with value: 0.7704356448079381 and parameters: {'max_depth': 14, 'n_estimators': 500, 'learning_rate': 0.28395728524611835, 'booster': 'gblinear'}. Best is trial 16 with value: 0.7706410933700568.\u001b[0m\n",
      "\u001b[32m[I 2021-03-02 14:14:32,924]\u001b[0m Trial 83 finished with value: 0.7700087714182886 and parameters: {'max_depth': 14, 'n_estimators': 498, 'learning_rate': 0.27308515227249447, 'booster': 'gblinear'}. Best is trial 16 with value: 0.7706410933700568.\u001b[0m\n",
      "\u001b[32m[I 2021-03-02 14:14:46,916]\u001b[0m Trial 84 finished with value: 0.7705876091121993 and parameters: {'max_depth': 13, 'n_estimators': 488, 'learning_rate': 0.29978872801227563, 'booster': 'gblinear'}. Best is trial 16 with value: 0.7706410933700568.\u001b[0m\n",
      "\u001b[32m[I 2021-03-02 14:15:00,817]\u001b[0m Trial 85 finished with value: 0.7703943929174419 and parameters: {'max_depth': 12, 'n_estimators': 489, 'learning_rate': 0.299434783282328, 'booster': 'gblinear'}. Best is trial 16 with value: 0.7706410933700568.\u001b[0m\n",
      "\u001b[32m[I 2021-03-02 14:15:17,275]\u001b[0m Trial 86 finished with value: 0.7704718415734172 and parameters: {'max_depth': 12, 'n_estimators': 487, 'learning_rate': 0.29943215700604753, 'booster': 'gblinear'}. Best is trial 16 with value: 0.7706410933700568.\u001b[0m\n",
      "\u001b[32m[I 2021-03-02 14:15:33,251]\u001b[0m Trial 87 finished with value: 0.7704023810501479 and parameters: {'max_depth': 12, 'n_estimators': 486, 'learning_rate': 0.29882070497801644, 'booster': 'gblinear'}. Best is trial 16 with value: 0.7706410933700568.\u001b[0m\n",
      "\u001b[32m[I 2021-03-02 14:15:46,992]\u001b[0m Trial 88 finished with value: 0.7647170389458564 and parameters: {'max_depth': 12, 'n_estimators': 485, 'learning_rate': 0.15738745233183088, 'booster': 'gblinear'}. Best is trial 16 with value: 0.7706410933700568.\u001b[0m\n",
      "\u001b[32m[I 2021-03-02 14:16:02,300]\u001b[0m Trial 89 finished with value: 0.7705463572217033 and parameters: {'max_depth': 11, 'n_estimators': 489, 'learning_rate': 0.29992006912716335, 'booster': 'gblinear'}. Best is trial 16 with value: 0.7706410933700568.\u001b[0m\n",
      "\u001b[32m[I 2021-03-02 14:16:16,312]\u001b[0m Trial 90 finished with value: 0.7704175464251984 and parameters: {'max_depth': 11, 'n_estimators': 488, 'learning_rate': 0.29951700772504203, 'booster': 'gblinear'}. Best is trial 16 with value: 0.7706410933700568.\u001b[0m\n",
      "\u001b[32m[I 2021-03-02 14:16:31,439]\u001b[0m Trial 91 finished with value: 0.7705926642372162 and parameters: {'max_depth': 11, 'n_estimators': 489, 'learning_rate': 0.298903924379672, 'booster': 'gblinear'}. Best is trial 16 with value: 0.7706410933700568.\u001b[0m\n",
      "\u001b[32m[I 2021-03-02 14:16:47,618]\u001b[0m Trial 92 finished with value: 0.7704356448079381 and parameters: {'max_depth': 10, 'n_estimators': 489, 'learning_rate': 0.2981928304306783, 'booster': 'gblinear'}. Best is trial 16 with value: 0.7706410933700568.\u001b[0m\n",
      "\u001b[32m[I 2021-03-02 14:17:06,590]\u001b[0m Trial 93 finished with value: 0.7704226015502152 and parameters: {'max_depth': 10, 'n_estimators': 489, 'learning_rate': 0.2997891504685278, 'booster': 'gblinear'}. Best is trial 16 with value: 0.7706410933700568.\u001b[0m\n",
      "\u001b[32m[I 2021-03-02 14:17:22,343]\u001b[0m Trial 94 finished with value: 0.7710759548924121 and parameters: {'max_depth': 11, 'n_estimators': 500, 'learning_rate': 0.2987219022272543, 'booster': 'gblinear'}. Best is trial 94 with value: 0.7710759548924121.\u001b[0m\n",
      "\u001b[32m[I 2021-03-02 14:17:37,749]\u001b[0m Trial 95 finished with value: 0.7705181485889301 and parameters: {'max_depth': 10, 'n_estimators': 497, 'learning_rate': 0.29180765045898815, 'booster': 'gblinear'}. Best is trial 94 with value: 0.7710759548924121.\u001b[0m\n",
      "\u001b[32m[I 2021-03-02 14:17:57,961]\u001b[0m Trial 96 finished with value: 0.7701114956993481 and parameters: {'max_depth': 10, 'n_estimators': 500, 'learning_rate': 0.28492658767812956, 'booster': 'gblinear'}. Best is trial 94 with value: 0.7710759548924121.\u001b[0m\n",
      "\u001b[32m[I 2021-03-02 14:18:48,254]\u001b[0m Trial 97 finished with value: 0.5 and parameters: {'max_depth': 10, 'n_estimators': 452, 'learning_rate': 0.2884368392747029, 'booster': 'dart'}. Best is trial 94 with value: 0.7710759548924121.\u001b[0m\n",
      "\u001b[32m[I 2021-03-02 14:19:03,311]\u001b[0m Trial 98 finished with value: 0.7704667864484003 and parameters: {'max_depth': 9, 'n_estimators': 500, 'learning_rate': 0.2933804123332867, 'booster': 'gblinear'}. Best is trial 94 with value: 0.7710759548924121.\u001b[0m\n"
     ]
    },
    {
     "name": "stdout",
     "output_type": "stream",
     "text": [
      "\r",
      "\u001b[32m[I 2021-03-02 14:19:17,148]\u001b[0m Trial 99 finished with value: 0.7703842826674082 and parameters: {'max_depth': 9, 'n_estimators': 478, 'learning_rate': 0.2917162869674708, 'booster': 'gblinear'}. Best is trial 94 with value: 0.7710759548924121.\u001b[0m\n",
      "\n",
      "Wall time: 27min 48s\n"
     ]
    }
   ],
   "source": [
    "%%time\n",
    "study = optuna.create_study(direction=\"maximize\")\n",
    "study.optimize(objective, n_trials=100, timeout=30*60, show_progress_bar=True)"
   ]
  },
  {
   "cell_type": "code",
   "execution_count": 20,
   "metadata": {},
   "outputs": [
    {
     "name": "stdout",
     "output_type": "stream",
     "text": [
      "Wall time: 4min 19s\n"
     ]
    }
   ],
   "source": [
    "%%time\n",
    "params = {**study.best_params, **{'n_jobs':-1, 'random_state':42}}\n",
    "model = XGBClassifier(**params)\n",
    "acc_scores = cross_val_score(model, X_train, y_train, scoring='accuracy')\n",
    "precision_scores = cross_val_score(model, X_train, y_train, scoring='precision')\n",
    "recall_scores = cross_val_score(model, X_train, y_train, scoring='recall')\n",
    "f1_scores = cross_val_score(model, X_train, y_train, scoring='f1')"
   ]
  },
  {
   "cell_type": "code",
   "execution_count": 21,
   "metadata": {},
   "outputs": [
    {
     "data": {
      "text/html": [
       "<div>\n",
       "<style scoped>\n",
       "    .dataframe tbody tr th:only-of-type {\n",
       "        vertical-align: middle;\n",
       "    }\n",
       "\n",
       "    .dataframe tbody tr th {\n",
       "        vertical-align: top;\n",
       "    }\n",
       "\n",
       "    .dataframe thead th {\n",
       "        text-align: right;\n",
       "    }\n",
       "</style>\n",
       "<table border=\"1\" class=\"dataframe\">\n",
       "  <thead>\n",
       "    <tr style=\"text-align: right;\">\n",
       "      <th></th>\n",
       "      <th>Model</th>\n",
       "      <th>Accuracy</th>\n",
       "      <th>Precision</th>\n",
       "      <th>Recall</th>\n",
       "      <th>F1</th>\n",
       "    </tr>\n",
       "  </thead>\n",
       "  <tbody>\n",
       "    <tr>\n",
       "      <th>0</th>\n",
       "      <td>KNN</td>\n",
       "      <td>0.860</td>\n",
       "      <td>0.880</td>\n",
       "      <td>0.950</td>\n",
       "      <td>0.910</td>\n",
       "    </tr>\n",
       "    <tr>\n",
       "      <th>1</th>\n",
       "      <td>LogReg</td>\n",
       "      <td>0.850</td>\n",
       "      <td>0.870</td>\n",
       "      <td>0.950</td>\n",
       "      <td>0.910</td>\n",
       "    </tr>\n",
       "    <tr>\n",
       "      <th>2</th>\n",
       "      <td>NN</td>\n",
       "      <td>0.860</td>\n",
       "      <td>0.890</td>\n",
       "      <td>0.950</td>\n",
       "      <td>0.910</td>\n",
       "    </tr>\n",
       "    <tr>\n",
       "      <th>3</th>\n",
       "      <td>RandomForest</td>\n",
       "      <td>0.848</td>\n",
       "      <td>0.919</td>\n",
       "      <td>0.878</td>\n",
       "      <td>0.898</td>\n",
       "    </tr>\n",
       "    <tr>\n",
       "      <th>4</th>\n",
       "      <td>XGBoost</td>\n",
       "      <td>0.845</td>\n",
       "      <td>0.857</td>\n",
       "      <td>0.957</td>\n",
       "      <td>0.904</td>\n",
       "    </tr>\n",
       "  </tbody>\n",
       "</table>\n",
       "</div>"
      ],
      "text/plain": [
       "          Model  Accuracy  Precision  Recall     F1\n",
       "0           KNN     0.860      0.880   0.950  0.910\n",
       "1        LogReg     0.850      0.870   0.950  0.910\n",
       "2            NN     0.860      0.890   0.950  0.910\n",
       "3  RandomForest     0.848      0.919   0.878  0.898\n",
       "4       XGBoost     0.845      0.857   0.957  0.904"
      ]
     },
     "execution_count": 21,
     "metadata": {},
     "output_type": "execute_result"
    }
   ],
   "source": [
    "acc_score = round(acc_scores.mean(), 3)\n",
    "precision_score = round(precision_scores.mean(), 3)\n",
    "recall_score = round(recall_scores.mean(), 3)\n",
    "f1_score = round(f1_scores.mean(), 3)\n",
    "metrics = metrics.append({'Model':'XGBoost', 'Accuracy':acc_score,\n",
    "                          'Precision':precision_score, 'Recall':recall_score, 'F1':f1_score}, ignore_index=True)\n",
    "metrics"
   ]
  },
  {
   "cell_type": "code",
   "execution_count": 28,
   "metadata": {},
   "outputs": [],
   "source": [
    "def objective(trial):\n",
    "    # params\n",
    "    depth = trial.suggest_int('depth', 3, 7)\n",
    "    iterations = trial.suggest_int('iterations', 50, 500)\n",
    "    learning_rate = trial.suggest_uniform('learning_rate', 0.001, 0.3)\n",
    "    l2_leaf_reg = trial.suggest_uniform('l2_leaf_reg', 0.001, 0.3)\n",
    "    loss_function = trial.suggest_categorical('loss_function', ['Logloss', 'CrossEntropy'])\n",
    "    grow_policy = trial.suggest_categorical('grow_policy', ['SymmetricTree', 'Depthwise', 'Lossguide'])\n",
    "    # model\n",
    "    classifier = CatBoostClassifier(depth=depth, iterations=iterations, learning_rate=learning_rate,\n",
    "                                    l2_leaf_reg=l2_leaf_reg, loss_function=loss_function, grow_policy=grow_policy,\n",
    "                                    random_seed=42, verbose=False)\n",
    "    classifier.fit(X_train, y_train, sample_weight=sample_weights)\n",
    "    score = roc_auc_score(y_val, classifier.predict(X_val))\n",
    "    return score"
   ]
  },
  {
   "cell_type": "code",
   "execution_count": 29,
   "metadata": {
    "scrolled": true
   },
   "outputs": [
    {
     "name": "stderr",
     "output_type": "stream",
     "text": [
      "\u001b[32m[I 2021-03-02 14:44:06,269]\u001b[0m A new study created in memory with name: no-name-face7cb8-405d-4d54-9dc8-22833a51e891\u001b[0m\n"
     ]
    },
    {
     "data": {
      "application/vnd.jupyter.widget-view+json": {
       "model_id": "a501dd2bde6e49f5afe6f50a89c954d1",
       "version_major": 2,
       "version_minor": 0
      },
      "text/plain": [
       "HBox(children=(HTML(value=''), FloatProgress(value=0.0), HTML(value='')))"
      ]
     },
     "metadata": {},
     "output_type": "display_data"
    },
    {
     "name": "stdout",
     "output_type": "stream",
     "text": [
      "\u001b[32m[I 2021-03-02 14:44:25,412]\u001b[0m Trial 0 finished with value: 0.8220543027395326 and parameters: {'depth': 6, 'iterations': 180, 'learning_rate': 0.25309184916509864, 'l2_leaf_reg': 0.2890199997731102, 'loss_function': 'CrossEntropy', 'grow_policy': 'Depthwise'}. Best is trial 0 with value: 0.8220543027395326.\u001b[0m\n",
      "\u001b[32m[I 2021-03-02 14:44:37,318]\u001b[0m Trial 1 finished with value: 0.813652322648789 and parameters: {'depth': 3, 'iterations': 261, 'learning_rate': 0.2760430429742629, 'l2_leaf_reg': 0.05670710480205088, 'loss_function': 'CrossEntropy', 'grow_policy': 'SymmetricTree'}. Best is trial 0 with value: 0.8220543027395326.\u001b[0m\n",
      "\u001b[32m[I 2021-03-02 14:45:03,556]\u001b[0m Trial 2 finished with value: 0.8210730563906959 and parameters: {'depth': 6, 'iterations': 406, 'learning_rate': 0.20942358632049085, 'l2_leaf_reg': 0.09553509941929443, 'loss_function': 'Logloss', 'grow_policy': 'SymmetricTree'}. Best is trial 0 with value: 0.8220543027395326.\u001b[0m\n",
      "\u001b[32m[I 2021-03-02 14:45:28,055]\u001b[0m Trial 3 finished with value: 0.8092162692901328 and parameters: {'depth': 4, 'iterations': 306, 'learning_rate': 0.027594175650121972, 'l2_leaf_reg': 0.08925147887572286, 'loss_function': 'CrossEntropy', 'grow_policy': 'Lossguide'}. Best is trial 0 with value: 0.8220543027395326.\u001b[0m\n",
      "\u001b[32m[I 2021-03-02 14:46:00,673]\u001b[0m Trial 4 finished with value: 0.8208878283286446 and parameters: {'depth': 4, 'iterations': 414, 'learning_rate': 0.1737511417424369, 'l2_leaf_reg': 0.20289974962904986, 'loss_function': 'CrossEntropy', 'grow_policy': 'Lossguide'}. Best is trial 0 with value: 0.8220543027395326.\u001b[0m\n",
      "\u001b[32m[I 2021-03-02 14:46:22,415]\u001b[0m Trial 5 finished with value: 0.81970194430805 and parameters: {'depth': 4, 'iterations': 469, 'learning_rate': 0.23168489254724947, 'l2_leaf_reg': 0.241625805699426, 'loss_function': 'CrossEntropy', 'grow_policy': 'SymmetricTree'}. Best is trial 0 with value: 0.8220543027395326.\u001b[0m\n",
      "\u001b[32m[I 2021-03-02 14:46:45,831]\u001b[0m Trial 6 finished with value: 0.8247528423432454 and parameters: {'depth': 6, 'iterations': 237, 'learning_rate': 0.1897613652337616, 'l2_leaf_reg': 0.2820091333213556, 'loss_function': 'CrossEntropy', 'grow_policy': 'Depthwise'}. Best is trial 6 with value: 0.8247528423432454.\u001b[0m\n",
      "\u001b[32m[I 2021-03-02 14:47:01,880]\u001b[0m Trial 7 finished with value: 0.8167487161190166 and parameters: {'depth': 4, 'iterations': 372, 'learning_rate': 0.223190629594909, 'l2_leaf_reg': 0.15474746778251006, 'loss_function': 'CrossEntropy', 'grow_policy': 'SymmetricTree'}. Best is trial 6 with value: 0.8247528423432454.\u001b[0m\n",
      "\u001b[32m[I 2021-03-02 14:47:16,476]\u001b[0m Trial 8 finished with value: 0.8170412232505385 and parameters: {'depth': 3, 'iterations': 291, 'learning_rate': 0.22984058443882024, 'l2_leaf_reg': 0.16661839398030465, 'loss_function': 'Logloss', 'grow_policy': 'Depthwise'}. Best is trial 6 with value: 0.8247528423432454.\u001b[0m\n",
      "\u001b[32m[I 2021-03-02 14:47:26,847]\u001b[0m Trial 9 finished with value: 0.8157513037219177 and parameters: {'depth': 5, 'iterations': 115, 'learning_rate': 0.12831483856368217, 'l2_leaf_reg': 0.00722491349160807, 'loss_function': 'Logloss', 'grow_policy': 'Lossguide'}. Best is trial 6 with value: 0.8247528423432454.\u001b[0m\n",
      "\u001b[32m[I 2021-03-02 14:47:37,147]\u001b[0m Trial 10 finished with value: 0.8199156915566299 and parameters: {'depth': 7, 'iterations': 85, 'learning_rate': 0.09780866305737992, 'l2_leaf_reg': 0.2855508440837107, 'loss_function': 'CrossEntropy', 'grow_policy': 'Depthwise'}. Best is trial 6 with value: 0.8247528423432454.\u001b[0m\n",
      "\u001b[32m[I 2021-03-02 14:47:58,512]\u001b[0m Trial 11 finished with value: 0.8202986906018498 and parameters: {'depth': 7, 'iterations': 183, 'learning_rate': 0.29703661943272575, 'l2_leaf_reg': 0.28962190590064096, 'loss_function': 'CrossEntropy', 'grow_policy': 'Depthwise'}. Best is trial 6 with value: 0.8247528423432454.\u001b[0m\n",
      "\u001b[32m[I 2021-03-02 14:48:16,619]\u001b[0m Trial 12 finished with value: 0.8239062728062914 and parameters: {'depth': 6, 'iterations': 201, 'learning_rate': 0.16391401333625016, 'l2_leaf_reg': 0.25508700022736186, 'loss_function': 'CrossEntropy', 'grow_policy': 'Depthwise'}. Best is trial 6 with value: 0.8247528423432454.\u001b[0m\n",
      "\u001b[32m[I 2021-03-02 14:48:36,808]\u001b[0m Trial 13 finished with value: 0.8230836676674549 and parameters: {'depth': 6, 'iterations': 216, 'learning_rate': 0.15879032878634589, 'l2_leaf_reg': 0.23596995639935228, 'loss_function': 'CrossEntropy', 'grow_policy': 'Depthwise'}. Best is trial 6 with value: 0.8247528423432454.\u001b[0m\n",
      "\u001b[32m[I 2021-03-02 14:48:46,144]\u001b[0m Trial 14 finished with value: 0.815216650926192 and parameters: {'depth': 5, 'iterations': 125, 'learning_rate': 0.08106943685901329, 'l2_leaf_reg': 0.24102533689516537, 'loss_function': 'CrossEntropy', 'grow_policy': 'Depthwise'}. Best is trial 6 with value: 0.8247528423432454.\u001b[0m\n",
      "\u001b[32m[I 2021-03-02 14:49:08,481]\u001b[0m Trial 15 finished with value: 0.8216543267556898 and parameters: {'depth': 6, 'iterations': 243, 'learning_rate': 0.18150158359195973, 'l2_leaf_reg': 0.2093922336137498, 'loss_function': 'CrossEntropy', 'grow_policy': 'Depthwise'}. Best is trial 6 with value: 0.8247528423432454.\u001b[0m\n",
      "\u001b[32m[I 2021-03-02 14:49:54,839]\u001b[0m Trial 16 finished with value: 0.8251206760134144 and parameters: {'depth': 7, 'iterations': 343, 'learning_rate': 0.12171014490089571, 'l2_leaf_reg': 0.2980245377200884, 'loss_function': 'CrossEntropy', 'grow_policy': 'Depthwise'}. Best is trial 16 with value: 0.8251206760134144.\u001b[0m\n",
      "\u001b[32m[I 2021-03-02 14:50:42,141]\u001b[0m Trial 17 finished with value: 0.8236417845246924 and parameters: {'depth': 7, 'iterations': 332, 'learning_rate': 0.05771629913138408, 'l2_leaf_reg': 0.29814530954736057, 'loss_function': 'Logloss', 'grow_policy': 'Depthwise'}. Best is trial 16 with value: 0.8251206760134144.\u001b[0m\n",
      "\u001b[32m[I 2021-03-02 14:51:52,673]\u001b[0m Trial 18 finished with value: 0.8252569746060193 and parameters: {'depth': 7, 'iterations': 498, 'learning_rate': 0.11136502742479376, 'l2_leaf_reg': 0.1906947809026226, 'loss_function': 'CrossEntropy', 'grow_policy': 'Depthwise'}. Best is trial 18 with value: 0.8252569746060193.\u001b[0m\n",
      "\u001b[32m[I 2021-03-02 14:53:02,749]\u001b[0m Trial 19 finished with value: 0.8255289506837187 and parameters: {'depth': 7, 'iterations': 499, 'learning_rate': 0.1266912480609055, 'l2_leaf_reg': 0.11570597893487161, 'loss_function': 'CrossEntropy', 'grow_policy': 'Depthwise'}. Best is trial 19 with value: 0.8255289506837187.\u001b[0m\n",
      "\u001b[32m[I 2021-03-02 14:53:57,378]\u001b[0m Trial 20 finished with value: 0.8101104570695665 and parameters: {'depth': 7, 'iterations': 486, 'learning_rate': 0.008709472745493899, 'l2_leaf_reg': 0.12006588274317954, 'loss_function': 'CrossEntropy', 'grow_policy': 'Lossguide'}. Best is trial 19 with value: 0.8255289506837187.\u001b[0m\n",
      "\u001b[32m[I 2021-03-02 14:54:52,528]\u001b[0m Trial 21 finished with value: 0.8242874602879386 and parameters: {'depth': 7, 'iterations': 451, 'learning_rate': 0.12332525475766137, 'l2_leaf_reg': 0.19021956508549, 'loss_function': 'CrossEntropy', 'grow_policy': 'Depthwise'}. Best is trial 19 with value: 0.8255289506837187.\u001b[0m\n",
      "\u001b[32m[I 2021-03-02 14:55:50,839]\u001b[0m Trial 22 finished with value: 0.8245905780060999 and parameters: {'depth': 7, 'iterations': 491, 'learning_rate': 0.11947171673115743, 'l2_leaf_reg': 0.12232406903938212, 'loss_function': 'CrossEntropy', 'grow_policy': 'Depthwise'}. Best is trial 19 with value: 0.8255289506837187.\u001b[0m\n",
      "\u001b[32m[I 2021-03-02 14:56:40,531]\u001b[0m Trial 23 finished with value: 0.8254397699969876 and parameters: {'depth': 7, 'iterations': 432, 'learning_rate': 0.06364675422523342, 'l2_leaf_reg': 0.05142186160216897, 'loss_function': 'CrossEntropy', 'grow_policy': 'Depthwise'}. Best is trial 19 with value: 0.8255289506837187.\u001b[0m\n",
      "\u001b[32m[I 2021-03-02 14:57:31,185]\u001b[0m Trial 24 finished with value: 0.8228460767916622 and parameters: {'depth': 7, 'iterations': 440, 'learning_rate': 0.055377775314906535, 'l2_leaf_reg': 0.01729610745816241, 'loss_function': 'CrossEntropy', 'grow_policy': 'Depthwise'}. Best is trial 19 with value: 0.8255289506837187.\u001b[0m\n",
      "\u001b[32m[I 2021-03-02 14:58:15,715]\u001b[0m Trial 25 finished with value: 0.8236359185093143 and parameters: {'depth': 6, 'iterations': 494, 'learning_rate': 0.0825689674388105, 'l2_leaf_reg': 0.05228526780075406, 'loss_function': 'CrossEntropy', 'grow_policy': 'Depthwise'}. Best is trial 19 with value: 0.8255289506837187.\u001b[0m\n"
     ]
    },
    {
     "name": "stdout",
     "output_type": "stream",
     "text": [
      "\u001b[32m[I 2021-03-02 14:59:01,489]\u001b[0m Trial 26 finished with value: 0.823730654657668 and parameters: {'depth': 7, 'iterations': 396, 'learning_rate': 0.03750666632969667, 'l2_leaf_reg': 0.03721329528316249, 'loss_function': 'CrossEntropy', 'grow_policy': 'Depthwise'}. Best is trial 19 with value: 0.8255289506837187.\u001b[0m\n",
      "\u001b[32m[I 2021-03-02 14:59:38,406]\u001b[0m Trial 27 finished with value: 0.8214999297803454 and parameters: {'depth': 5, 'iterations': 436, 'learning_rate': 0.0977872404510998, 'l2_leaf_reg': 0.12845167819301945, 'loss_function': 'Logloss', 'grow_policy': 'Depthwise'}. Best is trial 19 with value: 0.8255289506837187.\u001b[0m\n",
      "\u001b[32m[I 2021-03-02 15:00:43,147]\u001b[0m Trial 28 finished with value: 0.8252835614580706 and parameters: {'depth': 7, 'iterations': 495, 'learning_rate': 0.0669053327114645, 'l2_leaf_reg': 0.08546357206924542, 'loss_function': 'CrossEntropy', 'grow_policy': 'Depthwise'}. Best is trial 19 with value: 0.8255289506837187.\u001b[0m\n",
      "\u001b[32m[I 2021-03-02 15:01:26,033]\u001b[0m Trial 29 finished with value: 0.8233349229084808 and parameters: {'depth': 6, 'iterations': 375, 'learning_rate': 0.14039800269882102, 'l2_leaf_reg': 0.08308864912060457, 'loss_function': 'CrossEntropy', 'grow_policy': 'Depthwise'}. Best is trial 19 with value: 0.8255289506837187.\u001b[0m\n",
      "\u001b[32m[I 2021-03-02 15:02:22,292]\u001b[0m Trial 30 finished with value: 0.8247944047874968 and parameters: {'depth': 7, 'iterations': 458, 'learning_rate': 0.06921246417885663, 'l2_leaf_reg': 0.06787726608219684, 'loss_function': 'CrossEntropy', 'grow_policy': 'Depthwise'}. Best is trial 19 with value: 0.8255289506837187.\u001b[0m\n",
      "\u001b[32m[I 2021-03-02 15:03:22,575]\u001b[0m Trial 31 finished with value: 0.8244162710844435 and parameters: {'depth': 7, 'iterations': 496, 'learning_rate': 0.10140473112536959, 'l2_leaf_reg': 0.11061027106815377, 'loss_function': 'CrossEntropy', 'grow_policy': 'Depthwise'}. Best is trial 19 with value: 0.8255289506837187.\u001b[0m\n",
      "\u001b[32m[I 2021-03-02 15:04:23,943]\u001b[0m Trial 32 finished with value: 0.8246054328273953 and parameters: {'depth': 7, 'iterations': 473, 'learning_rate': 0.03597412761621419, 'l2_leaf_reg': 0.1414331671995585, 'loss_function': 'CrossEntropy', 'grow_policy': 'Depthwise'}. Best is trial 19 with value: 0.8255289506837187.\u001b[0m\n",
      "\u001b[32m[I 2021-03-02 15:04:51,020]\u001b[0m Trial 33 finished with value: 0.803358552598662 and parameters: {'depth': 6, 'iterations': 425, 'learning_rate': 0.009341414494623793, 'l2_leaf_reg': 0.17397109104491784, 'loss_function': 'CrossEntropy', 'grow_policy': 'SymmetricTree'}. Best is trial 19 with value: 0.8255289506837187.\u001b[0m\n",
      "\u001b[32m[I 2021-03-02 15:05:41,222]\u001b[0m Trial 34 finished with value: 0.8230999544866218 and parameters: {'depth': 6, 'iterations': 496, 'learning_rate': 0.14409545375403485, 'l2_leaf_reg': 0.1022854080864425, 'loss_function': 'CrossEntropy', 'grow_policy': 'Depthwise'}. Best is trial 19 with value: 0.8255289506837187.\u001b[0m\n",
      "\u001b[32m[I 2021-03-02 15:06:24,740]\u001b[0m Trial 35 finished with value: 0.8248883300454892 and parameters: {'depth': 7, 'iterations': 393, 'learning_rate': 0.05366541566377737, 'l2_leaf_reg': 0.07270941533541299, 'loss_function': 'CrossEntropy', 'grow_policy': 'Depthwise'}. Best is trial 19 with value: 0.8255289506837187.\u001b[0m\n",
      "\u001b[32m[I 2021-03-02 15:07:08,122]\u001b[0m Trial 36 finished with value: 0.8216127643114385 and parameters: {'depth': 7, 'iterations': 467, 'learning_rate': 0.08165782631045129, 'l2_leaf_reg': 0.04071810495187318, 'loss_function': 'CrossEntropy', 'grow_policy': 'Lossguide'}. Best is trial 19 with value: 0.8255289506837187.\u001b[0m\n",
      "\u001b[32m[I 2021-03-02 15:07:37,625]\u001b[0m Trial 37 finished with value: 0.8211723473274606 and parameters: {'depth': 7, 'iterations': 500, 'learning_rate': 0.10610225226824083, 'l2_leaf_reg': 0.09010997003649278, 'loss_function': 'CrossEntropy', 'grow_policy': 'SymmetricTree'}. Best is trial 19 with value: 0.8255289506837187.\u001b[0m\n",
      "\u001b[32m[I 2021-03-02 15:08:17,576]\u001b[0m Trial 38 finished with value: 0.8228667976283355 and parameters: {'depth': 6, 'iterations': 418, 'learning_rate': 0.06834244482155395, 'l2_leaf_reg': 0.13733214193496446, 'loss_function': 'CrossEntropy', 'grow_policy': 'Depthwise'}. Best is trial 19 with value: 0.8255289506837187.\u001b[0m\n",
      "\u001b[32m[I 2021-03-02 15:08:40,165]\u001b[0m Trial 39 finished with value: 0.8072615749423147 and parameters: {'depth': 3, 'iterations': 448, 'learning_rate': 0.02614486645887959, 'l2_leaf_reg': 0.024148451109197153, 'loss_function': 'Logloss', 'grow_policy': 'Depthwise'}. Best is trial 19 with value: 0.8255289506837187.\u001b[0m\n",
      "\u001b[32m[I 2021-03-02 15:08:59,029]\u001b[0m Trial 40 finished with value: 0.8182486389981674 and parameters: {'depth': 6, 'iterations': 351, 'learning_rate': 0.11177290065356783, 'l2_leaf_reg': 0.05894220221046176, 'loss_function': 'CrossEntropy', 'grow_policy': 'SymmetricTree'}. Best is trial 19 with value: 0.8255289506837187.\u001b[0m\n",
      "\u001b[32m[I 2021-03-02 15:09:34,997]\u001b[0m Trial 41 finished with value: 0.8234320917279176 and parameters: {'depth': 7, 'iterations': 319, 'learning_rate': 0.13474408948776428, 'l2_leaf_reg': 0.10373142004137889, 'loss_function': 'CrossEntropy', 'grow_policy': 'Depthwise'}. Best is trial 19 with value: 0.8255289506837187.\u001b[0m\n",
      "\u001b[32m[I 2021-03-02 15:10:07,678]\u001b[0m Trial 42 finished with value: 0.8237019456882888 and parameters: {'depth': 7, 'iterations': 290, 'learning_rate': 0.09205530403051879, 'l2_leaf_reg': 0.07603516412668065, 'loss_function': 'CrossEntropy', 'grow_policy': 'Depthwise'}. Best is trial 19 with value: 0.8255289506837187.\u001b[0m\n",
      "\u001b[32m[I 2021-03-02 15:10:48,361]\u001b[0m Trial 43 finished with value: 0.8238706971483228 and parameters: {'depth': 7, 'iterations': 372, 'learning_rate': 0.15134033940521568, 'l2_leaf_reg': 0.054181959638839594, 'loss_function': 'CrossEntropy', 'grow_policy': 'Depthwise'}. Best is trial 19 with value: 0.8255289506837187.\u001b[0m\n",
      "\u001b[32m[I 2021-03-02 15:11:20,100]\u001b[0m Trial 44 finished with value: 0.8227089673086962 and parameters: {'depth': 7, 'iterations': 343, 'learning_rate': 0.19921302951696193, 'l2_leaf_reg': 0.16370072822320145, 'loss_function': 'CrossEntropy', 'grow_policy': 'Lossguide'}. Best is trial 19 with value: 0.8255289506837187.\u001b[0m\n",
      "\u001b[32m[I 2021-03-02 15:12:11,648]\u001b[0m Trial 45 finished with value: 0.8246006882561336 and parameters: {'depth': 7, 'iterations': 468, 'learning_rate': 0.11605675487542305, 'l2_leaf_reg': 0.2698597914452466, 'loss_function': 'CrossEntropy', 'grow_policy': 'Depthwise'}. Best is trial 19 with value: 0.8255289506837187.\u001b[0m\n",
      "\u001b[32m[I 2021-03-02 15:12:42,587]\u001b[0m Trial 46 finished with value: 0.8230991435962609 and parameters: {'depth': 7, 'iterations': 271, 'learning_rate': 0.13157487545358287, 'l2_leaf_reg': 0.22607354891700468, 'loss_function': 'CrossEntropy', 'grow_policy': 'Depthwise'}. Best is trial 19 with value: 0.8255289506837187.\u001b[0m\n",
      "\u001b[32m[I 2021-03-02 15:13:23,688]\u001b[0m Trial 47 finished with value: 0.823609021103508 and parameters: {'depth': 6, 'iterations': 409, 'learning_rate': 0.06593716626687016, 'l2_leaf_reg': 0.09500769542371902, 'loss_function': 'CrossEntropy', 'grow_policy': 'Depthwise'}. Best is trial 19 with value: 0.8255289506837187.\u001b[0m\n",
      "\u001b[32m[I 2021-03-02 15:14:21,174]\u001b[0m Trial 48 finished with value: 0.823795681163431 and parameters: {'depth': 7, 'iterations': 475, 'learning_rate': 0.16531414928620922, 'l2_leaf_reg': 0.1512123487324829, 'loss_function': 'Logloss', 'grow_policy': 'Depthwise'}. Best is trial 19 with value: 0.8255289506837187.\u001b[0m\n",
      "\n",
      "Wall time: 30min 14s\n"
     ]
    }
   ],
   "source": [
    "%%time\n",
    "study = optuna.create_study(direction=\"maximize\")\n",
    "study.optimize(objective, n_trials=100, timeout=30*60, show_progress_bar=True)"
   ]
  },
  {
   "cell_type": "code",
   "execution_count": 36,
   "metadata": {},
   "outputs": [
    {
     "name": "stdout",
     "output_type": "stream",
     "text": [
      "Wall time: 15min 22s\n"
     ]
    }
   ],
   "source": [
    "%%time\n",
    "params = {**study.best_params, **{'verbose':False, 'random_seed':42}}\n",
    "model = CatBoostClassifier(**params)\n",
    "acc_scores = cross_val_score(model, X_train, y_train, scoring='accuracy')\n",
    "precision_scores = cross_val_score(model, X_train, y_train, scoring='precision')\n",
    "recall_scores = cross_val_score(model, X_train, y_train, scoring='recall')\n",
    "f1_scores = cross_val_score(model, X_train, y_train, scoring='f1')"
   ]
  },
  {
   "cell_type": "code",
   "execution_count": 37,
   "metadata": {},
   "outputs": [
    {
     "data": {
      "text/html": [
       "<div>\n",
       "<style scoped>\n",
       "    .dataframe tbody tr th:only-of-type {\n",
       "        vertical-align: middle;\n",
       "    }\n",
       "\n",
       "    .dataframe tbody tr th {\n",
       "        vertical-align: top;\n",
       "    }\n",
       "\n",
       "    .dataframe thead th {\n",
       "        text-align: right;\n",
       "    }\n",
       "</style>\n",
       "<table border=\"1\" class=\"dataframe\">\n",
       "  <thead>\n",
       "    <tr style=\"text-align: right;\">\n",
       "      <th></th>\n",
       "      <th>Model</th>\n",
       "      <th>Accuracy</th>\n",
       "      <th>Precision</th>\n",
       "      <th>Recall</th>\n",
       "      <th>F1</th>\n",
       "    </tr>\n",
       "  </thead>\n",
       "  <tbody>\n",
       "    <tr>\n",
       "      <th>0</th>\n",
       "      <td>KNN</td>\n",
       "      <td>0.860</td>\n",
       "      <td>0.880</td>\n",
       "      <td>0.950</td>\n",
       "      <td>0.910</td>\n",
       "    </tr>\n",
       "    <tr>\n",
       "      <th>1</th>\n",
       "      <td>LogReg</td>\n",
       "      <td>0.850</td>\n",
       "      <td>0.870</td>\n",
       "      <td>0.950</td>\n",
       "      <td>0.910</td>\n",
       "    </tr>\n",
       "    <tr>\n",
       "      <th>2</th>\n",
       "      <td>NN</td>\n",
       "      <td>0.860</td>\n",
       "      <td>0.890</td>\n",
       "      <td>0.950</td>\n",
       "      <td>0.910</td>\n",
       "    </tr>\n",
       "    <tr>\n",
       "      <th>3</th>\n",
       "      <td>RandomForest</td>\n",
       "      <td>0.848</td>\n",
       "      <td>0.919</td>\n",
       "      <td>0.878</td>\n",
       "      <td>0.898</td>\n",
       "    </tr>\n",
       "    <tr>\n",
       "      <th>4</th>\n",
       "      <td>XGBoost</td>\n",
       "      <td>0.845</td>\n",
       "      <td>0.857</td>\n",
       "      <td>0.957</td>\n",
       "      <td>0.904</td>\n",
       "    </tr>\n",
       "    <tr>\n",
       "      <th>5</th>\n",
       "      <td>CatBoost</td>\n",
       "      <td>0.878</td>\n",
       "      <td>0.893</td>\n",
       "      <td>0.953</td>\n",
       "      <td>0.922</td>\n",
       "    </tr>\n",
       "  </tbody>\n",
       "</table>\n",
       "</div>"
      ],
      "text/plain": [
       "          Model  Accuracy  Precision  Recall     F1\n",
       "0           KNN     0.860      0.880   0.950  0.910\n",
       "1        LogReg     0.850      0.870   0.950  0.910\n",
       "2            NN     0.860      0.890   0.950  0.910\n",
       "3  RandomForest     0.848      0.919   0.878  0.898\n",
       "4       XGBoost     0.845      0.857   0.957  0.904\n",
       "5      CatBoost     0.878      0.893   0.953  0.922"
      ]
     },
     "execution_count": 37,
     "metadata": {},
     "output_type": "execute_result"
    }
   ],
   "source": [
    "acc_score = round(acc_scores.mean(), 3)\n",
    "precision_score = round(precision_scores.mean(), 3)\n",
    "recall_score = round(recall_scores.mean(), 3)\n",
    "f1_score = round(f1_scores.mean(), 3)\n",
    "metrics = metrics.append({'Model':'CatBoost', 'Accuracy':acc_score,\n",
    "                          'Precision':precision_score, 'Recall':recall_score, 'F1':f1_score}, ignore_index=True)\n",
    "metrics"
   ]
  },
  {
   "cell_type": "code",
   "execution_count": null,
   "metadata": {},
   "outputs": [],
   "source": []
  },
  {
   "cell_type": "code",
   "execution_count": null,
   "metadata": {},
   "outputs": [],
   "source": []
  },
  {
   "cell_type": "code",
   "execution_count": null,
   "metadata": {},
   "outputs": [],
   "source": []
  },
  {
   "cell_type": "code",
   "execution_count": null,
   "metadata": {},
   "outputs": [],
   "source": []
  },
  {
   "cell_type": "code",
   "execution_count": null,
   "metadata": {},
   "outputs": [],
   "source": []
  },
  {
   "cell_type": "code",
   "execution_count": null,
   "metadata": {},
   "outputs": [],
   "source": []
  },
  {
   "cell_type": "code",
   "execution_count": null,
   "metadata": {},
   "outputs": [],
   "source": []
  },
  {
   "cell_type": "code",
   "execution_count": null,
   "metadata": {},
   "outputs": [],
   "source": []
  }
 ],
 "metadata": {
  "kernelspec": {
   "display_name": "Python 3",
   "language": "python",
   "name": "python3"
  },
  "language_info": {
   "codemirror_mode": {
    "name": "ipython",
    "version": 3
   },
   "file_extension": ".py",
   "mimetype": "text/x-python",
   "name": "python",
   "nbconvert_exporter": "python",
   "pygments_lexer": "ipython3",
   "version": "3.8.5"
  }
 },
 "nbformat": 4,
 "nbformat_minor": 4
}
