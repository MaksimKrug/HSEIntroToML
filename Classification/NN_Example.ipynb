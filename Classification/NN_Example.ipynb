{
 "cells": [
  {
   "cell_type": "code",
   "execution_count": 1,
   "metadata": {},
   "outputs": [],
   "source": [
    "import numpy as np\n",
    "import pandas as pd\n",
    "import matplotlib.pyplot as plt\n",
    "import seaborn as sns\n",
    "from tqdm import tqdm"
   ]
  },
  {
   "cell_type": "code",
   "execution_count": 2,
   "metadata": {},
   "outputs": [
    {
     "data": {
      "text/plain": [
       "(283043, 33)"
      ]
     },
     "execution_count": 2,
     "metadata": {},
     "output_type": "execute_result"
    }
   ],
   "source": [
    "df = pd.read_csv('Data_Preprocessed.csv')\n",
    "df.shape"
   ]
  },
  {
   "cell_type": "code",
   "execution_count": 3,
   "metadata": {},
   "outputs": [],
   "source": [
    "# нормализация из прошлого скрипта\n",
    "from sklearn.preprocessing import StandardScaler, MinMaxScaler\n",
    "normalize_columns = ['price', 'powerPS', 'model', 'brand', 'Age']\n",
    "scaler = MinMaxScaler()\n",
    "df[normalize_columns] = scaler.fit_transform(df[normalize_columns])"
   ]
  },
  {
   "cell_type": "code",
   "execution_count": 4,
   "metadata": {},
   "outputs": [
    {
     "data": {
      "text/plain": [
       "((226434, 32), (56609, 32))"
      ]
     },
     "execution_count": 4,
     "metadata": {},
     "output_type": "execute_result"
    }
   ],
   "source": [
    "from sklearn.model_selection import train_test_split\n",
    "X_train, X_test, y_train, y_test = train_test_split(df.drop(columns=['kilometer']), df['kilometer'],\n",
    "                                                    test_size=0.2, random_state=42)\n",
    "X_train.shape, X_test.shape"
   ]
  },
  {
   "cell_type": "code",
   "execution_count": 5,
   "metadata": {},
   "outputs": [
    {
     "data": {
      "text/plain": [
       "1    0.762121\n",
       "0    0.237879\n",
       "Name: kilometer, dtype: float64"
      ]
     },
     "execution_count": 5,
     "metadata": {},
     "output_type": "execute_result"
    }
   ],
   "source": [
    "# В качестве baseline возьмем наивный классификатор, его качество будет около 76%\n",
    "df['kilometer'].value_counts(normalize=True)"
   ]
  },
  {
   "cell_type": "markdown",
   "metadata": {},
   "source": [
    "## Обучим нейронку"
   ]
  },
  {
   "cell_type": "code",
   "execution_count": 6,
   "metadata": {},
   "outputs": [],
   "source": [
    "import tensorflow as tf\n",
    "from tensorflow import keras"
   ]
  },
  {
   "cell_type": "markdown",
   "metadata": {},
   "source": [
    "Задача нейронкой скорее всего не очень хорошо решается, так что ниже скрипты будут скорее чтобы показать, что так можно делать"
   ]
  },
  {
   "cell_type": "markdown",
   "metadata": {},
   "source": [
    "#### Один слой"
   ]
  },
  {
   "cell_type": "code",
   "execution_count": 7,
   "metadata": {},
   "outputs": [],
   "source": [
    "keras.backend.clear_session()"
   ]
  },
  {
   "cell_type": "code",
   "execution_count": 8,
   "metadata": {},
   "outputs": [],
   "source": [
    "model = keras.Sequential([\n",
    "    keras.layers.Dense(64, activation='relu'),\n",
    "    keras.layers.Dense(1, activation='sigmoid')\n",
    "])\n",
    "model.compile(optimizer='adam',\n",
    "              loss='binary_crossentropy',\n",
    "              metrics=[keras.metrics.AUC()])"
   ]
  },
  {
   "cell_type": "code",
   "execution_count": 9,
   "metadata": {
    "scrolled": true
   },
   "outputs": [
    {
     "name": "stdout",
     "output_type": "stream",
     "text": [
      "Epoch 1/200\n",
      "WARNING:tensorflow:Layer dense is casting an input tensor from dtype float64 to the layer's dtype of float32, which is new behavior in TensorFlow 2.  The layer has dtype float32 because its dtype defaults to floatx.\n",
      "\n",
      "If you intended to run this layer in float32, you can safely ignore this warning. If in doubt, this warning is likely only an issue if you are porting a TensorFlow 1.X model to TensorFlow 2.\n",
      "\n",
      "To change all layers to have dtype float64 by default, call `tf.keras.backend.set_floatx('float64')`. To change just this layer, pass dtype='float64' to the layer constructor. If you are the author of this layer, you can disable autocasting by passing autocast=False to the base Layer constructor.\n",
      "\n",
      "1/1 [==============================] - 0s 331ms/step - loss: 0.6765 - auc: 0.5502 - val_loss: 0.6667 - val_auc: 0.5472\n",
      "Epoch 2/200\n",
      "1/1 [==============================] - 0s 111ms/step - loss: 0.6666 - auc: 0.5487 - val_loss: 0.6572 - val_auc: 0.5455\n",
      "Epoch 3/200\n",
      "1/1 [==============================] - 0s 100ms/step - loss: 0.6572 - auc: 0.5473 - val_loss: 0.6481 - val_auc: 0.5441\n",
      "Epoch 4/200\n",
      "1/1 [==============================] - 0s 95ms/step - loss: 0.6481 - auc: 0.5459 - val_loss: 0.6395 - val_auc: 0.5425\n",
      "Epoch 5/200\n",
      "1/1 [==============================] - 0s 100ms/step - loss: 0.6396 - auc: 0.5445 - val_loss: 0.6313 - val_auc: 0.5411\n",
      "Epoch 6/200\n",
      "1/1 [==============================] - 0s 100ms/step - loss: 0.6314 - auc: 0.5433 - val_loss: 0.6236 - val_auc: 0.5397\n",
      "Epoch 7/200\n",
      "1/1 [==============================] - 0s 107ms/step - loss: 0.6237 - auc: 0.5421 - val_loss: 0.6163 - val_auc: 0.5383\n",
      "Epoch 8/200\n",
      "1/1 [==============================] - 0s 95ms/step - loss: 0.6164 - auc: 0.5408 - val_loss: 0.6094 - val_auc: 0.5371\n",
      "Epoch 9/200\n",
      "1/1 [==============================] - 0s 100ms/step - loss: 0.6096 - auc: 0.5398 - val_loss: 0.6030 - val_auc: 0.5361\n",
      "Epoch 10/200\n",
      "1/1 [==============================] - 0s 91ms/step - loss: 0.6032 - auc: 0.5388 - val_loss: 0.5970 - val_auc: 0.5351\n",
      "Epoch 11/200\n",
      "1/1 [==============================] - 0s 97ms/step - loss: 0.5972 - auc: 0.5381 - val_loss: 0.5914 - val_auc: 0.5343\n",
      "Epoch 12/200\n",
      "1/1 [==============================] - 0s 101ms/step - loss: 0.5916 - auc: 0.5374 - val_loss: 0.5862 - val_auc: 0.5338\n",
      "Epoch 13/200\n",
      "1/1 [==============================] - 0s 99ms/step - loss: 0.5864 - auc: 0.5369 - val_loss: 0.5814 - val_auc: 0.5334\n",
      "Epoch 14/200\n",
      "1/1 [==============================] - 0s 120ms/step - loss: 0.5817 - auc: 0.5367 - val_loss: 0.5770 - val_auc: 0.5332\n",
      "Epoch 15/200\n",
      "1/1 [==============================] - 0s 95ms/step - loss: 0.5773 - auc: 0.5366 - val_loss: 0.5730 - val_auc: 0.5333\n",
      "Epoch 16/200\n",
      "1/1 [==============================] - 0s 95ms/step - loss: 0.5733 - auc: 0.5368 - val_loss: 0.5693 - val_auc: 0.5336\n",
      "Epoch 17/200\n",
      "1/1 [==============================] - 0s 91ms/step - loss: 0.5696 - auc: 0.5371 - val_loss: 0.5660 - val_auc: 0.5340\n",
      "Epoch 18/200\n",
      "1/1 [==============================] - 0s 95ms/step - loss: 0.5663 - auc: 0.5378 - val_loss: 0.5629 - val_auc: 0.5344\n",
      "Epoch 19/200\n",
      "1/1 [==============================] - 0s 100ms/step - loss: 0.5633 - auc: 0.5385 - val_loss: 0.5602 - val_auc: 0.5359\n",
      "Epoch 20/200\n",
      "1/1 [==============================] - 0s 100ms/step - loss: 0.5606 - auc: 0.5397 - val_loss: 0.5578 - val_auc: 0.5369\n",
      "Epoch 21/200\n",
      "1/1 [==============================] - 0s 96ms/step - loss: 0.5582 - auc: 0.5409 - val_loss: 0.5556 - val_auc: 0.5384\n",
      "Epoch 22/200\n",
      "1/1 [==============================] - 0s 95ms/step - loss: 0.5560 - auc: 0.5426 - val_loss: 0.5537 - val_auc: 0.5399\n",
      "Epoch 23/200\n",
      "1/1 [==============================] - 0s 88ms/step - loss: 0.5541 - auc: 0.5442 - val_loss: 0.5520 - val_auc: 0.5419\n",
      "Epoch 24/200\n",
      "1/1 [==============================] - 0s 90ms/step - loss: 0.5524 - auc: 0.5461 - val_loss: 0.5504 - val_auc: 0.5441\n",
      "Epoch 25/200\n",
      "1/1 [==============================] - 0s 99ms/step - loss: 0.5509 - auc: 0.5485 - val_loss: 0.5491 - val_auc: 0.5466\n",
      "Epoch 26/200\n",
      "1/1 [==============================] - 0s 90ms/step - loss: 0.5496 - auc: 0.5510 - val_loss: 0.5479 - val_auc: 0.5492\n",
      "Epoch 27/200\n",
      "1/1 [==============================] - 0s 104ms/step - loss: 0.5484 - auc: 0.5538 - val_loss: 0.5468 - val_auc: 0.5519\n",
      "Epoch 28/200\n",
      "1/1 [==============================] - 0s 98ms/step - loss: 0.5473 - auc: 0.5566 - val_loss: 0.5458 - val_auc: 0.5552\n",
      "Epoch 29/200\n",
      "1/1 [==============================] - 0s 92ms/step - loss: 0.5463 - auc: 0.5598 - val_loss: 0.5449 - val_auc: 0.5586\n",
      "Epoch 30/200\n",
      "1/1 [==============================] - 0s 97ms/step - loss: 0.5454 - auc: 0.5633 - val_loss: 0.5440 - val_auc: 0.5621\n",
      "Epoch 31/200\n",
      "1/1 [==============================] - 0s 101ms/step - loss: 0.5445 - auc: 0.5669 - val_loss: 0.5432 - val_auc: 0.5657\n",
      "Epoch 32/200\n",
      "1/1 [==============================] - 0s 102ms/step - loss: 0.5437 - auc: 0.5706 - val_loss: 0.5424 - val_auc: 0.5696\n",
      "Epoch 33/200\n",
      "1/1 [==============================] - 0s 92ms/step - loss: 0.5429 - auc: 0.5744 - val_loss: 0.5417 - val_auc: 0.5735\n",
      "Epoch 34/200\n",
      "1/1 [==============================] - 0s 95ms/step - loss: 0.5422 - auc: 0.5785 - val_loss: 0.5409 - val_auc: 0.5778\n",
      "Epoch 35/200\n",
      "1/1 [==============================] - 0s 99ms/step - loss: 0.5414 - auc: 0.5827 - val_loss: 0.5401 - val_auc: 0.5820\n",
      "Epoch 36/200\n",
      "1/1 [==============================] - 0s 96ms/step - loss: 0.5406 - auc: 0.5870 - val_loss: 0.5394 - val_auc: 0.5864\n",
      "Epoch 37/200\n",
      "1/1 [==============================] - 0s 94ms/step - loss: 0.5399 - auc: 0.5916 - val_loss: 0.5386 - val_auc: 0.5910\n",
      "Epoch 38/200\n",
      "1/1 [==============================] - 0s 93ms/step - loss: 0.5391 - auc: 0.5959 - val_loss: 0.5378 - val_auc: 0.5954\n",
      "Epoch 39/200\n",
      "1/1 [==============================] - 0s 95ms/step - loss: 0.5382 - auc: 0.6005 - val_loss: 0.5369 - val_auc: 0.5998\n",
      "Epoch 40/200\n",
      "1/1 [==============================] - 0s 98ms/step - loss: 0.5374 - auc: 0.6051 - val_loss: 0.5361 - val_auc: 0.6044\n",
      "Epoch 41/200\n",
      "1/1 [==============================] - 0s 99ms/step - loss: 0.5366 - auc: 0.6095 - val_loss: 0.5353 - val_auc: 0.6085\n",
      "Epoch 42/200\n",
      "1/1 [==============================] - 0s 92ms/step - loss: 0.5357 - auc: 0.6138 - val_loss: 0.5344 - val_auc: 0.6129\n",
      "Epoch 43/200\n",
      "1/1 [==============================] - 0s 97ms/step - loss: 0.5348 - auc: 0.6183 - val_loss: 0.5335 - val_auc: 0.6176\n",
      "Epoch 44/200\n",
      "1/1 [==============================] - 0s 105ms/step - loss: 0.5339 - auc: 0.6226 - val_loss: 0.5327 - val_auc: 0.6217\n",
      "Epoch 45/200\n",
      "1/1 [==============================] - 0s 105ms/step - loss: 0.5331 - auc: 0.6270 - val_loss: 0.5318 - val_auc: 0.6261\n",
      "Epoch 46/200\n",
      "1/1 [==============================] - 0s 97ms/step - loss: 0.5322 - auc: 0.6313 - val_loss: 0.5309 - val_auc: 0.6301\n",
      "Epoch 47/200\n",
      "1/1 [==============================] - 0s 99ms/step - loss: 0.5313 - auc: 0.6353 - val_loss: 0.5300 - val_auc: 0.6342\n",
      "Epoch 48/200\n",
      "1/1 [==============================] - 0s 98ms/step - loss: 0.5304 - auc: 0.6393 - val_loss: 0.5291 - val_auc: 0.6381\n",
      "Epoch 49/200\n",
      "1/1 [==============================] - 0s 97ms/step - loss: 0.5295 - auc: 0.6433 - val_loss: 0.5283 - val_auc: 0.6420\n",
      "Epoch 50/200\n",
      "1/1 [==============================] - 0s 98ms/step - loss: 0.5286 - auc: 0.6471 - val_loss: 0.5274 - val_auc: 0.6459\n",
      "Epoch 51/200\n",
      "1/1 [==============================] - 0s 93ms/step - loss: 0.5277 - auc: 0.6508 - val_loss: 0.5265 - val_auc: 0.6495\n",
      "Epoch 52/200\n",
      "1/1 [==============================] - 0s 97ms/step - loss: 0.5268 - auc: 0.6544 - val_loss: 0.5257 - val_auc: 0.6528\n",
      "Epoch 53/200\n",
      "1/1 [==============================] - 0s 97ms/step - loss: 0.5260 - auc: 0.6579 - val_loss: 0.5249 - val_auc: 0.6564\n",
      "Epoch 54/200\n",
      "1/1 [==============================] - 0s 96ms/step - loss: 0.5251 - auc: 0.6612 - val_loss: 0.5240 - val_auc: 0.6595\n",
      "Epoch 55/200\n",
      "1/1 [==============================] - 0s 92ms/step - loss: 0.5243 - auc: 0.6645 - val_loss: 0.5232 - val_auc: 0.6628\n",
      "Epoch 56/200\n",
      "1/1 [==============================] - 0s 103ms/step - loss: 0.5234 - auc: 0.6676 - val_loss: 0.5224 - val_auc: 0.6659\n",
      "Epoch 57/200\n",
      "1/1 [==============================] - 0s 100ms/step - loss: 0.5226 - auc: 0.6706 - val_loss: 0.5216 - val_auc: 0.6690\n",
      "Epoch 58/200\n"
     ]
    },
    {
     "name": "stdout",
     "output_type": "stream",
     "text": [
      "1/1 [==============================] - 0s 127ms/step - loss: 0.5218 - auc: 0.6735 - val_loss: 0.5208 - val_auc: 0.6717\n",
      "Epoch 59/200\n",
      "1/1 [==============================] - 0s 118ms/step - loss: 0.5210 - auc: 0.6763 - val_loss: 0.5200 - val_auc: 0.6743\n",
      "Epoch 60/200\n",
      "1/1 [==============================] - 0s 113ms/step - loss: 0.5202 - auc: 0.6789 - val_loss: 0.5192 - val_auc: 0.6769\n",
      "Epoch 61/200\n",
      "1/1 [==============================] - 0s 112ms/step - loss: 0.5194 - auc: 0.6815 - val_loss: 0.5185 - val_auc: 0.6796\n",
      "Epoch 62/200\n",
      "1/1 [==============================] - 0s 116ms/step - loss: 0.5186 - auc: 0.6840 - val_loss: 0.5177 - val_auc: 0.6820\n",
      "Epoch 63/200\n",
      "1/1 [==============================] - 0s 110ms/step - loss: 0.5178 - auc: 0.6864 - val_loss: 0.5169 - val_auc: 0.6844\n",
      "Epoch 64/200\n",
      "1/1 [==============================] - 0s 114ms/step - loss: 0.5171 - auc: 0.6887 - val_loss: 0.5162 - val_auc: 0.6867\n",
      "Epoch 65/200\n",
      "1/1 [==============================] - 0s 109ms/step - loss: 0.5163 - auc: 0.6909 - val_loss: 0.5155 - val_auc: 0.6889\n",
      "Epoch 66/200\n",
      "1/1 [==============================] - 0s 110ms/step - loss: 0.5155 - auc: 0.6930 - val_loss: 0.5147 - val_auc: 0.6908\n",
      "Epoch 67/200\n",
      "1/1 [==============================] - 0s 105ms/step - loss: 0.5148 - auc: 0.6951 - val_loss: 0.5140 - val_auc: 0.6929\n",
      "Epoch 68/200\n",
      "1/1 [==============================] - 0s 105ms/step - loss: 0.5140 - auc: 0.6971 - val_loss: 0.5132 - val_auc: 0.6950\n",
      "Epoch 69/200\n",
      "1/1 [==============================] - 0s 106ms/step - loss: 0.5133 - auc: 0.6991 - val_loss: 0.5125 - val_auc: 0.6967\n",
      "Epoch 70/200\n",
      "1/1 [==============================] - 0s 93ms/step - loss: 0.5125 - auc: 0.7009 - val_loss: 0.5118 - val_auc: 0.6986\n",
      "Epoch 71/200\n",
      "1/1 [==============================] - 0s 99ms/step - loss: 0.5118 - auc: 0.7028 - val_loss: 0.5110 - val_auc: 0.7004\n",
      "Epoch 72/200\n",
      "1/1 [==============================] - 0s 98ms/step - loss: 0.5110 - auc: 0.7045 - val_loss: 0.5103 - val_auc: 0.7022\n",
      "Epoch 73/200\n",
      "1/1 [==============================] - 0s 99ms/step - loss: 0.5103 - auc: 0.7062 - val_loss: 0.5096 - val_auc: 0.7039\n",
      "Epoch 74/200\n",
      "1/1 [==============================] - 0s 93ms/step - loss: 0.5095 - auc: 0.7079 - val_loss: 0.5088 - val_auc: 0.7056\n",
      "Epoch 75/200\n",
      "1/1 [==============================] - 0s 93ms/step - loss: 0.5088 - auc: 0.7095 - val_loss: 0.5081 - val_auc: 0.7070\n",
      "Epoch 76/200\n",
      "1/1 [==============================] - 0s 98ms/step - loss: 0.5081 - auc: 0.7111 - val_loss: 0.5074 - val_auc: 0.7085\n",
      "Epoch 77/200\n",
      "1/1 [==============================] - 0s 95ms/step - loss: 0.5073 - auc: 0.7126 - val_loss: 0.5067 - val_auc: 0.7101\n",
      "Epoch 78/200\n",
      "1/1 [==============================] - 0s 96ms/step - loss: 0.5066 - auc: 0.7141 - val_loss: 0.5060 - val_auc: 0.7115\n",
      "Epoch 79/200\n",
      "1/1 [==============================] - 0s 94ms/step - loss: 0.5059 - auc: 0.7155 - val_loss: 0.5053 - val_auc: 0.7129\n",
      "Epoch 80/200\n",
      "1/1 [==============================] - 0s 95ms/step - loss: 0.5051 - auc: 0.7169 - val_loss: 0.5045 - val_auc: 0.7142\n",
      "Epoch 81/200\n",
      "1/1 [==============================] - 0s 101ms/step - loss: 0.5044 - auc: 0.7182 - val_loss: 0.5038 - val_auc: 0.7155\n",
      "Epoch 82/200\n",
      "1/1 [==============================] - 0s 99ms/step - loss: 0.5037 - auc: 0.7195 - val_loss: 0.5032 - val_auc: 0.7168\n",
      "Epoch 83/200\n",
      "1/1 [==============================] - 0s 100ms/step - loss: 0.5030 - auc: 0.7207 - val_loss: 0.5025 - val_auc: 0.7180\n",
      "Epoch 84/200\n",
      "1/1 [==============================] - 0s 92ms/step - loss: 0.5023 - auc: 0.7219 - val_loss: 0.5018 - val_auc: 0.7192\n",
      "Epoch 85/200\n",
      "1/1 [==============================] - 0s 90ms/step - loss: 0.5016 - auc: 0.7231 - val_loss: 0.5011 - val_auc: 0.7202\n",
      "Epoch 86/200\n",
      "1/1 [==============================] - 0s 96ms/step - loss: 0.5009 - auc: 0.7242 - val_loss: 0.5004 - val_auc: 0.7214\n",
      "Epoch 87/200\n",
      "1/1 [==============================] - 0s 97ms/step - loss: 0.5003 - auc: 0.7253 - val_loss: 0.4998 - val_auc: 0.7225\n",
      "Epoch 88/200\n",
      "1/1 [==============================] - 0s 99ms/step - loss: 0.4996 - auc: 0.7263 - val_loss: 0.4991 - val_auc: 0.7235\n",
      "Epoch 89/200\n",
      "1/1 [==============================] - 0s 97ms/step - loss: 0.4989 - auc: 0.7274 - val_loss: 0.4985 - val_auc: 0.7244\n",
      "Epoch 90/200\n",
      "1/1 [==============================] - 0s 94ms/step - loss: 0.4983 - auc: 0.7284 - val_loss: 0.4978 - val_auc: 0.7254\n",
      "Epoch 91/200\n",
      "1/1 [==============================] - 0s 91ms/step - loss: 0.4976 - auc: 0.7293 - val_loss: 0.4972 - val_auc: 0.7264\n",
      "Epoch 92/200\n",
      "1/1 [==============================] - 0s 101ms/step - loss: 0.4970 - auc: 0.7302 - val_loss: 0.4965 - val_auc: 0.7273\n",
      "Epoch 93/200\n",
      "1/1 [==============================] - 0s 116ms/step - loss: 0.4963 - auc: 0.7312 - val_loss: 0.4959 - val_auc: 0.7283\n",
      "Epoch 94/200\n",
      "1/1 [==============================] - 0s 101ms/step - loss: 0.4957 - auc: 0.7321 - val_loss: 0.4953 - val_auc: 0.7292\n",
      "Epoch 95/200\n",
      "1/1 [==============================] - 0s 104ms/step - loss: 0.4950 - auc: 0.7330 - val_loss: 0.4947 - val_auc: 0.7302\n",
      "Epoch 96/200\n",
      "1/1 [==============================] - 0s 107ms/step - loss: 0.4944 - auc: 0.7339 - val_loss: 0.4940 - val_auc: 0.7311\n",
      "Epoch 97/200\n",
      "1/1 [==============================] - 0s 98ms/step - loss: 0.4938 - auc: 0.7348 - val_loss: 0.4934 - val_auc: 0.7319\n",
      "Epoch 98/200\n",
      "1/1 [==============================] - 0s 99ms/step - loss: 0.4931 - auc: 0.7357 - val_loss: 0.4928 - val_auc: 0.7328\n",
      "Epoch 99/200\n",
      "1/1 [==============================] - 0s 96ms/step - loss: 0.4925 - auc: 0.7365 - val_loss: 0.4922 - val_auc: 0.7337\n",
      "Epoch 100/200\n",
      "1/1 [==============================] - 0s 99ms/step - loss: 0.4919 - auc: 0.7373 - val_loss: 0.4916 - val_auc: 0.7346\n",
      "Epoch 101/200\n",
      "1/1 [==============================] - 0s 115ms/step - loss: 0.4913 - auc: 0.7382 - val_loss: 0.4910 - val_auc: 0.7354\n",
      "Epoch 102/200\n",
      "1/1 [==============================] - 0s 114ms/step - loss: 0.4907 - auc: 0.7391 - val_loss: 0.4904 - val_auc: 0.7363\n",
      "Epoch 103/200\n",
      "1/1 [==============================] - 0s 113ms/step - loss: 0.4901 - auc: 0.7399 - val_loss: 0.4898 - val_auc: 0.7372\n",
      "Epoch 104/200\n",
      "1/1 [==============================] - 0s 106ms/step - loss: 0.4895 - auc: 0.7407 - val_loss: 0.4892 - val_auc: 0.7381\n",
      "Epoch 105/200\n",
      "1/1 [==============================] - 0s 112ms/step - loss: 0.4888 - auc: 0.7416 - val_loss: 0.4886 - val_auc: 0.7389\n",
      "Epoch 106/200\n",
      "1/1 [==============================] - 0s 103ms/step - loss: 0.4882 - auc: 0.7424 - val_loss: 0.4879 - val_auc: 0.7398\n",
      "Epoch 107/200\n",
      "1/1 [==============================] - 0s 99ms/step - loss: 0.4876 - auc: 0.7433 - val_loss: 0.4873 - val_auc: 0.7407\n",
      "Epoch 108/200\n",
      "1/1 [==============================] - 0s 100ms/step - loss: 0.4870 - auc: 0.7442 - val_loss: 0.4867 - val_auc: 0.7417\n",
      "Epoch 109/200\n",
      "1/1 [==============================] - 0s 105ms/step - loss: 0.4864 - auc: 0.7451 - val_loss: 0.4861 - val_auc: 0.7425\n",
      "Epoch 110/200\n",
      "1/1 [==============================] - 0s 118ms/step - loss: 0.4858 - auc: 0.7460 - val_loss: 0.4855 - val_auc: 0.7435\n",
      "Epoch 111/200\n",
      "1/1 [==============================] - 0s 103ms/step - loss: 0.4852 - auc: 0.7469 - val_loss: 0.4849 - val_auc: 0.7445\n",
      "Epoch 112/200\n",
      "1/1 [==============================] - 0s 91ms/step - loss: 0.4845 - auc: 0.7478 - val_loss: 0.4843 - val_auc: 0.7454\n",
      "Epoch 113/200\n",
      "1/1 [==============================] - 0s 92ms/step - loss: 0.4839 - auc: 0.7487 - val_loss: 0.4837 - val_auc: 0.7462\n",
      "Epoch 114/200\n",
      "1/1 [==============================] - 0s 90ms/step - loss: 0.4833 - auc: 0.7496 - val_loss: 0.4831 - val_auc: 0.7471\n",
      "Epoch 115/200\n",
      "1/1 [==============================] - 0s 107ms/step - loss: 0.4827 - auc: 0.7505 - val_loss: 0.4825 - val_auc: 0.7481\n",
      "Epoch 116/200\n",
      "1/1 [==============================] - 0s 90ms/step - loss: 0.4821 - auc: 0.7514 - val_loss: 0.4818 - val_auc: 0.7490\n",
      "Epoch 117/200\n",
      "1/1 [==============================] - 0s 85ms/step - loss: 0.4815 - auc: 0.7523 - val_loss: 0.4812 - val_auc: 0.7499\n",
      "Epoch 118/200\n",
      "1/1 [==============================] - 0s 84ms/step - loss: 0.4809 - auc: 0.7531 - val_loss: 0.4806 - val_auc: 0.7508\n",
      "Epoch 119/200\n",
      "1/1 [==============================] - 0s 96ms/step - loss: 0.4803 - auc: 0.7540 - val_loss: 0.4800 - val_auc: 0.7518\n",
      "Epoch 120/200\n",
      "1/1 [==============================] - 0s 97ms/step - loss: 0.4796 - auc: 0.7550 - val_loss: 0.4794 - val_auc: 0.7526\n",
      "Epoch 121/200\n",
      "1/1 [==============================] - 0s 105ms/step - loss: 0.4790 - auc: 0.7559 - val_loss: 0.4788 - val_auc: 0.7535\n",
      "Epoch 122/200\n",
      "1/1 [==============================] - 0s 94ms/step - loss: 0.4784 - auc: 0.7568 - val_loss: 0.4782 - val_auc: 0.7545\n",
      "Epoch 123/200\n",
      "1/1 [==============================] - 0s 102ms/step - loss: 0.4778 - auc: 0.7577 - val_loss: 0.4776 - val_auc: 0.7554\n",
      "Epoch 124/200\n",
      "1/1 [==============================] - 0s 101ms/step - loss: 0.4772 - auc: 0.7586 - val_loss: 0.4770 - val_auc: 0.7564\n",
      "Epoch 125/200\n",
      "1/1 [==============================] - 0s 107ms/step - loss: 0.4766 - auc: 0.7595 - val_loss: 0.4764 - val_auc: 0.7572\n",
      "Epoch 126/200\n",
      "1/1 [==============================] - 0s 97ms/step - loss: 0.4760 - auc: 0.7603 - val_loss: 0.4758 - val_auc: 0.7581\n",
      "Epoch 127/200\n",
      "1/1 [==============================] - 0s 108ms/step - loss: 0.4754 - auc: 0.7612 - val_loss: 0.4752 - val_auc: 0.7590\n",
      "Epoch 128/200\n",
      "1/1 [==============================] - 0s 120ms/step - loss: 0.4748 - auc: 0.7621 - val_loss: 0.4746 - val_auc: 0.7599\n",
      "Epoch 129/200\n",
      "1/1 [==============================] - 0s 123ms/step - loss: 0.4742 - auc: 0.7630 - val_loss: 0.4740 - val_auc: 0.7608\n",
      "Epoch 130/200\n",
      "1/1 [==============================] - 0s 106ms/step - loss: 0.4736 - auc: 0.7639 - val_loss: 0.4734 - val_auc: 0.7616\n",
      "Epoch 131/200\n",
      "1/1 [==============================] - 0s 98ms/step - loss: 0.4730 - auc: 0.7647 - val_loss: 0.4728 - val_auc: 0.7625\n",
      "Epoch 132/200\n",
      "1/1 [==============================] - 0s 97ms/step - loss: 0.4724 - auc: 0.7656 - val_loss: 0.4723 - val_auc: 0.7634\n",
      "Epoch 133/200\n",
      "1/1 [==============================] - 0s 96ms/step - loss: 0.4719 - auc: 0.7664 - val_loss: 0.4717 - val_auc: 0.7642\n",
      "Epoch 134/200\n",
      "1/1 [==============================] - 0s 103ms/step - loss: 0.4713 - auc: 0.7673 - val_loss: 0.4711 - val_auc: 0.7651\n",
      "Epoch 135/200\n",
      "1/1 [==============================] - 0s 95ms/step - loss: 0.4707 - auc: 0.7681 - val_loss: 0.4706 - val_auc: 0.7658\n",
      "Epoch 136/200\n",
      "1/1 [==============================] - 0s 98ms/step - loss: 0.4702 - auc: 0.7689 - val_loss: 0.4700 - val_auc: 0.7667\n",
      "Epoch 137/200\n",
      "1/1 [==============================] - 0s 91ms/step - loss: 0.4696 - auc: 0.7697 - val_loss: 0.4695 - val_auc: 0.7675\n",
      "Epoch 138/200\n",
      "1/1 [==============================] - 0s 95ms/step - loss: 0.4690 - auc: 0.7705 - val_loss: 0.4689 - val_auc: 0.7682\n",
      "Epoch 139/200\n",
      "1/1 [==============================] - 0s 102ms/step - loss: 0.4685 - auc: 0.7713 - val_loss: 0.4684 - val_auc: 0.7691\n",
      "Epoch 140/200\n",
      "1/1 [==============================] - 0s 97ms/step - loss: 0.4679 - auc: 0.7721 - val_loss: 0.4679 - val_auc: 0.7698\n",
      "Epoch 141/200\n",
      "1/1 [==============================] - 0s 94ms/step - loss: 0.4674 - auc: 0.7729 - val_loss: 0.4673 - val_auc: 0.7707\n",
      "Epoch 142/200\n",
      "1/1 [==============================] - 0s 90ms/step - loss: 0.4669 - auc: 0.7737 - val_loss: 0.4668 - val_auc: 0.7715\n",
      "Epoch 143/200\n",
      "1/1 [==============================] - 0s 93ms/step - loss: 0.4663 - auc: 0.7744 - val_loss: 0.4662 - val_auc: 0.7722\n",
      "Epoch 144/200\n",
      "1/1 [==============================] - 0s 86ms/step - loss: 0.4658 - auc: 0.7752 - val_loss: 0.4657 - val_auc: 0.7730\n",
      "Epoch 145/200\n",
      "1/1 [==============================] - 0s 93ms/step - loss: 0.4653 - auc: 0.7760 - val_loss: 0.4652 - val_auc: 0.7738\n",
      "Epoch 146/200\n",
      "1/1 [==============================] - 0s 88ms/step - loss: 0.4647 - auc: 0.7768 - val_loss: 0.4647 - val_auc: 0.7746\n",
      "Epoch 147/200\n",
      "1/1 [==============================] - 0s 87ms/step - loss: 0.4642 - auc: 0.7775 - val_loss: 0.4641 - val_auc: 0.7753\n",
      "Epoch 148/200\n",
      "1/1 [==============================] - 0s 96ms/step - loss: 0.4637 - auc: 0.7783 - val_loss: 0.4636 - val_auc: 0.7760\n",
      "Epoch 149/200\n",
      "1/1 [==============================] - 0s 93ms/step - loss: 0.4631 - auc: 0.7791 - val_loss: 0.4631 - val_auc: 0.7767\n",
      "Epoch 150/200\n",
      "1/1 [==============================] - 0s 95ms/step - loss: 0.4626 - auc: 0.7798 - val_loss: 0.4626 - val_auc: 0.7775\n",
      "Epoch 151/200\n",
      "1/1 [==============================] - 0s 91ms/step - loss: 0.4621 - auc: 0.7806 - val_loss: 0.4621 - val_auc: 0.7783\n",
      "Epoch 152/200\n",
      "1/1 [==============================] - 0s 94ms/step - loss: 0.4616 - auc: 0.7813 - val_loss: 0.4615 - val_auc: 0.7791\n",
      "Epoch 153/200\n",
      "1/1 [==============================] - 0s 91ms/step - loss: 0.4611 - auc: 0.7821 - val_loss: 0.4610 - val_auc: 0.7798\n",
      "Epoch 154/200\n",
      "1/1 [==============================] - 0s 95ms/step - loss: 0.4605 - auc: 0.7828 - val_loss: 0.4605 - val_auc: 0.7806\n",
      "Epoch 155/200\n",
      "1/1 [==============================] - 0s 94ms/step - loss: 0.4600 - auc: 0.7836 - val_loss: 0.4600 - val_auc: 0.7813\n",
      "Epoch 156/200\n",
      "1/1 [==============================] - 0s 94ms/step - loss: 0.4595 - auc: 0.7843 - val_loss: 0.4595 - val_auc: 0.7821\n",
      "Epoch 157/200\n",
      "1/1 [==============================] - 0s 95ms/step - loss: 0.4590 - auc: 0.7851 - val_loss: 0.4590 - val_auc: 0.7828\n",
      "Epoch 158/200\n",
      "1/1 [==============================] - 0s 93ms/step - loss: 0.4585 - auc: 0.7858 - val_loss: 0.4585 - val_auc: 0.7835\n",
      "Epoch 159/200\n",
      "1/1 [==============================] - 0s 91ms/step - loss: 0.4579 - auc: 0.7866 - val_loss: 0.4579 - val_auc: 0.7843\n",
      "Epoch 160/200\n",
      "1/1 [==============================] - 0s 95ms/step - loss: 0.4574 - auc: 0.7873 - val_loss: 0.4574 - val_auc: 0.7851\n",
      "Epoch 161/200\n",
      "1/1 [==============================] - 0s 100ms/step - loss: 0.4569 - auc: 0.7880 - val_loss: 0.4569 - val_auc: 0.7857\n",
      "Epoch 162/200\n",
      "1/1 [==============================] - 0s 98ms/step - loss: 0.4564 - auc: 0.7887 - val_loss: 0.4564 - val_auc: 0.7865\n",
      "Epoch 163/200\n",
      "1/1 [==============================] - 0s 97ms/step - loss: 0.4559 - auc: 0.7895 - val_loss: 0.4559 - val_auc: 0.7872\n",
      "Epoch 164/200\n",
      "1/1 [==============================] - 0s 101ms/step - loss: 0.4554 - auc: 0.7902 - val_loss: 0.4554 - val_auc: 0.7879\n",
      "Epoch 165/200\n",
      "1/1 [==============================] - 0s 109ms/step - loss: 0.4548 - auc: 0.7909 - val_loss: 0.4549 - val_auc: 0.7886\n",
      "Epoch 166/200\n",
      "1/1 [==============================] - 0s 97ms/step - loss: 0.4543 - auc: 0.7916 - val_loss: 0.4544 - val_auc: 0.7893\n",
      "Epoch 167/200\n",
      "1/1 [==============================] - 0s 106ms/step - loss: 0.4538 - auc: 0.7923 - val_loss: 0.4539 - val_auc: 0.7900\n",
      "Epoch 168/200\n",
      "1/1 [==============================] - 0s 99ms/step - loss: 0.4533 - auc: 0.7930 - val_loss: 0.4534 - val_auc: 0.7906\n",
      "Epoch 169/200\n",
      "1/1 [==============================] - 0s 109ms/step - loss: 0.4528 - auc: 0.7937 - val_loss: 0.4529 - val_auc: 0.7913\n",
      "Epoch 170/200\n",
      "1/1 [==============================] - 0s 98ms/step - loss: 0.4523 - auc: 0.7943 - val_loss: 0.4524 - val_auc: 0.7919\n",
      "Epoch 171/200\n",
      "1/1 [==============================] - 0s 93ms/step - loss: 0.4518 - auc: 0.7950 - val_loss: 0.4518 - val_auc: 0.7926\n",
      "Epoch 172/200\n",
      "1/1 [==============================] - 0s 102ms/step - loss: 0.4513 - auc: 0.7957 - val_loss: 0.4513 - val_auc: 0.7933\n",
      "Epoch 173/200\n",
      "1/1 [==============================] - 0s 95ms/step - loss: 0.4507 - auc: 0.7963 - val_loss: 0.4508 - val_auc: 0.7939\n",
      "Epoch 174/200\n",
      "1/1 [==============================] - 0s 94ms/step - loss: 0.4502 - auc: 0.7970 - val_loss: 0.4503 - val_auc: 0.7945\n",
      "Epoch 175/200\n",
      "1/1 [==============================] - 0s 96ms/step - loss: 0.4497 - auc: 0.7976 - val_loss: 0.4498 - val_auc: 0.7952\n",
      "Epoch 176/200\n",
      "1/1 [==============================] - 0s 94ms/step - loss: 0.4492 - auc: 0.7983 - val_loss: 0.4493 - val_auc: 0.7958\n",
      "Epoch 177/200\n",
      "1/1 [==============================] - 0s 96ms/step - loss: 0.4487 - auc: 0.7989 - val_loss: 0.4488 - val_auc: 0.7965\n",
      "Epoch 178/200\n",
      "1/1 [==============================] - 0s 100ms/step - loss: 0.4482 - auc: 0.7995 - val_loss: 0.4483 - val_auc: 0.7972\n",
      "Epoch 179/200\n",
      "1/1 [==============================] - 0s 96ms/step - loss: 0.4476 - auc: 0.8002 - val_loss: 0.4477 - val_auc: 0.7978\n",
      "Epoch 180/200\n",
      "1/1 [==============================] - 0s 94ms/step - loss: 0.4471 - auc: 0.8008 - val_loss: 0.4472 - val_auc: 0.7984\n",
      "Epoch 181/200\n",
      "1/1 [==============================] - 0s 105ms/step - loss: 0.4466 - auc: 0.8015 - val_loss: 0.4467 - val_auc: 0.7991\n",
      "Epoch 182/200\n"
     ]
    },
    {
     "name": "stdout",
     "output_type": "stream",
     "text": [
      "1/1 [==============================] - 0s 98ms/step - loss: 0.4461 - auc: 0.8021 - val_loss: 0.4462 - val_auc: 0.7997\n",
      "Epoch 183/200\n",
      "1/1 [==============================] - 0s 106ms/step - loss: 0.4456 - auc: 0.8027 - val_loss: 0.4457 - val_auc: 0.8003\n",
      "Epoch 184/200\n",
      "1/1 [==============================] - 0s 94ms/step - loss: 0.4451 - auc: 0.8033 - val_loss: 0.4452 - val_auc: 0.8009\n",
      "Epoch 185/200\n",
      "1/1 [==============================] - 0s 94ms/step - loss: 0.4446 - auc: 0.8039 - val_loss: 0.4447 - val_auc: 0.8014\n",
      "Epoch 186/200\n",
      "1/1 [==============================] - 0s 93ms/step - loss: 0.4441 - auc: 0.8044 - val_loss: 0.4442 - val_auc: 0.8020\n",
      "Epoch 187/200\n",
      "1/1 [==============================] - 0s 88ms/step - loss: 0.4435 - auc: 0.8050 - val_loss: 0.4437 - val_auc: 0.8026\n",
      "Epoch 188/200\n",
      "1/1 [==============================] - 0s 94ms/step - loss: 0.4430 - auc: 0.8055 - val_loss: 0.4432 - val_auc: 0.8031\n",
      "Epoch 189/200\n",
      "1/1 [==============================] - 0s 96ms/step - loss: 0.4425 - auc: 0.8061 - val_loss: 0.4427 - val_auc: 0.8036\n",
      "Epoch 190/200\n",
      "1/1 [==============================] - 0s 92ms/step - loss: 0.4420 - auc: 0.8066 - val_loss: 0.4422 - val_auc: 0.8041\n",
      "Epoch 191/200\n",
      "1/1 [==============================] - 0s 94ms/step - loss: 0.4415 - auc: 0.8071 - val_loss: 0.4417 - val_auc: 0.8046\n",
      "Epoch 192/200\n",
      "1/1 [==============================] - 0s 93ms/step - loss: 0.4410 - auc: 0.8076 - val_loss: 0.4412 - val_auc: 0.8051\n",
      "Epoch 193/200\n",
      "1/1 [==============================] - 0s 88ms/step - loss: 0.4405 - auc: 0.8081 - val_loss: 0.4407 - val_auc: 0.8056\n",
      "Epoch 194/200\n",
      "1/1 [==============================] - 0s 95ms/step - loss: 0.4400 - auc: 0.8086 - val_loss: 0.4402 - val_auc: 0.8062\n",
      "Epoch 195/200\n",
      "1/1 [==============================] - 0s 97ms/step - loss: 0.4395 - auc: 0.8091 - val_loss: 0.4397 - val_auc: 0.8066\n",
      "Epoch 196/200\n",
      "1/1 [==============================] - 0s 95ms/step - loss: 0.4390 - auc: 0.8096 - val_loss: 0.4392 - val_auc: 0.8071\n",
      "Epoch 197/200\n",
      "1/1 [==============================] - 0s 97ms/step - loss: 0.4385 - auc: 0.8100 - val_loss: 0.4387 - val_auc: 0.8076\n",
      "Epoch 198/200\n",
      "1/1 [==============================] - 0s 110ms/step - loss: 0.4381 - auc: 0.8105 - val_loss: 0.4382 - val_auc: 0.8080\n",
      "Epoch 199/200\n",
      "1/1 [==============================] - 0s 98ms/step - loss: 0.4376 - auc: 0.8110 - val_loss: 0.4377 - val_auc: 0.8085\n",
      "Epoch 200/200\n",
      "1/1 [==============================] - 0s 103ms/step - loss: 0.4371 - auc: 0.8114 - val_loss: 0.4373 - val_auc: 0.8090\n"
     ]
    }
   ],
   "source": [
    "history = model.fit(X_train, y_train, epochs=200, validation_split=0.2, batch_size=X_train.shape[0],\n",
    "                    callbacks=keras.callbacks.EarlyStopping(monitor='val_loss', patience=3))"
   ]
  },
  {
   "cell_type": "code",
   "execution_count": 10,
   "metadata": {},
   "outputs": [
    {
     "data": {
      "image/png": "[encoded data removed]",
      "text/plain": [
       "<Figure size 936x504 with 1 Axes>"
      ]
     },
     "metadata": {
      "needs_background": "light"
     },
     "output_type": "display_data"
    }
   ],
   "source": [
    "plt.figure(figsize=(13, 7))\n",
    "train_loss = history.history['loss']\n",
    "val_loss = history.history['val_loss']\n",
    "plt.plot(train_loss)\n",
    "plt.plot(val_loss)\n",
    "plt.legend(['Train Loss', 'Val Loss'])\n",
    "pass"
   ]
  },
  {
   "cell_type": "code",
   "execution_count": 11,
   "metadata": {},
   "outputs": [],
   "source": [
    "model.save('First_model.h5')"
   ]
  },
  {
   "cell_type": "markdown",
   "metadata": {},
   "source": [
    "#### Добавим слоев"
   ]
  },
  {
   "cell_type": "code",
   "execution_count": 8,
   "metadata": {},
   "outputs": [],
   "source": [
    "keras.backend.clear_session()"
   ]
  },
  {
   "cell_type": "code",
   "execution_count": 9,
   "metadata": {},
   "outputs": [],
   "source": [
    "model = keras.Sequential([\n",
    "    keras.layers.Dense(64, activation='relu'),\n",
    "    keras.layers.Dense(128, activation='relu'),\n",
    "    keras.layers.Dense(1, activation='sigmoid')\n",
    "])\n",
    "model.compile(optimizer='adam',\n",
    "              loss='binary_crossentropy',\n",
    "              metrics=[keras.metrics.AUC()])"
   ]
  },
  {
   "cell_type": "code",
   "execution_count": 10,
   "metadata": {
    "scrolled": true
   },
   "outputs": [
    {
     "name": "stdout",
     "output_type": "stream",
     "text": [
      "Epoch 1/200\n",
      "WARNING:tensorflow:Layer dense is casting an input tensor from dtype float64 to the layer's dtype of float32, which is new behavior in TensorFlow 2.  The layer has dtype float32 because its dtype defaults to floatx.\n",
      "\n",
      "If you intended to run this layer in float32, you can safely ignore this warning. If in doubt, this warning is likely only an issue if you are porting a TensorFlow 1.X model to TensorFlow 2.\n",
      "\n",
      "To change all layers to have dtype float64 by default, call `tf.keras.backend.set_floatx('float64')`. To change just this layer, pass dtype='float64' to the layer constructor. If you are the author of this layer, you can disable autocasting by passing autocast=False to the base Layer constructor.\n",
      "\n",
      "89/89 [==============================] - 1s 9ms/step - loss: 0.5422 - auc: 0.6120 - val_loss: 0.5002 - val_auc: 0.7273\n",
      "Epoch 2/200\n",
      "89/89 [==============================] - 1s 6ms/step - loss: 0.4775 - auc: 0.7583 - val_loss: 0.4552 - val_auc: 0.7858\n",
      "Epoch 3/200\n",
      "89/89 [==============================] - 1s 7ms/step - loss: 0.4369 - auc: 0.8086 - val_loss: 0.4206 - val_auc: 0.8214\n",
      "Epoch 4/200\n",
      "89/89 [==============================] - 1s 6ms/step - loss: 0.4100 - auc: 0.8286 - val_loss: 0.4015 - val_auc: 0.8323\n",
      "Epoch 5/200\n",
      "89/89 [==============================] - 1s 6ms/step - loss: 0.3958 - auc: 0.8367 - val_loss: 0.3914 - val_auc: 0.8384\n",
      "Epoch 6/200\n",
      "89/89 [==============================] - 1s 7ms/step - loss: 0.3865 - auc: 0.8428 - val_loss: 0.3839 - val_auc: 0.8436\n",
      "Epoch 7/200\n",
      "89/89 [==============================] - 1s 6ms/step - loss: 0.3793 - auc: 0.8478 - val_loss: 0.3771 - val_auc: 0.8485\n",
      "Epoch 8/200\n",
      "89/89 [==============================] - 1s 7ms/step - loss: 0.3731 - auc: 0.8526 - val_loss: 0.3717 - val_auc: 0.8519\n",
      "Epoch 9/200\n",
      "89/89 [==============================] - 1s 6ms/step - loss: 0.3680 - auc: 0.8564 - val_loss: 0.3673 - val_auc: 0.8553\n",
      "Epoch 10/200\n",
      "89/89 [==============================] - 1s 6ms/step - loss: 0.3638 - auc: 0.8596 - val_loss: 0.3643 - val_auc: 0.8581\n",
      "Epoch 11/200\n",
      "89/89 [==============================] - 1s 7ms/step - loss: 0.3607 - auc: 0.8619 - val_loss: 0.3608 - val_auc: 0.8605\n",
      "Epoch 12/200\n",
      "89/89 [==============================] - 1s 6ms/step - loss: 0.3578 - auc: 0.8641 - val_loss: 0.3590 - val_auc: 0.8618\n",
      "Epoch 13/200\n",
      "89/89 [==============================] - 1s 7ms/step - loss: 0.3556 - auc: 0.8657 - val_loss: 0.3568 - val_auc: 0.8627\n",
      "Epoch 14/200\n",
      "89/89 [==============================] - 1s 6ms/step - loss: 0.3537 - auc: 0.8669 - val_loss: 0.3551 - val_auc: 0.8644\n",
      "Epoch 15/200\n",
      "89/89 [==============================] - 1s 7ms/step - loss: 0.3522 - auc: 0.8679 - val_loss: 0.3536 - val_auc: 0.8655\n",
      "Epoch 16/200\n",
      "89/89 [==============================] - 1s 7ms/step - loss: 0.3508 - auc: 0.8690 - val_loss: 0.3523 - val_auc: 0.8660\n",
      "Epoch 17/200\n",
      "89/89 [==============================] - 1s 7ms/step - loss: 0.3496 - auc: 0.8697 - val_loss: 0.3515 - val_auc: 0.8672\n",
      "Epoch 18/200\n",
      "89/89 [==============================] - 1s 7ms/step - loss: 0.3484 - auc: 0.8707 - val_loss: 0.3511 - val_auc: 0.8677\n",
      "Epoch 19/200\n",
      "89/89 [==============================] - 1s 7ms/step - loss: 0.3475 - auc: 0.8714 - val_loss: 0.3498 - val_auc: 0.8676\n",
      "Epoch 20/200\n",
      "89/89 [==============================] - 1s 7ms/step - loss: 0.3466 - auc: 0.8720 - val_loss: 0.3489 - val_auc: 0.8686\n",
      "Epoch 21/200\n",
      "89/89 [==============================] - 1s 7ms/step - loss: 0.3458 - auc: 0.8726 - val_loss: 0.3480 - val_auc: 0.8694\n",
      "Epoch 22/200\n",
      "89/89 [==============================] - 1s 8ms/step - loss: 0.3452 - auc: 0.8731 - val_loss: 0.3473 - val_auc: 0.8700\n",
      "Epoch 23/200\n",
      "89/89 [==============================] - 1s 7ms/step - loss: 0.3444 - auc: 0.8737 - val_loss: 0.3468 - val_auc: 0.8704\n",
      "Epoch 24/200\n",
      "89/89 [==============================] - 1s 7ms/step - loss: 0.3437 - auc: 0.8742 - val_loss: 0.3462 - val_auc: 0.8707\n",
      "Epoch 25/200\n",
      "89/89 [==============================] - 1s 6ms/step - loss: 0.3431 - auc: 0.8746 - val_loss: 0.3458 - val_auc: 0.8713\n",
      "Epoch 26/200\n",
      "89/89 [==============================] - 1s 7ms/step - loss: 0.3425 - auc: 0.8752 - val_loss: 0.3459 - val_auc: 0.8707\n",
      "Epoch 27/200\n",
      "89/89 [==============================] - 1s 7ms/step - loss: 0.3421 - auc: 0.8755 - val_loss: 0.3445 - val_auc: 0.8719\n",
      "Epoch 28/200\n",
      "89/89 [==============================] - 1s 7ms/step - loss: 0.3416 - auc: 0.8758 - val_loss: 0.3445 - val_auc: 0.8720\n",
      "Epoch 29/200\n",
      "89/89 [==============================] - 1s 7ms/step - loss: 0.3411 - auc: 0.8762 - val_loss: 0.3446 - val_auc: 0.8721\n",
      "Epoch 30/200\n",
      "89/89 [==============================] - 1s 7ms/step - loss: 0.3410 - auc: 0.8763 - val_loss: 0.3443 - val_auc: 0.8728\n",
      "Epoch 31/200\n",
      "89/89 [==============================] - 1s 7ms/step - loss: 0.3404 - auc: 0.8767 - val_loss: 0.3435 - val_auc: 0.8729\n",
      "Epoch 32/200\n",
      "89/89 [==============================] - 1s 8ms/step - loss: 0.3399 - auc: 0.8771 - val_loss: 0.3433 - val_auc: 0.8730\n",
      "Epoch 33/200\n",
      "89/89 [==============================] - 1s 8ms/step - loss: 0.3398 - auc: 0.8772 - val_loss: 0.3430 - val_auc: 0.8731\n",
      "Epoch 34/200\n",
      "89/89 [==============================] - 1s 7ms/step - loss: 0.3395 - auc: 0.8774 - val_loss: 0.3427 - val_auc: 0.8730\n",
      "Epoch 35/200\n",
      "89/89 [==============================] - 1s 8ms/step - loss: 0.3391 - auc: 0.8777 - val_loss: 0.3424 - val_auc: 0.8735\n",
      "Epoch 36/200\n",
      "89/89 [==============================] - 1s 7ms/step - loss: 0.3389 - auc: 0.8778 - val_loss: 0.3427 - val_auc: 0.8734\n",
      "Epoch 37/200\n",
      "89/89 [==============================] - 1s 8ms/step - loss: 0.3385 - auc: 0.8781 - val_loss: 0.3421 - val_auc: 0.8740\n",
      "Epoch 38/200\n",
      "89/89 [==============================] - 1s 7ms/step - loss: 0.3381 - auc: 0.8783 - val_loss: 0.3415 - val_auc: 0.8740\n",
      "Epoch 39/200\n",
      "89/89 [==============================] - 1s 7ms/step - loss: 0.3378 - auc: 0.8786 - val_loss: 0.3416 - val_auc: 0.8741\n",
      "Epoch 40/200\n",
      "89/89 [==============================] - 1s 7ms/step - loss: 0.3376 - auc: 0.8788 - val_loss: 0.3414 - val_auc: 0.8741\n",
      "Epoch 41/200\n",
      "89/89 [==============================] - 1s 9ms/step - loss: 0.3372 - auc: 0.8790 - val_loss: 0.3410 - val_auc: 0.8744\n",
      "Epoch 42/200\n",
      "89/89 [==============================] - 1s 8ms/step - loss: 0.3370 - auc: 0.8792 - val_loss: 0.3403 - val_auc: 0.8750\n",
      "Epoch 43/200\n",
      "89/89 [==============================] - 1s 8ms/step - loss: 0.3368 - auc: 0.8793 - val_loss: 0.3406 - val_auc: 0.8747\n",
      "Epoch 44/200\n",
      "89/89 [==============================] - 1s 9ms/step - loss: 0.3364 - auc: 0.8796 - val_loss: 0.3408 - val_auc: 0.8747\n",
      "Epoch 45/200\n",
      "89/89 [==============================] - 1s 8ms/step - loss: 0.3364 - auc: 0.8796 - val_loss: 0.3399 - val_auc: 0.8752\n",
      "Epoch 46/200\n",
      "89/89 [==============================] - 1s 9ms/step - loss: 0.3361 - auc: 0.8797 - val_loss: 0.3399 - val_auc: 0.8752\n",
      "Epoch 47/200\n",
      "89/89 [==============================] - 1s 8ms/step - loss: 0.3358 - auc: 0.8800 - val_loss: 0.3396 - val_auc: 0.8754\n",
      "Epoch 48/200\n",
      "89/89 [==============================] - 1s 8ms/step - loss: 0.3359 - auc: 0.8798 - val_loss: 0.3410 - val_auc: 0.8755\n",
      "Epoch 49/200\n",
      "89/89 [==============================] - 1s 8ms/step - loss: 0.3355 - auc: 0.8802 - val_loss: 0.3394 - val_auc: 0.8754\n",
      "Epoch 50/200\n",
      "89/89 [==============================] - 1s 8ms/step - loss: 0.3353 - auc: 0.8804 - val_loss: 0.3403 - val_auc: 0.8754\n",
      "Epoch 51/200\n",
      "89/89 [==============================] - 1s 8ms/step - loss: 0.3353 - auc: 0.8802 - val_loss: 0.3398 - val_auc: 0.8757\n",
      "Epoch 52/200\n",
      "89/89 [==============================] - 1s 7ms/step - loss: 0.3351 - auc: 0.8805 - val_loss: 0.3387 - val_auc: 0.8760\n",
      "Epoch 53/200\n",
      "89/89 [==============================] - 1s 8ms/step - loss: 0.3348 - auc: 0.8807 - val_loss: 0.3387 - val_auc: 0.8762\n",
      "Epoch 54/200\n",
      "89/89 [==============================] - 1s 7ms/step - loss: 0.3346 - auc: 0.8808 - val_loss: 0.3389 - val_auc: 0.8757\n",
      "Epoch 55/200\n",
      "89/89 [==============================] - 1s 7ms/step - loss: 0.3346 - auc: 0.8808 - val_loss: 0.3395 - val_auc: 0.8758\n",
      "Epoch 56/200\n",
      "89/89 [==============================] - 1s 7ms/step - loss: 0.3347 - auc: 0.8808 - val_loss: 0.3388 - val_auc: 0.8761\n"
     ]
    }
   ],
   "source": [
    "history = model.fit(X_train, y_train, epochs=200, validation_split=0.2, batch_size=2048,\n",
    "                    callbacks=keras.callbacks.EarlyStopping(monitor='val_loss', patience=3))"
   ]
  },
  {
   "cell_type": "code",
   "execution_count": 11,
   "metadata": {},
   "outputs": [
    {
     "data": {
      "image/png": "[encoded data removed]",
      "text/plain": [
       "<Figure size 936x504 with 1 Axes>"
      ]
     },
     "metadata": {
      "needs_background": "light"
     },
     "output_type": "display_data"
    }
   ],
   "source": [
    "plt.figure(figsize=(13, 7))\n",
    "train_loss = history.history['loss']\n",
    "val_loss = history.history['val_loss']\n",
    "plt.plot(train_loss)\n",
    "plt.plot(val_loss)\n",
    "plt.legend(['Train Loss', 'Val Loss'])\n",
    "pass"
   ]
  },
  {
   "cell_type": "code",
   "execution_count": 16,
   "metadata": {},
   "outputs": [],
   "source": [
    "model.save('Second_model.h5')"
   ]
  },
  {
   "cell_type": "markdown",
   "metadata": {},
   "source": [
    "#### Попробуем по батчам + Dropout + BatchNorm"
   ]
  },
  {
   "cell_type": "code",
   "execution_count": 17,
   "metadata": {},
   "outputs": [],
   "source": [
    "keras.backend.clear_session()"
   ]
  },
  {
   "cell_type": "code",
   "execution_count": 18,
   "metadata": {},
   "outputs": [],
   "source": [
    "model = keras.Sequential([\n",
    "    keras.layers.BatchNormalization(),\n",
    "    keras.layers.Dropout(0.2),\n",
    "    keras.layers.Dense(64, activation='relu'),\n",
    "    keras.layers.Dense(128, activation='relu'),\n",
    "    keras.layers.Dense(32, activation='relu'),\n",
    "    keras.layers.Dense(1, activation='sigmoid')\n",
    "])\n",
    "model.compile(optimizer='adam',\n",
    "              loss='binary_crossentropy',\n",
    "              metrics=[keras.metrics.AUC()])"
   ]
  },
  {
   "cell_type": "code",
   "execution_count": 19,
   "metadata": {},
   "outputs": [
    {
     "name": "stdout",
     "output_type": "stream",
     "text": [
      "Epoch 1/200\n",
      "WARNING:tensorflow:Layer batch_normalization is casting an input tensor from dtype float64 to the layer's dtype of float32, which is new behavior in TensorFlow 2.  The layer has dtype float32 because its dtype defaults to floatx.\n",
      "\n",
      "If you intended to run this layer in float32, you can safely ignore this warning. If in doubt, this warning is likely only an issue if you are porting a TensorFlow 1.X model to TensorFlow 2.\n",
      "\n",
      "To change all layers to have dtype float64 by default, call `tf.keras.backend.set_floatx('float64')`. To change just this layer, pass dtype='float64' to the layer constructor. If you are the author of this layer, you can disable autocasting by passing autocast=False to the base Layer constructor.\n",
      "\n",
      "177/177 [==============================] - 1s 6ms/step - loss: 0.4463 - auc: 0.7803 - val_loss: 0.4427 - val_auc: 0.8215\n",
      "Epoch 2/200\n",
      "177/177 [==============================] - 1s 4ms/step - loss: 0.3988 - auc: 0.8283 - val_loss: 0.3927 - val_auc: 0.8568\n",
      "Epoch 3/200\n",
      "177/177 [==============================] - 1s 4ms/step - loss: 0.3892 - auc: 0.8383 - val_loss: 0.3634 - val_auc: 0.8647\n",
      "Epoch 4/200\n",
      "177/177 [==============================] - 1s 4ms/step - loss: 0.3843 - auc: 0.8425 - val_loss: 0.3576 - val_auc: 0.8667\n",
      "Epoch 5/200\n",
      "177/177 [==============================] - 1s 4ms/step - loss: 0.3815 - auc: 0.8448 - val_loss: 0.3589 - val_auc: 0.8664\n",
      "Epoch 6/200\n",
      "177/177 [==============================] - 1s 4ms/step - loss: 0.3776 - auc: 0.8478 - val_loss: 0.3505 - val_auc: 0.8707\n"
     ]
    }
   ],
   "source": [
    "history = model.fit(X_train, y_train, epochs=200, validation_split=0.2, batch_size=1024,\n",
    "                    callbacks=keras.callbacks.EarlyStopping(monitor='val_auc', patience=5))"
   ]
  },
  {
   "cell_type": "code",
   "execution_count": 20,
   "metadata": {},
   "outputs": [
    {
     "data": {
      "image/png": "[encoded data removed]",
      "text/plain": [
       "<Figure size 936x504 with 1 Axes>"
      ]
     },
     "metadata": {
      "needs_background": "light"
     },
     "output_type": "display_data"
    }
   ],
   "source": [
    "plt.figure(figsize=(13, 7))\n",
    "train_loss = history.history['loss']\n",
    "val_loss = history.history['val_loss']\n",
    "plt.plot(train_loss)\n",
    "plt.plot(val_loss)\n",
    "plt.legend(['Train Loss', 'Val Loss'])\n",
    "pass"
   ]
  },
  {
   "cell_type": "code",
   "execution_count": 21,
   "metadata": {},
   "outputs": [],
   "source": [
    "model.save('Third_model.h5')"
   ]
  },
  {
   "cell_type": "markdown",
   "metadata": {},
   "source": [
    "Вообще неплохо, давайте на другие метрики на тесте посмотрим, хотя без разницы сколько слоев, по батчам только быстрее обучать выходит, что логично, затем gpu и нужен"
   ]
  },
  {
   "cell_type": "code",
   "execution_count": 47,
   "metadata": {},
   "outputs": [],
   "source": [
    "from sklearn.metrics import accuracy_score, precision_score, confusion_matrix, f1_score, recall_score, roc_auc_score"
   ]
  },
  {
   "cell_type": "code",
   "execution_count": 48,
   "metadata": {},
   "outputs": [],
   "source": [
    "model = keras.models.load_model('Second_model.h5')"
   ]
  },
  {
   "cell_type": "code",
   "execution_count": 49,
   "metadata": {},
   "outputs": [],
   "source": [
    "y_pred = (model.predict(X_test) > 0.5).astype(np.int)"
   ]
  },
  {
   "cell_type": "code",
   "execution_count": 50,
   "metadata": {
    "scrolled": true
   },
   "outputs": [
    {
     "name": "stdout",
     "output_type": "stream",
     "text": [
      "Test Scores\n",
      "Accuracy: 0.86, Precision: 0.89, Recall: 0.94, F1: 0.91, Roc_Auc: 0.78\n"
     ]
    }
   ],
   "source": [
    "accuracy = round(accuracy_score(y_test, y_pred), 2)\n",
    "precision = round(precision_score(y_test, y_pred), 2)\n",
    "recall = round(recall_score(y_test, y_pred), 2)\n",
    "f1 = round(f1_score(y_test, y_pred), 2)\n",
    "roc_auc = round(roc_auc_score(y_test, y_pred), 2)\n",
    "print('Test Scores')\n",
    "print('Accuracy: {}, Precision: {}, Recall: {}, F1: {}, Roc_Auc: {}'.format(accuracy, precision, recall, f1, roc_auc))"
   ]
  },
  {
   "cell_type": "markdown",
   "metadata": {},
   "source": [
    "В целом меня удовлетворяет полученное качество, с этим можно играться и дальше улучшать модель (в нейронках куда больше параметров чем в условном KNN), но не очень понятно зачем"
   ]
  },
  {
   "cell_type": "code",
   "execution_count": null,
   "metadata": {},
   "outputs": [],
   "source": []
  },
  {
   "cell_type": "code",
   "execution_count": null,
   "metadata": {},
   "outputs": [],
   "source": []
  }
 ],
 "metadata": {
  "kernelspec": {
   "display_name": "Python 3",
   "language": "python",
   "name": "python3"
  },
  "language_info": {
   "codemirror_mode": {
    "name": "ipython",
    "version": 3
   },
   "file_extension": ".py",
   "mimetype": "text/x-python",
   "name": "python",
   "nbconvert_exporter": "python",
   "pygments_lexer": "ipython3",
   "version": "3.8.5"
  }
 },
 "nbformat": 4,
 "nbformat_minor": 4
}
